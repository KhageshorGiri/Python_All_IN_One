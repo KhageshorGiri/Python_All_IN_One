{
 "cells": [
  {
   "cell_type": "code",
   "execution_count": 15,
   "id": "2de7908a-1fc7-44e8-9283-0ae3112f72de",
   "metadata": {},
   "outputs": [
    {
     "name": "stdin",
     "output_type": "stream",
     "text": [
      "Enter any year:  2000\n"
     ]
    },
    {
     "name": "stdout",
     "output_type": "stream",
     "text": [
      "Leap Year\n"
     ]
    }
   ],
   "source": [
    "# Write a Python Program to Check Leap Year?\n",
    "\n",
    "year = int(input(\"Enter any year: \"))\n",
    "if (year % 4 == 0 and year % 100 != 0) or year % 400 == 0:\n",
    "    print(\"Leap Year\")\n",
    "else:\n",
    "    print(\"Not a leap year.\")"
   ]
  },
  {
   "cell_type": "code",
   "execution_count": 37,
   "id": "0001a5c8-7955-40c6-bf21-b64d95010b85",
   "metadata": {},
   "outputs": [
    {
     "name": "stdin",
     "output_type": "stream",
     "text": [
      "Enter any number:  7\n"
     ]
    },
    {
     "name": "stdout",
     "output_type": "stream",
     "text": [
      "2\n",
      "3\n",
      "4\n",
      "Prime\n"
     ]
    }
   ],
   "source": [
    "# Write a Python Program to Check Prime Number?\n",
    "\n",
    "number = int(input(\"Enter any number: \"))\n",
    "if number <= 0:\n",
    "    print(\"Please Enter a positive number\")\n",
    "elif number == 1:\n",
    "    print(\"Nither prime nor composite.\")\n",
    "else:\n",
    "    prime = True\n",
    "    for i in range(2, int(number/2)+2):\n",
    "        print(i)\n",
    "        if number % i == 0:\n",
    "            prime = False\n",
    "            break\n",
    "    if prime == True:\n",
    "        print(\"Prime\")\n",
    "    else:\n",
    "        print(\"Not Prime\")"
   ]
  },
  {
   "cell_type": "code",
   "execution_count": 45,
   "id": "711b2076-f675-4b10-8d8e-195ed75b5098",
   "metadata": {},
   "outputs": [
    {
     "name": "stdin",
     "output_type": "stream",
     "text": [
      "Enter the range of interval 2 20\n"
     ]
    },
    {
     "name": "stdout",
     "output_type": "stream",
     "text": [
      "3\n",
      "5\n",
      "7\n",
      "11\n",
      "13\n",
      "17\n",
      "19\n"
     ]
    }
   ],
   "source": [
    "# Write a Python Program to Print all Prime Numbers in an Interval?\n",
    "\n",
    "start, end = input(\"Enter the range of interval\").split()\n",
    "\n",
    "for number in range(int(start), int(end)+1):\n",
    "    if number <= 0:\n",
    "        print(\"Please Enter a positive number\")\n",
    "    elif number == 1:\n",
    "        print(\"Nither prime nor composite.\")\n",
    "    else:\n",
    "        prime = True\n",
    "        for i in range(2, int(number/2)+2):\n",
    "            if number % i == 0:\n",
    "                prime = False\n",
    "                break\n",
    "        if prime == True:\n",
    "            print(number)"
   ]
  },
  {
   "cell_type": "code",
   "execution_count": 54,
   "id": "bd246868-c6c5-4102-b60c-0a6d5ecbc1a7",
   "metadata": {},
   "outputs": [
    {
     "name": "stdin",
     "output_type": "stream",
     "text": [
      "Enter any number:  5\n"
     ]
    },
    {
     "name": "stdout",
     "output_type": "stream",
     "text": [
      "5! = 120\n"
     ]
    }
   ],
   "source": [
    "# Write a Python Program to Find the Factorial of a Number?\n",
    "# 5! = 5*4*3*2*1 = 120\n",
    "\n",
    "number = int(input(\"Enter any number: \"))\n",
    "fact = 1\n",
    "for i in range(number, 0, -1):\n",
    "    fact = fact * i\n",
    "    \n",
    "print(f\"{number}! = {fact}\")"
   ]
  },
  {
   "cell_type": "code",
   "execution_count": 55,
   "id": "3c3910f1-4d96-4852-8789-8a8c489fec7e",
   "metadata": {},
   "outputs": [
    {
     "name": "stdin",
     "output_type": "stream",
     "text": [
      "For which number do you want to generate multiplication table:  4\n"
     ]
    },
    {
     "name": "stdout",
     "output_type": "stream",
     "text": [
      "4*1 = 4\n",
      "4*2 = 8\n",
      "4*3 = 12\n",
      "4*4 = 16\n",
      "4*5 = 20\n",
      "4*6 = 24\n",
      "4*7 = 28\n",
      "4*8 = 32\n",
      "4*9 = 36\n",
      "4*10 = 40\n"
     ]
    }
   ],
   "source": [
    "# Write a Python Program to Display the multiplication Table?\n",
    "\n",
    "n = int(input(\"For which number do you want to generate multiplication table: \"))\n",
    "\n",
    "for i in range(1, 11):\n",
    "    print(f\"{n}*{i} = {n*i}\")"
   ]
  },
  {
   "cell_type": "code",
   "execution_count": 6,
   "id": "aaafd001-c75c-45d4-90d7-d7b988a1fcfc",
   "metadata": {},
   "outputs": [],
   "source": [
    "# Write a Python Program to Print the Fibonacci sequence?"
   ]
  },
  {
   "cell_type": "code",
   "execution_count": 58,
   "id": "5553fc15-da88-47e4-82c2-6435ea742c2a",
   "metadata": {},
   "outputs": [
    {
     "name": "stdin",
     "output_type": "stream",
     "text": [
      "Enter the number you want to check for armstrong:  371\n"
     ]
    },
    {
     "name": "stdout",
     "output_type": "stream",
     "text": [
      "Armstrong\n"
     ]
    }
   ],
   "source": [
    "# Write a Python Program to Check Armstrong Number?\n",
    "import math\n",
    "number = int(input(\"Enter the number you want to check for armstrong: \"))\n",
    "n = number \n",
    "value = 0\n",
    "while n!=0:\n",
    "    digit = n%10\n",
    "    n = n//10\n",
    "    value = value + pow(digit, 3)\n",
    "if number == value:\n",
    "    print(\"Armstrong\")\n",
    "else:\n",
    "    print(\"Not Armstrong\")"
   ]
  },
  {
   "cell_type": "code",
   "execution_count": 61,
   "id": "d116cfc9-3d8f-475a-b542-e857713bda33",
   "metadata": {},
   "outputs": [
    {
     "name": "stdin",
     "output_type": "stream",
     "text": [
      "Enter the inverval:  300 400\n"
     ]
    },
    {
     "name": "stdout",
     "output_type": "stream",
     "text": [
      "370\n",
      "371\n"
     ]
    }
   ],
   "source": [
    "# Write a Python Program to Find Armstrong Number in an Interval?\n",
    "\n",
    "start, end = input(\"Enter the inverval: \").split()\n",
    "for number in range(int(start), int(end)+1):\n",
    "    n = number \n",
    "    value = 0\n",
    "    while n!=0:\n",
    "        digit = n%10\n",
    "        n = n//10\n",
    "        value = value + pow(digit, 3)\n",
    "    if number == value:\n",
    "        print(number)"
   ]
  },
  {
   "cell_type": "code",
   "execution_count": 57,
   "id": "1d5195e9-b783-4a37-b000-300a876cfcf7",
   "metadata": {},
   "outputs": [
    {
     "name": "stdin",
     "output_type": "stream",
     "text": [
      "For how many number do you want to get the sum?  5\n"
     ]
    },
    {
     "name": "stdout",
     "output_type": "stream",
     "text": [
      "The sum of first 5 natural number is 15.0\n"
     ]
    }
   ],
   "source": [
    "# Write a Python Program to Find the Sum of Natural Numbers?\n",
    "n = int(input(\"For how many number do you want to get the sum? \"))\n",
    "addition = (n * (n+1) / 2)\n",
    "print(f\"The sum of first {n} natural number is {addition}\")"
   ]
  },
  {
   "cell_type": "code",
   "execution_count": 64,
   "id": "1fead657-de02-4e8a-9f9f-185a2ae4b155",
   "metadata": {},
   "outputs": [
    {
     "name": "stdin",
     "output_type": "stream",
     "text": [
      "First Number:  8\n",
      "Second Number:  12\n"
     ]
    },
    {
     "name": "stdout",
     "output_type": "stream",
     "text": [
      "L.C.M = 24\n"
     ]
    }
   ],
   "source": [
    "# Write a Python Program to Find LCM?\n",
    "\n",
    "firstNumber = int(input(\"First Number: \"))\n",
    "secondNumber = int(input(\"Second Number: \"))\n",
    "product = firstNumber * secondNumber\n",
    "for lcm in range(1, product+1):\n",
    "    if lcm % firstNumber == 0 and lcm % secondNumber == 0:\n",
    "        print(\"L.C.M =\", lcm)\n",
    "        break"
   ]
  },
  {
   "cell_type": "code",
   "execution_count": 63,
   "id": "3783bcbc-ad3c-460e-be91-088c6db897df",
   "metadata": {},
   "outputs": [
    {
     "name": "stdin",
     "output_type": "stream",
     "text": [
      "First Number:  12\n",
      "Second Number:  8\n"
     ]
    },
    {
     "name": "stdout",
     "output_type": "stream",
     "text": [
      "H.C.F = 4\n"
     ]
    }
   ],
   "source": [
    "# Write a Python Program to Find HCF?\n",
    "\n",
    "firstNumber = int(input(\"First Number: \"))\n",
    "secondNumber = int(input(\"Second Number: \"))\n",
    "smallest = 0\n",
    "if firstNumber > secondNumber:\n",
    "    smallest = firstNumber\n",
    "else:\n",
    "    smallest = secondNumber\n",
    "for factor in range(smallest, 0, -1):\n",
    "    if firstNumber % factor == 0 and secondNumber % factor == 0:\n",
    "        print(\"H.C.F =\", factor)\n",
    "        break"
   ]
  },
  {
   "cell_type": "code",
   "execution_count": 12,
   "id": "0b6d1db9-f4c9-4a5a-b574-308dd2d0ac4d",
   "metadata": {},
   "outputs": [],
   "source": [
    "# Write a Python Program to Convert Decimal to Binary, Octal and Hexadecimal?"
   ]
  },
  {
   "cell_type": "code",
   "execution_count": 13,
   "id": "6703c1bc-ba6b-4005-8848-84e899b0700e",
   "metadata": {},
   "outputs": [],
   "source": [
    "# Write a Python Program To Find ASCII value of a character?"
   ]
  },
  {
   "cell_type": "code",
   "execution_count": 14,
   "id": "b00c1a78-7a8f-4d62-b0e5-2f4c75389b62",
   "metadata": {},
   "outputs": [],
   "source": [
    "# Write a Python Program to Make a Simple Calculator with 4 basic mathematical operations?"
   ]
  },
  {
   "cell_type": "code",
   "execution_count": null,
   "id": "0c6ad28e-c2c1-459b-968b-0ceab9ef7b7d",
   "metadata": {},
   "outputs": [],
   "source": []
  }
 ],
 "metadata": {
  "kernelspec": {
   "display_name": "Python 3 (ipykernel)",
   "language": "python",
   "name": "python3"
  },
  "language_info": {
   "codemirror_mode": {
    "name": "ipython",
    "version": 3
   },
   "file_extension": ".py",
   "mimetype": "text/x-python",
   "name": "python",
   "nbconvert_exporter": "python",
   "pygments_lexer": "ipython3",
   "version": "3.10.8"
  }
 },
 "nbformat": 4,
 "nbformat_minor": 5
}
