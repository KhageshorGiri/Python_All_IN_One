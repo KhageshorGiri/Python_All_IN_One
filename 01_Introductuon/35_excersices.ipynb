{
 "cells": [
  {
   "cell_type": "code",
   "execution_count": 2,
   "id": "6698da9f-07a5-45f4-bf00-2bd2181e4da6",
   "metadata": {},
   "outputs": [
    {
     "name": "stdin",
     "output_type": "stream",
     "text": [
      "Enter any number 3\n"
     ]
    },
    {
     "name": "stdout",
     "output_type": "stream",
     "text": [
      "The given number 3 is not even\n"
     ]
    }
   ],
   "source": [
    "### 1. Python program to check whether the given number is even or not.\n",
    "\n",
    "number = int(input('Enter any number'))\n",
    "if number%2 == 0:\n",
    "    print(f\"The given number {number} is even\")\n",
    "else:\n",
    "    print(f\"The given number {number} is not even\")"
   ]
  },
  {
   "cell_type": "code",
   "execution_count": 3,
   "id": "89afa5c3-4ea8-430e-b6d8-98ca8ade5e80",
   "metadata": {},
   "outputs": [
    {
     "name": "stdin",
     "output_type": "stream",
     "text": [
      "Enter temprature in centigrade 30\n"
     ]
    },
    {
     "name": "stdout",
     "output_type": "stream",
     "text": [
      "30.0 centigrade is equal to 86.0 fahrenheit\n"
     ]
    }
   ],
   "source": [
    "### 2. Python program to convert the temperature in degree centigrade to Fahrenheit\n",
    "temp = float(input(\"Enter temprature in centigrade\"))\n",
    "temp_f = ((temp * 9) / 5) + 32\n",
    "print(f\"{temp} centigrade is equal to {temp_f} fahrenheit\")"
   ]
  },
  {
   "cell_type": "code",
   "execution_count": 4,
   "id": "3c6d784f-44e5-48e4-a001-0bb1b03a825b",
   "metadata": {},
   "outputs": [
    {
     "name": "stdin",
     "output_type": "stream",
     "text": [
      "Enter first side of trindgle: 2\n",
      "Enter second side of trindgle: 3\n",
      "Enter third side of trindgle: 4\n"
     ]
    },
    {
     "name": "stdout",
     "output_type": "stream",
     "text": [
      "The area of tringle having sides 2.0,3.0 and 4.0 is 8.4375\n"
     ]
    }
   ],
   "source": [
    "### 3. Python program to find the area of a triangle whose sides are given\n",
    "a = float(input(\"Enter first side of trindgle:\"))\n",
    "b = float(input(\"Enter second side of trindgle:\"))\n",
    "c = float(input(\"Enter third side of trindgle:\"))\n",
    "\n",
    "s = (a+b+c)/2\n",
    "\n",
    "area = s*(s-a)*(s-b)*(s-c)\n",
    "\n",
    "print(f\"The area of tringle having sides {a},{b} and {c} is {area}\")"
   ]
  },
  {
   "cell_type": "code",
   "execution_count": 12,
   "id": "1b9ff155-cbf0-4120-86f7-9f7a4300e8db",
   "metadata": {},
   "outputs": [
    {
     "name": "stdin",
     "output_type": "stream",
     "text": [
      "Enter the range of integers: 3\n"
     ]
    },
    {
     "name": "stdout",
     "output_type": "stream",
     "text": [
      "1 1 1\n",
      "2 3 2\n",
      "3 6 3\n",
      "The average value for given set of integers is 2.0\n"
     ]
    }
   ],
   "source": [
    "### 4. Python program to find out the average of a set of integers\n",
    "\n",
    "n = int(input(\"Enter the range of integers:\"))\n",
    "count = 0\n",
    "add = 0\n",
    "for i in range(1,n+1):\n",
    "    add = add + i\n",
    "    count += 1\n",
    "    print(i,add, count)\n",
    "avg = add / count\n",
    "\n",
    "print(f\"The average value for given set of integers is {avg}\")"
   ]
  },
  {
   "cell_type": "code",
   "execution_count": 14,
   "id": "b434276e-89c3-44a8-bfa3-ab47fa911eb8",
   "metadata": {},
   "outputs": [
    {
     "name": "stdin",
     "output_type": "stream",
     "text": [
      "For how many number do you want to get product: 3\n",
      "Enter your number:  2\n",
      "Enter your number:  4\n",
      "Enter your number:  5\n"
     ]
    },
    {
     "name": "stdout",
     "output_type": "stream",
     "text": [
      "40.0\n"
     ]
    }
   ],
   "source": [
    "### 5. Python program to find the product of a set of real numbers\n",
    "n = int(input(\"For how many number do you want to get product:\"))\n",
    "product = 1\n",
    "for i in range(count):\n",
    "    number = float(input(\"Enter your number: \"))\n",
    "    product = product * number\n",
    "print(product)"
   ]
  },
  {
   "cell_type": "code",
   "execution_count": 16,
   "id": "145ee4ee-9d99-496a-acbe-652b1a7f61ee",
   "metadata": {},
   "outputs": [
    {
     "name": "stdout",
     "output_type": "stream",
     "text": [
      "The Circumferemce and area of circle having radius 3.5 are 38.48451000647496 and 21.991148575128552 respectively.\n"
     ]
    }
   ],
   "source": [
    "### 6. Python program to find the circumference and area of a circle with a given radius\n",
    "import math\n",
    "radius = 3.5\n",
    "pi = math.pi\n",
    "area = pi * radius * radius\n",
    "circumference = 2 * pi * radius\n",
    "print(f\"The Circumferemce and area of circle having radius {radius} are {area} and {circumference} respectively.\")"
   ]
  },
  {
   "cell_type": "code",
   "execution_count": 19,
   "id": "a13cf27f-72ce-4b2a-976e-2f23853112f4",
   "metadata": {},
   "outputs": [
    {
     "name": "stdin",
     "output_type": "stream",
     "text": [
      "Enter any number:  5\n"
     ]
    },
    {
     "name": "stdout",
     "output_type": "stream",
     "text": [
      "True\n"
     ]
    }
   ],
   "source": [
    "### 7. Python program to check whether the given integer is a multiple of 5\n",
    "number = int(input(\"Enter any number: \"))\n",
    "if number%5 == 0:\n",
    "    print(\"True\")\n",
    "else:\n",
    "    print(\"False\")"
   ]
  },
  {
   "cell_type": "code",
   "execution_count": 20,
   "id": "49644d7c-641c-47d5-8c62-80b577e790b5",
   "metadata": {},
   "outputs": [
    {
     "name": "stdin",
     "output_type": "stream",
     "text": [
      "Enter any number:  40\n"
     ]
    },
    {
     "name": "stdout",
     "output_type": "stream",
     "text": [
      "False\n"
     ]
    }
   ],
   "source": [
    "### 8. Python program to check whether the given integer is a multiple of both 5 and 7\n",
    "number = int(input(\"Enter any number: \"))\n",
    "if number%5 == 0 and number%7==0:\n",
    "    print(\"True\")\n",
    "else:\n",
    "    print(\"False\")"
   ]
  },
  {
   "cell_type": "code",
   "execution_count": 24,
   "id": "432c65a2-1841-4239-8e83-fce149567b2e",
   "metadata": {},
   "outputs": [
    {
     "name": "stdout",
     "output_type": "stream",
     "text": [
      "1 0\n",
      "2 1\n",
      "3 3\n",
      "4 6\n",
      "5 10\n",
      "6 15\n",
      "7 21\n",
      "8 28\n",
      "9 36\n",
      "10 45\n",
      "4.5\n"
     ]
    }
   ],
   "source": [
    "### 9. Python program to find the average of 10 numbers using while loop\n",
    "count = 0\n",
    "addition = 0\n",
    "while count < 10:\n",
    "    addition = count + addition\n",
    "    count += 1\n",
    "    print(count, addition)\n",
    "avg = addition / count\n",
    "print(avg)"
   ]
  },
  {
   "cell_type": "code",
   "execution_count": 34,
   "id": "f3c48744-e888-40e0-8101-dbec486b53d1",
   "metadata": {},
   "outputs": [
    {
     "name": "stdin",
     "output_type": "stream",
     "text": [
      "Enter your number: 1234\n"
     ]
    },
    {
     "name": "stdout",
     "output_type": "stream",
     "text": [
      "4 4 123\n",
      "3 43 12\n",
      "2 432 1\n",
      "1 4321 0\n",
      "The reverse of 0 is 4321\n"
     ]
    }
   ],
   "source": [
    "### 10. Python program to display the given integer in reverse manner\n",
    "number = int(input('Enter your number:'))\n",
    "reverse = 0\n",
    "for i in range(len(str(number))):\n",
    "    reminder = number%10\n",
    "    reverse = (reverse * 10) + reminder\n",
    "    number = number // 10\n",
    "    print(reminder, reverse, number)\n",
    "print(f\"The reverse of {number} is {reverse}\")"
   ]
  },
  {
   "cell_type": "code",
   "execution_count": null,
   "id": "27f6c67d-98db-4e9a-ac90-f9e6417ab466",
   "metadata": {},
   "outputs": [],
   "source": [
    "### 11. Python program to find the geometric mean of n numbers"
   ]
  },
  {
   "cell_type": "code",
   "execution_count": null,
   "id": "761992b7-1578-496c-9185-8cef24a32d95",
   "metadata": {},
   "outputs": [],
   "source": [
    "### 12. Python program to find the sum of the digits of an integer using while loop"
   ]
  },
  {
   "cell_type": "code",
   "execution_count": null,
   "id": "ef55a2a9-387b-4220-ad73-37b4dc1bb27e",
   "metadata": {},
   "outputs": [],
   "source": [
    "### 13. Python program to display all the multiples of 3 within the range 10 to 50"
   ]
  },
  {
   "cell_type": "code",
   "execution_count": null,
   "id": "a7f3006f-8acb-45cd-9e35-5003937ae459",
   "metadata": {},
   "outputs": [],
   "source": [
    "### 14. Python program to display all integers within the range 100-200 whose sum of digits is an even number"
   ]
  },
  {
   "cell_type": "code",
   "execution_count": null,
   "id": "43bb7cf1-2776-43d8-ad9e-4ca91b45d753",
   "metadata": {},
   "outputs": [],
   "source": [
    "### 15. Python program to check whether the given integer is a prime number or not"
   ]
  },
  {
   "cell_type": "code",
   "execution_count": null,
   "id": "e4627562-1ff7-405c-9d6a-0e9ca66e9e34",
   "metadata": {},
   "outputs": [],
   "source": [
    "### 16. Python program to generate the prime numbers from 1 to N"
   ]
  },
  {
   "cell_type": "code",
   "execution_count": null,
   "id": "236d8030-bd85-43c5-a9aa-349285ce6a7e",
   "metadata": {},
   "outputs": [],
   "source": [
    "### 17. Python program to find the roots of a quadratic equation"
   ]
  },
  {
   "cell_type": "code",
   "execution_count": null,
   "id": "088a600a-365b-40aa-90ef-6cbfa84f9709",
   "metadata": {},
   "outputs": [],
   "source": [
    "### 18. Python program to print the numbers from a given number n till 0 using recursion"
   ]
  },
  {
   "cell_type": "code",
   "execution_count": null,
   "id": "50641cf1-ba69-45e2-a0d8-8be8543368d5",
   "metadata": {},
   "outputs": [],
   "source": [
    "### 19. Python program to find the factorial of a number using recursion"
   ]
  },
  {
   "cell_type": "code",
   "execution_count": null,
   "id": "18d71ad1-181e-47c0-9d21-4944eb60f69f",
   "metadata": {},
   "outputs": [],
   "source": [
    "### 20. Python program to display the sum of n numbers using a list"
   ]
  },
  {
   "cell_type": "code",
   "execution_count": null,
   "id": "de22f0ef-7d2b-475c-b2bb-f6c49928cb5b",
   "metadata": {},
   "outputs": [],
   "source": [
    "### 21. Python program to implement linear search"
   ]
  },
  {
   "cell_type": "code",
   "execution_count": null,
   "id": "02ef0500-c264-49a4-b4fa-35194aea7c48",
   "metadata": {},
   "outputs": [],
   "source": [
    "### 22. Python program to implement binary search"
   ]
  },
  {
   "cell_type": "code",
   "execution_count": null,
   "id": "9888d385-6ebb-4714-8f17-17865b75e046",
   "metadata": {},
   "outputs": [],
   "source": [
    "### 23. Python program to find the odd numbers in an array"
   ]
  },
  {
   "cell_type": "code",
   "execution_count": null,
   "id": "bff93923-1fc7-462e-b3f1-69724d32072a",
   "metadata": {},
   "outputs": [],
   "source": [
    "### 24. Python program to find the largest number in a list without using built-in functions"
   ]
  },
  {
   "cell_type": "code",
   "execution_count": null,
   "id": "b4b4dafd-5d6d-4413-94a6-de9b065c3992",
   "metadata": {},
   "outputs": [],
   "source": [
    "### 25. Python program to insert a number to any position in a list"
   ]
  },
  {
   "cell_type": "code",
   "execution_count": null,
   "id": "cef407c9-0043-4d43-a053-aa9c2659c995",
   "metadata": {},
   "outputs": [],
   "source": [
    "### 26. Python program to delete an element from a list by index"
   ]
  },
  {
   "cell_type": "code",
   "execution_count": null,
   "id": "1c173eaa-9da2-4ec5-9f7e-dae9ba915ca0",
   "metadata": {},
   "outputs": [],
   "source": [
    "### 27. Python program to check whether a string is palindrome or not"
   ]
  },
  {
   "cell_type": "code",
   "execution_count": null,
   "id": "6b852222-d67d-4bf3-9066-6de8d9b2566b",
   "metadata": {},
   "outputs": [],
   "source": [
    "### 28. Python program to implement matrix addition"
   ]
  },
  {
   "cell_type": "code",
   "execution_count": null,
   "id": "35756675-4238-49e2-bf8c-d78ee3f0dd4e",
   "metadata": {},
   "outputs": [],
   "source": [
    "### 29. Python program to implement matrix multiplication"
   ]
  },
  {
   "cell_type": "code",
   "execution_count": null,
   "id": "336b87f8-6fce-49f0-83b2-07be4e14176d",
   "metadata": {},
   "outputs": [],
   "source": [
    "### 30. Python program to check leap year"
   ]
  },
  {
   "cell_type": "code",
   "execution_count": null,
   "id": "fc5c60b3-0c16-40d7-b460-d93d17610539",
   "metadata": {},
   "outputs": [],
   "source": [
    "### 31. Python program to find the Nth term in a Fibonacci series using recursion"
   ]
  },
  {
   "cell_type": "code",
   "execution_count": null,
   "id": "1d98c370-f140-4fb8-b8f4-634a2e6a6fca",
   "metadata": {},
   "outputs": [],
   "source": [
    "### 32. Python program to print Fibonacci series using iteration"
   ]
  },
  {
   "cell_type": "code",
   "execution_count": null,
   "id": "1ff36c3c-b75d-44c7-96fc-7e4f731fa2d6",
   "metadata": {},
   "outputs": [],
   "source": [
    "### 33. Python program to print all the items in a dictionary"
   ]
  },
  {
   "cell_type": "code",
   "execution_count": null,
   "id": "b1be488d-692c-481b-975a-0d635e8e52d5",
   "metadata": {},
   "outputs": [],
   "source": [
    "### 34. Python program to implement a calculator to do basic operations"
   ]
  },
  {
   "cell_type": "code",
   "execution_count": null,
   "id": "480fc77b-9f74-4bc4-9dce-51cf03bc1892",
   "metadata": {},
   "outputs": [],
   "source": [
    "### 35. Python program to draw a circle of squares using Turtle"
   ]
  }
 ],
 "metadata": {
  "kernelspec": {
   "display_name": "Python 3 (ipykernel)",
   "language": "python",
   "name": "python3"
  },
  "language_info": {
   "codemirror_mode": {
    "name": "ipython",
    "version": 3
   },
   "file_extension": ".py",
   "mimetype": "text/x-python",
   "name": "python",
   "nbconvert_exporter": "python",
   "pygments_lexer": "ipython3",
   "version": "3.10.8"
  }
 },
 "nbformat": 4,
 "nbformat_minor": 5
}
