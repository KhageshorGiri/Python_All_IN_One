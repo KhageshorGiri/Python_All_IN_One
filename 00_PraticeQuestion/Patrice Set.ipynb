{
 "cells": [
  {
   "cell_type": "code",
   "execution_count": 1,
   "id": "44ad2158",
   "metadata": {},
   "outputs": [
    {
     "name": "stdout",
     "output_type": "stream",
     "text": [
      "Hello Python\n"
     ]
    }
   ],
   "source": [
    "# 1. Write a Python program to print \"Hello Python\"?\n",
    "print(\"Hello Python\")"
   ]
  },
  {
   "cell_type": "code",
   "execution_count": 4,
   "id": "fb5813a1",
   "metadata": {},
   "outputs": [
    {
     "name": "stdout",
     "output_type": "stream",
     "text": [
      "Enter first number: 2\n",
      "Enter second number: 3\n",
      "Please Select Your Opeartion.\n",
      "------------------------------------------------------------\n",
      "1. Addition\n",
      "2. Subtraction\n",
      ">: 1\n",
      "The addition of 2 and 3 is 5\n"
     ]
    }
   ],
   "source": [
    "# 2. Write a Python program to do arithmetical operations addition and division.?\n",
    "firstNumber = int(input(\"Enter first number: \"))\n",
    "secondNumber = int(input(\"Enter second number: \"))\n",
    "\n",
    "print(\"Please Select Your Opeartion.\")\n",
    "print(\"-\"*60)\n",
    "print(\"1. Addition\")\n",
    "print(\"2. Subtraction\")\n",
    "choice = int(input(\">: \"))\n",
    "\n",
    "if choice == 1:\n",
    "    print(f\"The addition of {firstNumber} and {secondNumber} is {firstNumber + secondNumber}\")\n",
    "elif choice == 2:\n",
    "    print(f\"The subtraction of {firstNumber} and {secondNumber} is {firstNumber - secondNumber}\")\n",
    "else:\n",
    "    print(\"Please provid a valid choice.\")"
   ]
  },
  {
   "cell_type": "code",
   "execution_count": 5,
   "id": "b1efcd71",
   "metadata": {},
   "outputs": [
    {
     "name": "stdout",
     "output_type": "stream",
     "text": [
      "Enter the breadth of triangle: 2\n",
      "Enter the height of triangle: 3\n",
      "Area:  3.0\n"
     ]
    }
   ],
   "source": [
    "### 3. Write a Python program to find the area of a triangle?\n",
    "\n",
    "breadth = float(input(\"Enter the breadth of triangle: \"))\n",
    "height = float(input(\"Enter the height of triangle: \"))\n",
    "area = (breadth * height) /2\n",
    "print(\"Area: \", area)"
   ]
  },
  {
   "cell_type": "code",
   "execution_count": 6,
   "id": "67f75ebe",
   "metadata": {},
   "outputs": [
    {
     "name": "stdout",
     "output_type": "stream",
     "text": [
      "Enter a first number: 2\n",
      "Enter a second number: 3\n",
      "After swapping:\n",
      " first: 3 and second: 2\n"
     ]
    }
   ],
   "source": [
    "# 4. Write a Python program to swap two variables?\n",
    "first = int(input('Enter a first number: '))\n",
    "second = int(input(\"Enter a second number: \"))\n",
    "# first, second = second, first\n",
    "temp = first\n",
    "first = second\n",
    "second= temp\n",
    "print(\"After swapping:\")\n",
    "print(f\" first: {first} and second: {second}\")"
   ]
  },
  {
   "cell_type": "code",
   "execution_count": 9,
   "id": "594f33fd",
   "metadata": {},
   "outputs": [
    {
     "name": "stdout",
     "output_type": "stream",
     "text": [
      "0.2489972497604257\n"
     ]
    }
   ],
   "source": [
    "# 5. Write a Python program to generate a random number?\n",
    "import random\n",
    "number = random.random()\n",
    "print(number)"
   ]
  },
  {
   "cell_type": "code",
   "execution_count": null,
   "id": "ddc0d10f",
   "metadata": {},
   "outputs": [],
   "source": [
    "# Assessment-2"
   ]
  },
  {
   "cell_type": "code",
   "execution_count": null,
   "id": "e8a087f3",
   "metadata": {},
   "outputs": [],
   "source": [
    "#1. Write a Python program to convert Celsius to Fahrenheit?\n"
   ]
  },
  {
   "cell_type": "code",
   "execution_count": null,
   "id": "920ebff5",
   "metadata": {},
   "outputs": [],
   "source": [
    "#2. Write a Python program to display calendar?\n"
   ]
  },
  {
   "cell_type": "code",
   "execution_count": null,
   "id": "3603358d",
   "metadata": {},
   "outputs": [],
   "source": [
    "#3. Write a Python program to solve quadratic equation?\n"
   ]
  },
  {
   "cell_type": "code",
   "execution_count": 10,
   "id": "959dd6ed",
   "metadata": {},
   "outputs": [
    {
     "name": "stdout",
     "output_type": "stream",
     "text": [
      "Enter a first number: 2\n",
      "Enter a second number: 3\n",
      "After swapping:\n",
      " first: 3 and second: 2\n"
     ]
    }
   ],
   "source": [
    "#4. Write a Python program to swap two variables without temp variable?\n",
    "first = int(input('Enter a first number: '))\n",
    "second = int(input(\"Enter a second number: \"))\n",
    "first, second = second, first\n",
    "print(\"After swapping:\")\n",
    "print(f\" first: {first} and second: {second}\")"
   ]
  },
  {
   "cell_type": "code",
   "execution_count": null,
   "id": "bd87c0e8",
   "metadata": {},
   "outputs": [],
   "source": [
    "#5. Write a Python program to convert kilometers to miles?"
   ]
  },
  {
   "cell_type": "code",
   "execution_count": null,
   "id": "f027e735",
   "metadata": {},
   "outputs": [],
   "source": [
    "# Assessment-3"
   ]
  },
  {
   "cell_type": "code",
   "execution_count": 12,
   "id": "c92818e3",
   "metadata": {},
   "outputs": [
    {
     "name": "stdout",
     "output_type": "stream",
     "text": [
      "Enter a number: 2\n",
      "Number is positive\n"
     ]
    }
   ],
   "source": [
    "#1. Write a Python Program to Check if a Number is Positive, Negative or Zero?\n",
    "number = int(input('Enter a number: '))\n",
    "\n",
    "if number > 0:\n",
    "    print(\"Number is positive\")\n",
    "elif number < 0:\n",
    "    print(\"Number is negtive\")\n",
    "else:\n",
    "    print(\"Number is 0\")"
   ]
  },
  {
   "cell_type": "code",
   "execution_count": 16,
   "id": "b90a62f0",
   "metadata": {},
   "outputs": [
    {
     "name": "stdout",
     "output_type": "stream",
     "text": [
      "Enter a number: 4\n",
      "Even\n"
     ]
    }
   ],
   "source": [
    "#2. Write a Python Program to Check if a Number is Odd or Even?\n",
    "number = int(input(\"Enter a number: \"))\n",
    "if number % 2 == 0:\n",
    "    print(\"Even\")\n",
    "else:\n",
    "    print(\"Odd\")"
   ]
  },
  {
   "cell_type": "code",
   "execution_count": 2,
   "id": "7568ad37",
   "metadata": {},
   "outputs": [],
   "source": [
    "#3. Write a Python Program to Check Leap Year?\n"
   ]
  },
  {
   "cell_type": "code",
   "execution_count": 6,
   "id": "81ad92b1",
   "metadata": {},
   "outputs": [
    {
     "name": "stdout",
     "output_type": "stream",
     "text": [
      "Enter any number: 11\n",
      "Prime\n"
     ]
    }
   ],
   "source": [
    "#4. Write a Python Program to Check Prime Number?\n",
    "number = int(input(\"Enter any number: \"))\n",
    "if number <= 0:\n",
    "    print(\"Please enter positive number greater than 0.\")\n",
    "elif number == 1:\n",
    "    print(\"1\")\n",
    "else:\n",
    "    count = 1\n",
    "    for i in range(2, number):\n",
    "        if number % i == 0:\n",
    "            count = count + 1\n",
    "\n",
    "    if count > 2:\n",
    "        print(\"Not prime\")\n",
    "    else:\n",
    "        print(\"Prime\")"
   ]
  },
  {
   "cell_type": "code",
   "execution_count": null,
   "id": "768c9ae1",
   "metadata": {},
   "outputs": [],
   "source": [
    "#5. Write a Python Program to Print all Prime Numbers in an Interval of 1-10000?"
   ]
  },
  {
   "cell_type": "code",
   "execution_count": null,
   "id": "933813e2",
   "metadata": {},
   "outputs": [],
   "source": [
    "# Assessment-3"
   ]
  },
  {
   "cell_type": "code",
   "execution_count": 8,
   "id": "e86420ab",
   "metadata": {},
   "outputs": [
    {
     "name": "stdout",
     "output_type": "stream",
     "text": [
      "For which number do you want to find factorial: 5\n",
      "Factorial:  120\n"
     ]
    }
   ],
   "source": [
    "#1. Write a Python Program to Find the Factorial of a Number?\n",
    "number = int(input(\"For which number do you want to find factorial: \"))\n",
    "fact = 1\n",
    "while number > 0:\n",
    "    fact = fact * number\n",
    "    number = number - 1\n",
    "print(\"Factorial: \", fact)"
   ]
  },
  {
   "cell_type": "code",
   "execution_count": 17,
   "id": "b75f4580",
   "metadata": {},
   "outputs": [
    {
     "name": "stdout",
     "output_type": "stream",
     "text": [
      "For which number do you want to generate multiplication table.4\n",
      "4 * 1 = 4\n",
      "4 * 2 = 8\n",
      "4 * 3 = 12\n",
      "4 * 4 = 16\n",
      "4 * 5 = 20\n",
      "4 * 6 = 24\n",
      "4 * 7 = 28\n",
      "4 * 8 = 32\n",
      "4 * 9 = 36\n",
      "4 * 10 = 40\n"
     ]
    }
   ],
   "source": [
    "#2. Write a Python Program to Display the multiplication Table?\n",
    "number = int(input(\"For which number do you want to generate multiplication table.\"))\n",
    "for i in range(1, 11):\n",
    "    print(f\"{number} * {i} = {number * i}\")"
   ]
  },
  {
   "cell_type": "code",
   "execution_count": null,
   "id": "3b7f1f67",
   "metadata": {},
   "outputs": [],
   "source": [
    "#3. Write a Python Program to Print the Fibonacci sequence?\n"
   ]
  },
  {
   "cell_type": "code",
   "execution_count": null,
   "id": "f692d6c2",
   "metadata": {},
   "outputs": [],
   "source": [
    "#4. Write a Python Program to Check Armstrong Number?\n"
   ]
  },
  {
   "cell_type": "code",
   "execution_count": null,
   "id": "042288b6",
   "metadata": {},
   "outputs": [],
   "source": [
    "#5. Write a Python Program to Find Armstrong Number in an Interval?\n"
   ]
  },
  {
   "cell_type": "code",
   "execution_count": null,
   "id": "10a3d4df",
   "metadata": {},
   "outputs": [],
   "source": [
    "#6. Write a Python Program to Find the Sum of Natural Numbers?\n",
    "nterm =  int"
   ]
  },
  {
   "cell_type": "code",
   "execution_count": null,
   "id": "41201d33",
   "metadata": {},
   "outputs": [],
   "source": []
  },
  {
   "cell_type": "code",
   "execution_count": null,
   "id": "64e4a024",
   "metadata": {},
   "outputs": [],
   "source": []
  },
  {
   "cell_type": "code",
   "execution_count": null,
   "id": "e0bab27a",
   "metadata": {},
   "outputs": [],
   "source": []
  }
 ],
 "metadata": {
  "kernelspec": {
   "display_name": "Python 3 (ipykernel)",
   "language": "python",
   "name": "python3"
  },
  "language_info": {
   "codemirror_mode": {
    "name": "ipython",
    "version": 3
   },
   "file_extension": ".py",
   "mimetype": "text/x-python",
   "name": "python",
   "nbconvert_exporter": "python",
   "pygments_lexer": "ipython3",
   "version": "3.7.8rc1"
  }
 },
 "nbformat": 4,
 "nbformat_minor": 5
}
