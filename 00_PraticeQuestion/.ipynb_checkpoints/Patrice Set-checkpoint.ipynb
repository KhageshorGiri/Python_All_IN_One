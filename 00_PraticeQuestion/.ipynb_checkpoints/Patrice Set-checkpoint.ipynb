{
 "cells": [
  {
   "cell_type": "code",
   "execution_count": 1,
   "id": "44ad2158",
   "metadata": {},
   "outputs": [
    {
     "name": "stdout",
     "output_type": "stream",
     "text": [
      "Hello Python\n"
     ]
    }
   ],
   "source": [
    "# 1. Write a Python program to print \"Hello Python\"?\n",
    "print(\"Hello Python\")"
   ]
  },
  {
   "cell_type": "code",
   "execution_count": null,
   "id": "fb5813a1",
   "metadata": {},
   "outputs": [],
   "source": [
    "# 2. Write a Python program to do arithmetical operations addition and division.?\n",
    "firstNumber = int(input(\"Enter first number: \"))\n",
    "secondNumber = int(inout(\"Enter second number: \"))\n",
    "\n",
    "print(\"Please Select Your Opeartion.\")\n",
    "print(\"-\"*60)\n",
    "print(\"1. Addition\")\n",
    "print(\"2. Subtraction\")\n",
    "choice = int(input(\">: \"))\n",
    "\n"
   ]
  },
  {
   "cell_type": "code",
   "execution_count": null,
   "id": "f2fc6e3f",
   "metadata": {},
   "outputs": [],
   "source": [
    "# 3. Write a Python program to find the area of a triangle?\n"
   ]
  },
  {
   "cell_type": "code",
   "execution_count": null,
   "id": "67f75ebe",
   "metadata": {},
   "outputs": [],
   "source": [
    "# 4. Write a Python program to swap two variables?\n"
   ]
  },
  {
   "cell_type": "code",
   "execution_count": null,
   "id": "594f33fd",
   "metadata": {},
   "outputs": [],
   "source": [
    "# 5. Write a Python program to generate a random number?"
   ]
  },
  {
   "cell_type": "code",
   "execution_count": null,
   "id": "ddc0d10f",
   "metadata": {},
   "outputs": [],
   "source": [
    "# Assessment-2"
   ]
  },
  {
   "cell_type": "code",
   "execution_count": null,
   "id": "e8a087f3",
   "metadata": {},
   "outputs": [],
   "source": [
    "#1. Write a Python program to convert Celsius to Fahrenheit?\n"
   ]
  },
  {
   "cell_type": "code",
   "execution_count": null,
   "id": "920ebff5",
   "metadata": {},
   "outputs": [],
   "source": [
    "#2. Write a Python program to display calendar?\n"
   ]
  },
  {
   "cell_type": "code",
   "execution_count": null,
   "id": "3603358d",
   "metadata": {},
   "outputs": [],
   "source": [
    "#3. Write a Python program to solve quadratic equation?\n"
   ]
  },
  {
   "cell_type": "code",
   "execution_count": null,
   "id": "959dd6ed",
   "metadata": {},
   "outputs": [],
   "source": [
    "#4. Write a Python program to swap two variables without temp variable?\n"
   ]
  },
  {
   "cell_type": "code",
   "execution_count": null,
   "id": "bd87c0e8",
   "metadata": {},
   "outputs": [],
   "source": [
    "#5. Write a Python program to convert kilometers to miles?"
   ]
  },
  {
   "cell_type": "code",
   "execution_count": null,
   "id": "f027e735",
   "metadata": {},
   "outputs": [],
   "source": [
    "# Assessment-3"
   ]
  },
  {
   "cell_type": "code",
   "execution_count": null,
   "id": "c92818e3",
   "metadata": {},
   "outputs": [],
   "source": [
    "#1. Write a Python Program to Check if a Number is Positive, Negative or Zero?\n"
   ]
  },
  {
   "cell_type": "code",
   "execution_count": null,
   "id": "b90a62f0",
   "metadata": {},
   "outputs": [],
   "source": [
    "#2. Write a Python Program to Check if a Number is Odd or Even?\n"
   ]
  },
  {
   "cell_type": "code",
   "execution_count": 2,
   "id": "7568ad37",
   "metadata": {},
   "outputs": [],
   "source": [
    "#3. Write a Python Program to Check Leap Year?\n"
   ]
  },
  {
   "cell_type": "code",
   "execution_count": null,
   "id": "81ad92b1",
   "metadata": {},
   "outputs": [],
   "source": [
    "#4. Write a Python Program to Check Prime Number?\n"
   ]
  },
  {
   "cell_type": "code",
   "execution_count": null,
   "id": "768c9ae1",
   "metadata": {},
   "outputs": [],
   "source": [
    "#5. Write a Python Program to Print all Prime Numbers in an Interval of 1-10000?"
   ]
  },
  {
   "cell_type": "code",
   "execution_count": null,
   "id": "933813e2",
   "metadata": {},
   "outputs": [],
   "source": [
    "# Assessment-3"
   ]
  },
  {
   "cell_type": "code",
   "execution_count": null,
   "id": "e86420ab",
   "metadata": {},
   "outputs": [],
   "source": [
    "#1. Write a Python Program to Find the Factorial of a Number?\n"
   ]
  },
  {
   "cell_type": "code",
   "execution_count": null,
   "id": "b75f4580",
   "metadata": {},
   "outputs": [],
   "source": [
    "#2. Write a Python Program to Display the multiplication Table?\n"
   ]
  },
  {
   "cell_type": "code",
   "execution_count": null,
   "id": "3b7f1f67",
   "metadata": {},
   "outputs": [],
   "source": [
    "#3. Write a Python Program to Print the Fibonacci sequence?\n"
   ]
  },
  {
   "cell_type": "code",
   "execution_count": null,
   "id": "f692d6c2",
   "metadata": {},
   "outputs": [],
   "source": [
    "#4. Write a Python Program to Check Armstrong Number?\n"
   ]
  },
  {
   "cell_type": "code",
   "execution_count": null,
   "id": "042288b6",
   "metadata": {},
   "outputs": [],
   "source": [
    "#5. Write a Python Program to Find Armstrong Number in an Interval?\n"
   ]
  },
  {
   "cell_type": "code",
   "execution_count": null,
   "id": "10a3d4df",
   "metadata": {},
   "outputs": [],
   "source": [
    "#6. Write a Python Program to Find the Sum of Natural Numbers?"
   ]
  },
  {
   "cell_type": "code",
   "execution_count": null,
   "id": "41201d33",
   "metadata": {},
   "outputs": [],
   "source": []
  },
  {
   "cell_type": "code",
   "execution_count": null,
   "id": "64e4a024",
   "metadata": {},
   "outputs": [],
   "source": []
  },
  {
   "cell_type": "code",
   "execution_count": null,
   "id": "e0bab27a",
   "metadata": {},
   "outputs": [],
   "source": []
  }
 ],
 "metadata": {
  "kernelspec": {
   "display_name": "Python 3 (ipykernel)",
   "language": "python",
   "name": "python3"
  },
  "language_info": {
   "codemirror_mode": {
    "name": "ipython",
    "version": 3
   },
   "file_extension": ".py",
   "mimetype": "text/x-python",
   "name": "python",
   "nbconvert_exporter": "python",
   "pygments_lexer": "ipython3",
   "version": "3.7.8rc1"
  }
 },
 "nbformat": 4,
 "nbformat_minor": 5
}
