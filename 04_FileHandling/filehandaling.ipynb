{
 "cells": [
  {
   "cell_type": "code",
   "execution_count": 6,
   "id": "42fc2af7",
   "metadata": {},
   "outputs": [
    {
     "name": "stdout",
     "output_type": "stream",
     "text": [
      "Hello\n",
      "\n",
      "My Name is khageshor giri.\n",
      "\n",
      "What is your Name.\n"
     ]
    }
   ],
   "source": [
    "f = open(\"demo.txt\", \"r\")\n",
    "for line in f:\n",
    "    print(line)\n",
    "f.close()"
   ]
  },
  {
   "cell_type": "code",
   "execution_count": 7,
   "id": "240f2cfd",
   "metadata": {},
   "outputs": [
    {
     "name": "stdout",
     "output_type": "stream",
     "text": [
      "Hello\n",
      "My Name is khageshor giri.\n",
      "What is your Name.\n"
     ]
    }
   ],
   "source": [
    "# using read method\n",
    "f = open(\"demo.txt\", \"r\")\n",
    "content = f.read()\n",
    "f.close()\n",
    "print(content)"
   ]
  },
  {
   "cell_type": "code",
   "execution_count": 8,
   "id": "bc573299",
   "metadata": {},
   "outputs": [
    {
     "name": "stdout",
     "output_type": "stream",
     "text": [
      "Hello\n",
      "My N\n"
     ]
    }
   ],
   "source": [
    "# read required number of character frm a file\n",
    "f = open(\"demo.txt\", \"r\")\n",
    "content = f.read(10)\n",
    "f.close()\n",
    "print(content)"
   ]
  },
  {
   "cell_type": "code",
   "execution_count": 13,
   "id": "ef400c37",
   "metadata": {},
   "outputs": [],
   "source": [
    "### creating or writting in a file \n",
    "f = open(\"test.txt\", \"w\")    #search for file and create if not found. overwrite the whole content.\n",
    "f.write(\"Hi\")\n",
    "f.close()"
   ]
  },
  {
   "cell_type": "code",
   "execution_count": 12,
   "id": "e4e8f3d8",
   "metadata": {},
   "outputs": [],
   "source": [
    "# let see how the append works\n",
    "f = open(\"test.txt\", \"a\")\n",
    "f.write(\"\\nText to append\")\n",
    "f.close()"
   ]
  },
  {
   "cell_type": "code",
   "execution_count": 14,
   "id": "bf7e2636",
   "metadata": {},
   "outputs": [],
   "source": [
    "# Reading a file's first 30 btes and printing it."
   ]
  },
  {
   "cell_type": "code",
   "execution_count": 20,
   "id": "0ec2198c",
   "metadata": {},
   "outputs": [
    {
     "name": "stdout",
     "output_type": "stream",
     "text": [
      "Hi\n",
      "File handling is an importa\n"
     ]
    }
   ],
   "source": [
    "f = open(\"test.txt\", \"r\")\n",
    "content = f.read(30)\n",
    "f.close()\n",
    "print(content)"
   ]
  },
  {
   "cell_type": "code",
   "execution_count": 15,
   "id": "8e519eb9",
   "metadata": {},
   "outputs": [],
   "source": [
    "# Reading n byte and then reading some more byte from the last position read."
   ]
  },
  {
   "cell_type": "code",
   "execution_count": 21,
   "id": "67b81a3b",
   "metadata": {},
   "outputs": [
    {
     "name": "stdout",
     "output_type": "stream",
     "text": [
      "How many byte do you want to read form file. 20\n",
      "Hi\n",
      "File handling is \n"
     ]
    }
   ],
   "source": [
    "numberOfByte = int(input(\"How many byte do you want to read form file. \"))\n",
    "f = open(\"test.txt\", \"r\")\n",
    "content = f.read(numberOfByte)\n",
    "f.close()\n",
    "print(content)"
   ]
  },
  {
   "cell_type": "code",
   "execution_count": 16,
   "id": "ded247b8",
   "metadata": {},
   "outputs": [],
   "source": [
    "# Reading a file's entire content"
   ]
  },
  {
   "cell_type": "code",
   "execution_count": 22,
   "id": "3ecefd86",
   "metadata": {},
   "outputs": [
    {
     "name": "stdout",
     "output_type": "stream",
     "text": [
      "Hello\n",
      "My Name is khageshor giri.\n",
      "What is your Name.\n"
     ]
    }
   ],
   "source": [
    "file = open(\"demo.txt\", \"r\")\n",
    "print(file.read())\n",
    "file.close()"
   ]
  },
  {
   "cell_type": "code",
   "execution_count": 17,
   "id": "6000047d",
   "metadata": {},
   "outputs": [],
   "source": [
    "# Reading a complete file line by line"
   ]
  },
  {
   "cell_type": "code",
   "execution_count": 25,
   "id": "9c0fa4ca",
   "metadata": {},
   "outputs": [
    {
     "name": "stdout",
     "output_type": "stream",
     "text": [
      "Hi\n",
      "\n",
      "File handling is an important part of any web application. \n",
      "\n",
      "Python has several functions for creating, reading, updating, and deleting files.\n"
     ]
    }
   ],
   "source": [
    "file = open(\"test.txt\", \"r\")\n",
    "lines = file.readlines()\n",
    "file.close()\n",
    "for line in lines:\n",
    "    print(line)"
   ]
  },
  {
   "cell_type": "code",
   "execution_count": 18,
   "id": "bea88084",
   "metadata": {},
   "outputs": [],
   "source": [
    "# writing a binary file"
   ]
  },
  {
   "cell_type": "code",
   "execution_count": 29,
   "id": "f589dbda",
   "metadata": {},
   "outputs": [],
   "source": [
    "file = open(\"binary.txt\",  \"wb\")\n",
    "file.write(b'6777373')\n",
    "file.close()"
   ]
  },
  {
   "cell_type": "code",
   "execution_count": 19,
   "id": "84a7d137",
   "metadata": {},
   "outputs": [],
   "source": [
    "# appending additional content in a file"
   ]
  },
  {
   "cell_type": "code",
   "execution_count": 32,
   "id": "217880c7",
   "metadata": {},
   "outputs": [
    {
     "name": "stdout",
     "output_type": "stream",
     "text": [
      "Hello\n",
      "My Name is khageshor giri.\n",
      "What is your Name.\n",
      "Contentto be append.\n",
      "Contentto be append.\n"
     ]
    }
   ],
   "source": [
    "file = open(\"demo.txt\", \"a\")\n",
    "file.write(\"\\nContentto be append.\")\n",
    "file.close()\n",
    "\n",
    "file = open(\"demo.txt\", \"r\")\n",
    "content = file.read()\n",
    "file.close()\n",
    "print(content)"
   ]
  },
  {
   "cell_type": "code",
   "execution_count": 33,
   "id": "791b90b7",
   "metadata": {},
   "outputs": [],
   "source": [
    "# reading a binary file and print it's content."
   ]
  },
  {
   "cell_type": "code",
   "execution_count": 34,
   "id": "7d4617aa",
   "metadata": {},
   "outputs": [
    {
     "name": "stdout",
     "output_type": "stream",
     "text": [
      "b'6777373'\n"
     ]
    }
   ],
   "source": [
    "file = open(\"binary.txt\", \"rb\")\n",
    "content = file.read()\n",
    "file.close()\n",
    "print(content)"
   ]
  },
  {
   "cell_type": "code",
   "execution_count": 35,
   "id": "be96a256",
   "metadata": {},
   "outputs": [],
   "source": [
    "# use of strip function\n",
    "# strip()\n",
    "# lstrip()\n",
    "# rstrip()"
   ]
  },
  {
   "cell_type": "code",
   "execution_count": 38,
   "id": "78e77c49",
   "metadata": {},
   "outputs": [
    {
     "name": "stdout",
     "output_type": "stream",
     "text": [
      "Hi\n",
      "Hi\n",
      "\n",
      "Hi\n",
      "File handling is an important part of any web application.\n",
      "File handling is an important part of any web application. \n",
      "\n",
      "File handling is an important part of any web application.\n",
      "Python has several functions for creating,\n",
      "Python has several functions for creating, \n",
      "\n",
      "Python has several functions for creating,\n",
      "reading, updating, and deleting files.\n",
      "reading, updating, and deleting files.\n",
      "    reading, updating, and deleting files.\n"
     ]
    }
   ],
   "source": [
    "file = open(\"test.txt\", \"r\")\n",
    "lines = file.readlines()\n",
    "for line in lines:\n",
    "    print(line.strip())\n",
    "    print(line.lstrip())\n",
    "    print(line.rstrip())"
   ]
  },
  {
   "cell_type": "code",
   "execution_count": null,
   "id": "3a83e131",
   "metadata": {},
   "outputs": [],
   "source": []
  }
 ],
 "metadata": {
  "kernelspec": {
   "display_name": "Python 3 (ipykernel)",
   "language": "python",
   "name": "python3"
  },
  "language_info": {
   "codemirror_mode": {
    "name": "ipython",
    "version": 3
   },
   "file_extension": ".py",
   "mimetype": "text/x-python",
   "name": "python",
   "nbconvert_exporter": "python",
   "pygments_lexer": "ipython3",
   "version": "3.7.8rc1"
  }
 },
 "nbformat": 4,
 "nbformat_minor": 5
}
