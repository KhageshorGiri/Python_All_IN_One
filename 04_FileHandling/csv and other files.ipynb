{
 "cells": [
  {
   "cell_type": "code",
   "execution_count": 4,
   "id": "670a820c",
   "metadata": {},
   "outputs": [],
   "source": [
    "# writing and reading in json file\n",
    "import json\n",
    "file = open(\"testjson.json\", \"w\")\n",
    "json.dump([1, 2, 3, 4, 5], file)\n",
    "file.close()"
   ]
  },
  {
   "cell_type": "code",
   "execution_count": 5,
   "id": "b4322d69",
   "metadata": {},
   "outputs": [
    {
     "name": "stdout",
     "output_type": "stream",
     "text": [
      "[1, 2, 3, 4, 5]\n"
     ]
    }
   ],
   "source": [
    "file = open(\"testjson.json\", \"r\")\n",
    "content = json.load(file)\n",
    "file.close()\n",
    "print(content)"
   ]
  },
  {
   "cell_type": "code",
   "execution_count": null,
   "id": "c2e1c91e",
   "metadata": {},
   "outputs": [],
   "source": [
    "# writing to the csv file."
   ]
  },
  {
   "cell_type": "code",
   "execution_count": 6,
   "id": "fe8c1f69",
   "metadata": {},
   "outputs": [],
   "source": [
    "# importin csv module\n",
    "import csv\n",
    "\n",
    "# csv file name\n",
    "filename = \"records.csv\"\n",
    "\n",
    "# initialization the title and rows list\n",
    "# field names\n",
    "fields = ['Name', 'Branch', 'Year', 'CGPA']\n",
    " \n",
    "# data rows of csv file\n",
    "rows = [ ['Nikhil', 'COE', '2', '9.0'],\n",
    "        ['Sanchit', 'COE', '2', '9.1'],\n",
    "        ['Aditya', 'IT', '2', '9.3'],\n",
    "        ['Sagar', 'SE', '1', '9.5'],\n",
    "        ['Prateek', 'MCE', '3', '7.8'],\n",
    "        ['Sahil', 'EP', '2', '9.1']]\n",
    "# open a file to write the data\n",
    "file = open(\"records.csv\", \"w\")\n",
    "# Creating a writter object\n",
    "csvWriter = csv.writer(file)\n",
    "csvWriter.writerow(fields)\n",
    "csvWriter.writerows(rows)\n",
    "file.close()"
   ]
  },
  {
   "cell_type": "code",
   "execution_count": null,
   "id": "f411a141",
   "metadata": {},
   "outputs": [],
   "source": [
    "# readingg from csv file."
   ]
  },
  {
   "cell_type": "code",
   "execution_count": 9,
   "id": "1df7213a",
   "metadata": {},
   "outputs": [
    {
     "name": "stdout",
     "output_type": "stream",
     "text": [
      "Total no. of rows: 14\n",
      "Field names are:Name, Branch, Year, CGPA\n",
      "\n",
      "\n",
      "    Nikhil        COE          2        9.0 \n",
      "\n",
      "\n",
      "\n",
      "   Sanchit        COE          2        9.1 \n",
      "\n",
      "\n",
      "\n",
      "    Aditya         IT          2        9.3 \n",
      "\n",
      "\n",
      "\n",
      "     Sagar         SE          1        9.5 \n",
      "\n",
      "\n",
      "\n",
      "   Prateek        MCE          3        7.8 \n",
      "\n",
      "\n",
      "\n",
      "     Sahil         EP          2        9.1 \n",
      "\n",
      "\n",
      "\n"
     ]
    }
   ],
   "source": [
    "# importing csv module\n",
    "import csv\n",
    " \n",
    "# csv file name\n",
    "filename = \"records.csv\"\n",
    " \n",
    "# initializing the titles and rows list\n",
    "fields = []\n",
    "rows = []\n",
    " \n",
    "# reading csv file\n",
    "with open(filename, 'r') as csvfile:\n",
    "    # creating a csv reader object\n",
    "    csvreader = csv.reader(csvfile)\n",
    "     \n",
    "    # extracting field names through first row\n",
    "    fields = next(csvreader)\n",
    " \n",
    "    # extracting each data row one by one\n",
    "    for row in csvreader:\n",
    "        rows.append(row)\n",
    " \n",
    "    # get total number of rows\n",
    "    print(\"Total no. of rows: %d\"%(csvreader.line_num))\n",
    " \n",
    "# printing the field names\n",
    "print('Field names are:' + ', '.join(field for field in fields))\n",
    " \n",
    "for row in rows:\n",
    "    # parsing each column of a row\n",
    "    for col in row:\n",
    "        print(\"%10s\"%col,end=\" \"),\n",
    "    print('\\n')"
   ]
  },
  {
   "cell_type": "code",
   "execution_count": null,
   "id": "13fe631d",
   "metadata": {},
   "outputs": [],
   "source": []
  }
 ],
 "metadata": {
  "kernelspec": {
   "display_name": "Python 3 (ipykernel)",
   "language": "python",
   "name": "python3"
  },
  "language_info": {
   "codemirror_mode": {
    "name": "ipython",
    "version": 3
   },
   "file_extension": ".py",
   "mimetype": "text/x-python",
   "name": "python",
   "nbconvert_exporter": "python",
   "pygments_lexer": "ipython3",
   "version": "3.7.8rc1"
  }
 },
 "nbformat": 4,
 "nbformat_minor": 5
}
