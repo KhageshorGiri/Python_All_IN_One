{
 "cells": [
  {
   "cell_type": "markdown",
   "id": "1ab7f3dd",
   "metadata": {},
   "source": [
    "# Object Orientd Programming Concepts"
   ]
  },
  {
   "cell_type": "markdown",
   "id": "2cb1500c",
   "metadata": {},
   "source": [
    "Objct oriented programming is one of the most effecient approaches to writing software.     \n",
    "\n",
    "In Object oriented programming each and every things of real world are represented as object.   \n",
    "Oject oriented programming is about creating objects that contains both data and functions.   \n",
    "\n",
    "Object oriented programing is a method of structring a program by bundling related properties and behaviours into individual  \n",
    "objects."
   ]
  },
  {
   "cell_type": "markdown",
   "id": "2cbe701c",
   "metadata": {},
   "source": [
    "##### 1. Classes :  \n",
    "        are user-defined data types that acts as the blueprint for individual objects, attributes and methods.       \n",
    "\n",
    "##### 2. Objects :   \n",
    "    are instance of a class created with specifically defined data. objects can correspond to real-orl objecs or an                abstract entity.\n",
    "\n",
    "##### 3. Methods  :  \n",
    "    are functions that are defined inside a class that describe the behaviour of an object.       \n",
    "\n",
    "##### 4. Attributes :  \n",
    "    are defined in the class template and represent the state of an object. Objects will have data stored in the                    attributes field."
   ]
  },
  {
   "cell_type": "markdown",
   "id": "783bb8c2",
   "metadata": {},
   "source": [
    "## Propertises of Object Oriented Programming."
   ]
  },
  {
   "cell_type": "markdown",
   "id": "e3f37b8c",
   "metadata": {},
   "source": [
    "## Encapsulation\n",
    "\n",
    "In normal terms. Encapsulation is defined as wrapping up of data and information under a single unit.   \n",
    "Encapsuation is defined as binding together the data and the function that manipulate them.   \n",
    "Encapsulation also leads to the data abstraction and hiding."
   ]
  },
  {
   "cell_type": "markdown",
   "id": "e871d6aa",
   "metadata": {},
   "source": [
    "### Abstraction\n",
    "\n",
    "Data abstraction is one of the most and essential and important features of object oriented programming.   \n",
    "Abstraction means displaying only essentila information and hiding the details.    \n",
    "Data abstraction refers to providing only essential information about the data to the outside world, hiding the background details or implementation.    \n",
    "\n",
    "Applying abstraction means that each object should only exposed a high level mechanism for using it.    \n",
    "This mechanism should hide internal implementation details. It should only reveal operations relevant for the other objects."
   ]
  },
  {
   "cell_type": "markdown",
   "id": "9ff75e17",
   "metadata": {},
   "source": [
    "### Inheritance\n",
    "\n",
    "The concept of reusing code from other class in object oriented programming is called inheritance. \n",
    "The capability of a class to derive prpoerties and characteristics form another class is called inheritance.   \n",
    "Inheritance is one of the most important feature of Object Oriented Programming. "
   ]
  },
  {
   "cell_type": "markdown",
   "id": "1d7ea6aa",
   "metadata": {},
   "source": [
    "### Polymorphism\n",
    "\n",
    "The word polymorphism means having many forms.   \n",
    "Objects are designed to share behaviors and they can take one or more form.  \n",
    "In simple words, we can define polymorphism as the ability of a message to be displayed in more than one form."
   ]
  },
  {
   "cell_type": "code",
   "execution_count": null,
   "id": "438d1c64",
   "metadata": {},
   "outputs": [],
   "source": []
  }
 ],
 "metadata": {
  "kernelspec": {
   "display_name": "Python 3 (ipykernel)",
   "language": "python",
   "name": "python3"
  },
  "language_info": {
   "codemirror_mode": {
    "name": "ipython",
    "version": 3
   },
   "file_extension": ".py",
   "mimetype": "text/x-python",
   "name": "python",
   "nbconvert_exporter": "python",
   "pygments_lexer": "ipython3",
   "version": "3.7.8rc1"
  }
 },
 "nbformat": 4,
 "nbformat_minor": 5
}
