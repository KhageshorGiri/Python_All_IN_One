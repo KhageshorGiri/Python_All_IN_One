{
 "cells": [
  {
   "cell_type": "markdown",
   "id": "9910af34",
   "metadata": {},
   "source": [
    "# Encapsulation\n",
    "\n",
    "Encapsuation is one of the fundamental concepts in object-orientd programming. Encapsulation is the concept fo bundling data and method within a single unit. It describes the idea of wrapping data and the methods that work on data within one unit. This pust restrictions on accessing variables and methods directly and can prevent the accidental modification of data.\n",
    "\n",
    "A class is an example of encapsulation as it binds all the data members and method into a single unit.\n",
    "\n",
    "###### In this example, we create an Employee class by defining employee attributes such as name and salary as an instance variable and implementing behavior using work() and show() instance methods."
   ]
  },
  {
   "cell_type": "code",
   "execution_count": 1,
   "id": "b2ecd10b",
   "metadata": {},
   "outputs": [
    {
     "name": "stdout",
     "output_type": "stream",
     "text": [
      "Khageshor Giri is working on project WCB\n",
      "Name:Khageshor Giri, Salary:60000 and Project:WCB\n"
     ]
    }
   ],
   "source": [
    "# creating a employee class\n",
    "class Employee:\n",
    "    def __init__(self, name, salary, project):\n",
    "        # defining variables\n",
    "        self.name = name\n",
    "        self.salary = salary\n",
    "        self.project = project\n",
    "        \n",
    "    # defining a method\n",
    "    def work(self):\n",
    "        print(f\"{self.name} is working on project {self.project}\")\n",
    "        \n",
    "    def show(self):\n",
    "        print(f\"Name:{self.name}, Salary:{self.salary} and Project:{self.project}\")\n",
    "        \n",
    "# creating a instance of a employee class\n",
    "emp = Employee(\"Khageshor Giri\", 60000, \"WCB\")\n",
    "emp.work()\n",
    "emp.show()"
   ]
  },
  {
   "cell_type": "markdown",
   "id": "7889e7a9",
   "metadata": {},
   "source": [
    "Using encapsulation, we can hide an object's internal representation form the outside. This is called information hiding.    \n",
    "\n",
    "Also, encapsulation allows us to restrict accessing variables and methods directly and prevent accidental data modification by creating private data members and methods with in a class.  \n",
    "\n",
    "Encapsulation is a way to can restrict access to methods and variables form outside of class. Whenever we are working with the class and deling with sensitive data, providing access to all variables used within the class is not a good choice."
   ]
  },
  {
   "cell_type": "code",
   "execution_count": null,
   "id": "7b7fd2de",
   "metadata": {},
   "outputs": [],
   "source": []
  }
 ],
 "metadata": {
  "kernelspec": {
   "display_name": "Python 3 (ipykernel)",
   "language": "python",
   "name": "python3"
  },
  "language_info": {
   "codemirror_mode": {
    "name": "ipython",
    "version": 3
   },
   "file_extension": ".py",
   "mimetype": "text/x-python",
   "name": "python",
   "nbconvert_exporter": "python",
   "pygments_lexer": "ipython3",
   "version": "3.7.8rc1"
  }
 },
 "nbformat": 4,
 "nbformat_minor": 5
}
