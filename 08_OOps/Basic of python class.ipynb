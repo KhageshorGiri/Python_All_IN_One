{
 "cells": [
  {
   "cell_type": "markdown",
   "id": "ac963c8c",
   "metadata": {},
   "source": [
    "# Basic of python class"
   ]
  },
  {
   "cell_type": "code",
   "execution_count": 1,
   "id": "f0e50de2",
   "metadata": {},
   "outputs": [],
   "source": [
    "# creating a class"
   ]
  },
  {
   "cell_type": "code",
   "execution_count": 2,
   "id": "604c27b3",
   "metadata": {},
   "outputs": [],
   "source": [
    "class Dog:\n",
    "    def __init__(self):\n",
    "        print(\"Python simple class with default constructor.\")"
   ]
  },
  {
   "cell_type": "code",
   "execution_count": 3,
   "id": "8f5fd2b5",
   "metadata": {},
   "outputs": [
    {
     "name": "stdout",
     "output_type": "stream",
     "text": [
      "Python simple class with default constructor.\n"
     ]
    }
   ],
   "source": [
    "dog = Dog()\n"
   ]
  },
  {
   "cell_type": "code",
   "execution_count": 10,
   "id": "e3d85968",
   "metadata": {},
   "outputs": [],
   "source": [
    "# defining a methods on python class\n",
    "class Dog:\n",
    "    def info(self, name, color):\n",
    "        self.name = name\n",
    "        self.color = color\n",
    "    \n",
    "    def displayInfo(self):\n",
    "        print(\"Name:\", self.name)\n",
    "        print(\"Color:\", self.color)\n",
    "        "
   ]
  },
  {
   "cell_type": "code",
   "execution_count": 11,
   "id": "2ef113cd",
   "metadata": {},
   "outputs": [],
   "source": [
    "# creating a instance of a class that is creating a object for a paticular class\n",
    "dog = Dog()"
   ]
  },
  {
   "cell_type": "code",
   "execution_count": 12,
   "id": "591b169c",
   "metadata": {},
   "outputs": [],
   "source": [
    "# accessing the methods of a any class\n",
    "dog.info(\"tiger\", 'brown')"
   ]
  },
  {
   "cell_type": "code",
   "execution_count": 13,
   "id": "a1384302",
   "metadata": {},
   "outputs": [
    {
     "name": "stdout",
     "output_type": "stream",
     "text": [
      "Name: tiger\n",
      "Color: brown\n"
     ]
    }
   ],
   "source": [
    "dog.displayInfo()\n"
   ]
  },
  {
   "cell_type": "code",
   "execution_count": 14,
   "id": "08f8bdba",
   "metadata": {},
   "outputs": [],
   "source": [
    "class Restaurant:\n",
    "    def __init__(self, resturant_name, cuisine_type):\n",
    "        self.resturant_name = resturant_name\n",
    "        self.cuisine_type = cuisine_type\n",
    "        \n",
    "    def describe_restaurant(self):\n",
    "        print(\"Name:\", self.resturant_name)\n",
    "        print(\"Cuisine Type:\", self.cuisine_type)\n",
    "    \n",
    "    def open_restaurant(self):\n",
    "        print(\"This Resturant is Open.\")\n",
    "    "
   ]
  },
  {
   "cell_type": "code",
   "execution_count": 19,
   "id": "b3287b4b",
   "metadata": {},
   "outputs": [
    {
     "name": "stdout",
     "output_type": "stream",
     "text": [
      "MyResturant\n",
      "first\n",
      "Name: MyResturant\n",
      "Cuisine Type: first\n",
      "This Resturant is Open.\n"
     ]
    }
   ],
   "source": [
    "# making a first instance of this class\n",
    "resturant = Restaurant(\"MyResturant\", \"first\")\n",
    "# print two attributes vale individaully\n",
    "print(resturant.resturant_name)\n",
    "print(resturant.cuisine_type)\n",
    "# calling those methods\n",
    "resturant.describe_restaurant()\n",
    "resturant.open_restaurant()"
   ]
  },
  {
   "cell_type": "markdown",
   "id": "67bd4e97",
   "metadata": {},
   "source": [
    "## Constructor"
   ]
  },
  {
   "cell_type": "markdown",
   "id": "7a300f0e",
   "metadata": {},
   "source": [
    "The constructor is a method inside a class that is called when an object is created. This method is defined in the class and can \n",
    "be used to initialized basic variables.       \n",
    "\n",
    "Types of Constructor.       \n",
    "1. Default Constructor\n",
    "2. Parameterized Constructor\n",
    "\n",
    "Default Constructor is a simpe constructor which does not accept any arguments. Its definition has only one argument which is a refrence to the instance begin constructed.    \n",
    "\n",
    "Paraetrized Constructor can accepts multiple arguments. In this types of constructor first arguments is the refrence to the instance of that object and others are arguments."
   ]
  },
  {
   "cell_type": "code",
   "execution_count": 20,
   "id": "ad1b96f7",
   "metadata": {},
   "outputs": [],
   "source": [
    "# Example"
   ]
  },
  {
   "cell_type": "code",
   "execution_count": 21,
   "id": "5d5c7232",
   "metadata": {},
   "outputs": [
    {
     "name": "stdout",
     "output_type": "stream",
     "text": [
      "This is default constructor\n"
     ]
    }
   ],
   "source": [
    "class DefaultConstructor:\n",
    "    def __init__(self):\n",
    "        print(\"This is default constructor\")\n",
    "\n",
    "exmpl = DefaultConstructor()"
   ]
  },
  {
   "cell_type": "code",
   "execution_count": 24,
   "id": "f6ba1f89",
   "metadata": {},
   "outputs": [
    {
     "name": "stdout",
     "output_type": "stream",
     "text": [
      "The su of 2 and 3 is 5\n"
     ]
    }
   ],
   "source": [
    "# parameterized constructor\n",
    "\n",
    "class Addition:\n",
    "    first = 0\n",
    "    second = 0\n",
    "    answer = 0\n",
    "    \n",
    "    def __init__(self, firstNumber, secondNumber):\n",
    "        self.first = firstNumber\n",
    "        self.second = secondNumber   \n",
    "        \n",
    "    def calculate(self):\n",
    "        self.answer = self.first + self.second\n",
    "        \n",
    "    def result(self):\n",
    "        print(f\"The su of {self.first} and {self.second} is {self.answer}\")\n",
    "        \n",
    "#creating a instance of an object and passing values as parameters\n",
    "add = Addition(2, 3)\n",
    "\n",
    "#calling a method of a class\n",
    "add.calculate()\n",
    "\n",
    "add.result()"
   ]
  },
  {
   "cell_type": "code",
   "execution_count": null,
   "id": "3b21e270",
   "metadata": {},
   "outputs": [],
   "source": []
  }
 ],
 "metadata": {
  "kernelspec": {
   "display_name": "Python 3 (ipykernel)",
   "language": "python",
   "name": "python3"
  },
  "language_info": {
   "codemirror_mode": {
    "name": "ipython",
    "version": 3
   },
   "file_extension": ".py",
   "mimetype": "text/x-python",
   "name": "python",
   "nbconvert_exporter": "python",
   "pygments_lexer": "ipython3",
   "version": "3.7.8rc1"
  }
 },
 "nbformat": 4,
 "nbformat_minor": 5
}
