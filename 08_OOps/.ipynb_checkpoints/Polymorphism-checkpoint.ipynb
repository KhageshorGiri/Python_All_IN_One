{
 "cells": [
  {
   "cell_type": "markdown",
   "id": "80716aaa",
   "metadata": {},
   "source": [
    "# Polymorphism\n",
    "\n",
    "The word polymorphism means having many forms. In programming, ploymorphism means the same function name (but different signatures) being used for different types.    \n",
    "The key difference is the data types and nuber of agruments used in function."
   ]
  },
  {
   "cell_type": "code",
   "execution_count": 1,
   "id": "b5f010af",
   "metadata": {},
   "outputs": [
    {
     "name": "stdout",
     "output_type": "stream",
     "text": [
      "14\n",
      "3\n"
     ]
    }
   ],
   "source": [
    "# Python program to demonstrate in-built poly-\n",
    "# morphic functions\n",
    "\n",
    "# len() being used for a string\n",
    "print(len(\"khageshor giri\"))\n",
    "\n",
    "# len() being used for a list\n",
    "print(len([10, 20, 30]))\n"
   ]
  },
  {
   "cell_type": "markdown",
   "id": "b73da541",
   "metadata": {},
   "source": [
    "##### Types of Polymorphism\n",
    "1. Compile Time\n",
    "    1. Method Overloading\n",
    "    2. Operator overloading\n",
    "2. Run time\n",
    "    1. Virtual Function"
   ]
  },
  {
   "cell_type": "markdown",
   "id": "3ecb550b",
   "metadata": {},
   "source": [
    "### 1. Complie Time Ploymorphism\n",
    "\n",
    "Whenever an object is bound with its functionality at compile time, this is known as the compile-time polymorphism. At compile-time, or interprating time, python knows which method to call by checking the method signature. So this is called compile-time polymorphism or static or early binding.\n",
    "\n",
    "Compile-time polymorphism is achieved through function overloading and operator overloading.\n"
   ]
  },
  {
   "cell_type": "markdown",
   "id": "b8501282",
   "metadata": {},
   "source": [
    "Like other languages (for example, method overloading in C++) do, python does not support method overloading by default. But there are different ways to achieve method overloading in Python."
   ]
  },
  {
   "cell_type": "code",
   "execution_count": 9,
   "id": "2cc9bc2a",
   "metadata": {},
   "outputs": [
    {
     "name": "stdout",
     "output_type": "stream",
     "text": [
      "Result:  15\n"
     ]
    },
    {
     "ename": "TypeError",
     "evalue": "add() missing 1 required positional argument: 'c'",
     "output_type": "error",
     "traceback": [
      "\u001b[1;31m---------------------------------------------------------------------------\u001b[0m",
      "\u001b[1;31mTypeError\u001b[0m                                 Traceback (most recent call last)",
      "\u001b[1;32m~\\AppData\\Local\\Temp/ipykernel_18172/3808715853.py\u001b[0m in \u001b[0;36m<module>\u001b[1;34m\u001b[0m\n\u001b[0;32m     12\u001b[0m \u001b[0mcal\u001b[0m \u001b[1;33m=\u001b[0m \u001b[0mCalculation\u001b[0m\u001b[1;33m(\u001b[0m\u001b[1;33m)\u001b[0m\u001b[1;33m\u001b[0m\u001b[1;33m\u001b[0m\u001b[0m\n\u001b[0;32m     13\u001b[0m \u001b[0mcal\u001b[0m\u001b[1;33m.\u001b[0m\u001b[0madd\u001b[0m\u001b[1;33m(\u001b[0m\u001b[1;36m5\u001b[0m\u001b[1;33m,\u001b[0m \u001b[1;36m5\u001b[0m\u001b[1;33m,\u001b[0m \u001b[1;36m5\u001b[0m\u001b[1;33m)\u001b[0m\u001b[1;33m\u001b[0m\u001b[1;33m\u001b[0m\u001b[0m\n\u001b[1;32m---> 14\u001b[1;33m \u001b[0mcal\u001b[0m\u001b[1;33m.\u001b[0m\u001b[0madd\u001b[0m\u001b[1;33m(\u001b[0m\u001b[1;36m2\u001b[0m\u001b[1;33m,\u001b[0m \u001b[1;36m3\u001b[0m\u001b[1;33m)\u001b[0m\u001b[1;33m\u001b[0m\u001b[1;33m\u001b[0m\u001b[0m\n\u001b[0m\u001b[0;32m     15\u001b[0m \u001b[1;33m\u001b[0m\u001b[0m\n\u001b[0;32m     16\u001b[0m \u001b[1;31m# The problem with method overloading in Python is that we may overload\u001b[0m\u001b[1;33m\u001b[0m\u001b[1;33m\u001b[0m\u001b[1;33m\u001b[0m\u001b[0m\n",
      "\u001b[1;31mTypeError\u001b[0m: add() missing 1 required positional argument: 'c'"
     ]
    }
   ],
   "source": [
    "# creating a Calculation class\n",
    "class Calculation:\n",
    "    def __init__(self):\n",
    "        pass\n",
    "    \n",
    "    def add(self, a, b):\n",
    "        print(\"Result: \", a+b)\n",
    "        \n",
    "    def add(self, a, b, c):\n",
    "        print(\"Result: \", a+b+c)\n",
    "        \n",
    "cal = Calculation()\n",
    "cal.add(5, 5, 5)\n",
    "cal.add(2, 3)\n",
    "\n",
    "# The problem with method overloading in Python is that we may overload \n",
    "#vthe methods but can only use the latest defined method. "
   ]
  },
  {
   "cell_type": "code",
   "execution_count": 16,
   "id": "8e0cb07e",
   "metadata": {},
   "outputs": [
    {
     "name": "stdout",
     "output_type": "stream",
     "text": [
      "Result:  104\n",
      "Provide more numbers\n"
     ]
    }
   ],
   "source": [
    "# method 1\n",
    "# (Not the efficient one):\n",
    "\n",
    "class Calculation:\n",
    "    def __init__(self):\n",
    "        pass\n",
    "        \n",
    "    def add(self, a=None, b=None, c=None):\n",
    "        if(a!=None and b==None or c==None):\n",
    "            print(\"Provide more numbers\") #if there is only 1 number as input\n",
    "        else:\n",
    "            print(\"Result: \", a+b+c)\n",
    "        \n",
    "obj= Calculation()\n",
    "obj.add(19, 8, 77)#104\n",
    "obj.add(18)#Provide more numbers"
   ]
  },
  {
   "cell_type": "code",
   "execution_count": 19,
   "id": "006a295a",
   "metadata": {},
   "outputs": [],
   "source": [
    "## Method 2 (Efficient One):\n",
    "## By Using Multiple Dispatch Decorator \n",
    "## Multiple Dispatch Decorator Can be installed by: \n",
    "\n",
    "## pip install multipledispatch"
   ]
  },
  {
   "cell_type": "code",
   "execution_count": 33,
   "id": "4863b63d",
   "metadata": {},
   "outputs": [
    {
     "name": "stdout",
     "output_type": "stream",
     "text": [
      "Result First:  6\n",
      "Result Second:  12\n"
     ]
    }
   ],
   "source": [
    "from multipledispatch import dispatch\n",
    "\n",
    "class Product:\n",
    "    \n",
    "    # passing two parameter\n",
    "    @dispatch(int, int)\n",
    "    def product(self, first, second):\n",
    "        self.result = first*second\n",
    "        print(\"Result First: \", self.result)\n",
    "        \n",
    "    # passing three paramters\n",
    "    @dispatch(int, int, int)\n",
    "    def product(self, first, second, third):\n",
    "        self.result= first*second*third\n",
    "        print(\"Result Second: \", self.result)\n",
    "    \n",
    "# creating a instance for a class\n",
    "obj = Product()\n",
    "\n",
    "# calling product method with 2 arguments\n",
    "obj.product(2, 3) # this will give output of 6\n",
    "\n",
    "# calling product method with 3 arguments but all int\n",
    "obj.product(2, 3, 2) # this will give output of 12\n"
   ]
  },
  {
   "cell_type": "code",
   "execution_count": 25,
   "id": "15c95a54",
   "metadata": {},
   "outputs": [
    {
     "name": "stdout",
     "output_type": "stream",
     "text": [
      "6\n",
      "12\n",
      "17.204\n"
     ]
    }
   ],
   "source": [
    "from multipledispatch import dispatch\n",
    "\n",
    "# passing one parameter\n",
    "\n",
    "\n",
    "@dispatch(int, int)\n",
    "def product(first, second):\n",
    "\tresult = first*second\n",
    "\tprint(result)\n",
    "\n",
    "# passing two parameters\n",
    "\n",
    "\n",
    "@dispatch(int, int, int)\n",
    "def product(first, second, third):\n",
    "\tresult = first * second * third\n",
    "\tprint(result)\n",
    "\n",
    "# you can also pass data type of any value as per requirement\n",
    "\n",
    "\n",
    "@dispatch(float, float, float)\n",
    "def product(first, second, third):\n",
    "\tresult = first * second * third\n",
    "\tprint(result)\n",
    "\n",
    "\n",
    "# calling product method with 2 arguments\n",
    "product(2, 3) # this will give output of 6\n",
    "\n",
    "# calling product method with 3 arguments but all int\n",
    "product(2, 3, 2) # this will give output of 12\n",
    "\n",
    "# calling product method with 3 arguments but all float\n",
    "product(2.2, 3.4, 2.3) # this will give output of 17.985999999999997\n"
   ]
  },
  {
   "cell_type": "markdown",
   "id": "b99d0be9",
   "metadata": {},
   "source": [
    "#### Method Overriding (Virtual method)\n",
    "\n",
    "Method overriding is an example of run time polymorphism. In this, the specific implementation of the method that is already provided byt the parent class is provided by the child class.   \n",
    "It is used to change the behavaior of existing methods and there is a need for at least two classes for method overiding.  \n",
    "In method overriding, inheritance always required as it is done between parent class and child class methods."
   ]
  },
  {
   "cell_type": "code",
   "execution_count": 34,
   "id": "ec373f69",
   "metadata": {},
   "outputs": [
    {
     "name": "stdout",
     "output_type": "stream",
     "text": [
      "Class A display method\n",
      "Class B show method.\n",
      "Class B show method.\n"
     ]
    }
   ],
   "source": [
    "class A:\n",
    "    def display(self):\n",
    "        print(\"Class A display method\")\n",
    "        \n",
    "class B(A):\n",
    "    def show(self):\n",
    "        print(\"Class B show method.\")\n",
    "    \n",
    "    def display(self):\n",
    "        print(\"Class B display method\")\n",
    "        \n",
    "# creat the object instance\n",
    "b = B()\n",
    "a = A()\n",
    "a.display()\n",
    "b.show()\n",
    "b.show()"
   ]
  }
 ],
 "metadata": {
  "kernelspec": {
   "display_name": "Python 3 (ipykernel)",
   "language": "python",
   "name": "python3"
  },
  "language_info": {
   "codemirror_mode": {
    "name": "ipython",
    "version": 3
   },
   "file_extension": ".py",
   "mimetype": "text/x-python",
   "name": "python",
   "nbconvert_exporter": "python",
   "pygments_lexer": "ipython3",
   "version": "3.7.8rc1"
  }
 },
 "nbformat": 4,
 "nbformat_minor": 5
}
