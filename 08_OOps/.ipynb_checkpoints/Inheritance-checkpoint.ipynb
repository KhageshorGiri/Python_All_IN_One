{
 "cells": [
  {
   "cell_type": "markdown",
   "id": "1ddd7c09",
   "metadata": {},
   "source": [
    "# Inheritance\n",
    "\n",
    "One of the core concept in object oritended programming language.  \n",
    "\n",
    "It is a mechanism that allows you to create a hirarchy of classes that share a set of properties and methods by deriving a class from another class.   \n",
    "Inheritance is the capability of one class to derive or inherit the properties from another class.    \n",
    "\n",
    "##### Syntax    \n",
    "##### class A:        \n",
    "    #methods and attributes        \n",
    "##### class B(A):      \n",
    "    #method and attributes\n",
    "\n",
    "\n",
    "\n",
    "## Types of inheritance\n",
    "\n",
    "1. Single Inheritance\n",
    "2. Multiple Inheritance\n",
    "3. Multilevel Inheritance\n",
    "4. Hierarchical Inheritance\n",
    "5. Hybrid Inheritance"
   ]
  },
  {
   "cell_type": "markdown",
   "id": "a4f055ed",
   "metadata": {},
   "source": [
    "## 1. Single Inheritance\n",
    "\n",
    "In single inheritance the child class was derived fro a single parent class.    \n",
    "i.e a it ebanles a derived class to inherit properties from a single parent class."
   ]
  },
  {
   "cell_type": "code",
   "execution_count": 6,
   "id": "ec47080e",
   "metadata": {},
   "outputs": [
    {
     "name": "stdout",
     "output_type": "stream",
     "text": [
      "This is child class function.\n",
      "This is parent class function.\n"
     ]
    }
   ],
   "source": [
    "# Python program to demonstrate single inheritance\n",
    "\n",
    "#Base Class\n",
    "class Parent:\n",
    "    def parentClassFunction(self):\n",
    "        print(\"This is parent class function.\")\n",
    "        \n",
    "# Derived or child class\n",
    "class Child(Parent):\n",
    "    def childClassFunction(self):\n",
    "        print(\"This is child class function.\")\n",
    "        \n",
    "# instance of derived class\n",
    "obj = Child()\n",
    "obj.childClassFunction()\n",
    "obj.parentClassFunction()"
   ]
  },
  {
   "cell_type": "markdown",
   "id": "87b69a69",
   "metadata": {},
   "source": [
    "## 2. Multiple Inheritance\n",
    "\n",
    "When a class can be derived from more than one base class this type of inheritance is called multiple inheritance.    \n",
    "\n",
    "Unlike java and C# python support multiple inheritance."
   ]
  },
  {
   "cell_type": "code",
   "execution_count": 10,
   "id": "cc7b4f43",
   "metadata": {},
   "outputs": [
    {
     "name": "stdout",
     "output_type": "stream",
     "text": [
      "Mother:  Kesu Giri\n",
      "Father:  Krishna Kumari Giri\n"
     ]
    }
   ],
   "source": [
    "# Python program to demonstrate the multiple inheritance\n",
    "\n",
    "# Base class --first\n",
    "class Mother:\n",
    "    motherName = \"\"\n",
    "    \n",
    "    def motherName(self):\n",
    "        print(self.motherName)\n",
    "\n",
    "# Base class --second\n",
    "class Father:\n",
    "    fatherName = \"\"\n",
    "    \n",
    "    def fatherName(self):\n",
    "        print(self.fatherName)\n",
    "\n",
    "# Child class\n",
    "class Child(Father, Mother):\n",
    "    def parentInfo(self):\n",
    "        print(\"Mother: \", self.fatherName)\n",
    "        print(\"Father: \", self.motherName)\n",
    "        \n",
    "# creating a instance of child class\n",
    "child = Child()\n",
    "child.fatherName = \"Kesu Giri\"\n",
    "child.motherName = \"Krishna Kumari Giri\"\n",
    "child.parentInfo()"
   ]
  },
  {
   "cell_type": "markdown",
   "id": "250d8947",
   "metadata": {},
   "source": [
    "## 3. Multilevel Inheritance \n",
    "\n",
    "The multilevel inheritance use the concept of grandparent -> parent -> child  \n",
    "\n",
    "In this inherintance base class is derived from first child class and that derived class also derived another class.\n",
    "\n"
   ]
  },
  {
   "cell_type": "code",
   "execution_count": 13,
   "id": "ea2ba3bf",
   "metadata": {},
   "outputs": [
    {
     "name": "stdout",
     "output_type": "stream",
     "text": [
      "Grand Father: Chabu Giri\n",
      "Father Name: Kesu Giri\n",
      "Child Name: Khageshor Giri\n"
     ]
    }
   ],
   "source": [
    "# Python program to demonstrate multilevel inheritance \n",
    "\n",
    "# Base class\n",
    "\n",
    "class GrandFather:\n",
    "    def __init__(self, grandFatherName):\n",
    "        self.grandFatherName = grandFatherName\n",
    "        \n",
    "# child class --first\n",
    "class Father(GrandFather):\n",
    "    def __init__(self, fatherName, grandFather):\n",
    "        self.fatherName = fatherName\n",
    "        super().__init__(grandFather)\n",
    "\n",
    "# grand child class\n",
    "class Child(Father):\n",
    "    def __init__(self, child, father, grandFather):\n",
    "        self.childName = child\n",
    "        super().__init__(father, grandFather)\n",
    "        \n",
    "    def display_fimaly_info(self):\n",
    "        print(\"Grand Father:\", self.grandFatherName)\n",
    "        print(\"Father Name:\", self.fatherName)\n",
    "        print(\"Child Name:\", self.childName)\n",
    "        \n",
    "# creating a instance for grand child class\n",
    "obj = Child(\"Khageshor Giri\", \"Kesu Giri\", \"Chabu Giri\")\n",
    "obj.display_fimaly_info()"
   ]
  },
  {
   "cell_type": "markdown",
   "id": "e93c3537",
   "metadata": {},
   "source": [
    "## 4. Hierarchical Inheritance \n",
    "\n",
    "One single base class was derived from more than one child class"
   ]
  },
  {
   "cell_type": "code",
   "execution_count": 15,
   "id": "8f680074",
   "metadata": {},
   "outputs": [
    {
     "name": "stdout",
     "output_type": "stream",
     "text": [
      "Parent class function.\n",
      "child 1 class info function.\n",
      "Parent class function.\n",
      "child 2 class info function.\n"
     ]
    }
   ],
   "source": [
    "# Python program to demonstrate hierarical inherintance\n",
    "\n",
    "# Base Class \n",
    "class Parent:\n",
    "    def info(self):\n",
    "        print(\"Parent class function.\")\n",
    "        \n",
    "# Child Class 1\n",
    "class Child1(Parent):\n",
    "    def childInfo(self):\n",
    "        print(\"child 1 class info function.\")\n",
    "        \n",
    "# child class 2\n",
    "class Child2(Parent):\n",
    "    def childInfo(self):\n",
    "        print(\"child 2 class info function.\")\n",
    "        \n",
    "# creating a instances for child classes\n",
    "child1 = Child1()\n",
    "child2 = Child2()\n",
    "\n",
    "child1.info()\n",
    "child1.childInfo()\n",
    "\n",
    "child2.info()\n",
    "child2.childInfo()"
   ]
  },
  {
   "cell_type": "markdown",
   "id": "b1745b0f",
   "metadata": {},
   "source": [
    "## 5. Hybrid Inheritance\n",
    "\n",
    "Inheritance consisting of multiple types of inheritance is called hybrid inheritance."
   ]
  },
  {
   "cell_type": "code",
   "execution_count": 17,
   "id": "c29c56fb",
   "metadata": {},
   "outputs": [
    {
     "name": "stdout",
     "output_type": "stream",
     "text": [
      "This function is in School.\n",
      "This function is in Student1.\n",
      "This function is in Student2.\n",
      "This function is in Group\n"
     ]
    }
   ],
   "source": [
    "# Python programt to demonstrate hybrade inheritance\n",
    "\n",
    "class School:\n",
    "    def fun1(self):\n",
    "        print(\"This function is in School.\")\n",
    "        \n",
    "class Student1(School):\n",
    "    def fun2(self):\n",
    "        print(\"This function is in Student1.\")\n",
    "        \n",
    "class Student2(School):\n",
    "    def fun3(self):\n",
    "        print(\"This function is in Student2.\")\n",
    "        \n",
    "class Group(Student1, Student2):\n",
    "    def fun4(self):\n",
    "        print(\"This function is in Group\")\n",
    "    \n",
    "# creating a instance of child class\n",
    "group = Group()\n",
    "group.fun1()\n",
    "group.fun2()\n",
    "group.fun3()\n",
    "group.fun4()"
   ]
  },
  {
   "cell_type": "code",
   "execution_count": null,
   "id": "516e20b7",
   "metadata": {},
   "outputs": [],
   "source": []
  }
 ],
 "metadata": {
  "kernelspec": {
   "display_name": "Python 3 (ipykernel)",
   "language": "python",
   "name": "python3"
  },
  "language_info": {
   "codemirror_mode": {
    "name": "ipython",
    "version": 3
   },
   "file_extension": ".py",
   "mimetype": "text/x-python",
   "name": "python",
   "nbconvert_exporter": "python",
   "pygments_lexer": "ipython3",
   "version": "3.7.8rc1"
  }
 },
 "nbformat": 4,
 "nbformat_minor": 5
}
