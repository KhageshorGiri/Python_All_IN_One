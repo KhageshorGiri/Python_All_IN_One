{
 "cells": [
  {
   "cell_type": "markdown",
   "id": "e1803f68",
   "metadata": {},
   "source": [
    "# Abstraction\n",
    "\n",
    "Data abstraction is the process of hiding certain details and showing only essenial information to the user.   \n",
    "Abstraction is used to hide the internal functionality of the unction for the user. the users only interact with the basic implmentation of the function, but inner working is hidden. User is familer with that \"what function does\" but they don't know \"how it does\".\n",
    "\n",
    "Data Abstraction may also be defined as the process of identifying only the required characteristics of an object ignoring the irrelevant details. "
   ]
  },
  {
   "cell_type": "code",
   "execution_count": null,
   "id": "0cd9c404",
   "metadata": {},
   "outputs": [],
   "source": []
  }
 ],
 "metadata": {
  "kernelspec": {
   "display_name": "Python 3 (ipykernel)",
   "language": "python",
   "name": "python3"
  },
  "language_info": {
   "codemirror_mode": {
    "name": "ipython",
    "version": 3
   },
   "file_extension": ".py",
   "mimetype": "text/x-python",
   "name": "python",
   "nbconvert_exporter": "python",
   "pygments_lexer": "ipython3",
   "version": "3.7.8rc1"
  }
 },
 "nbformat": 4,
 "nbformat_minor": 5
}
