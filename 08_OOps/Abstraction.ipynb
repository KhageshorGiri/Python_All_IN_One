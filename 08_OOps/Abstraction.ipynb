{
 "cells": [
  {
   "cell_type": "markdown",
   "id": "63251e8c",
   "metadata": {},
   "source": [
    "# Abstraction\n",
    "\n",
    "Data abstraction is the process of hiding certain details and showing only essenial information to the user.   \n",
    "Abstraction is used to hide the internal functionality of the function for the user. The users only interact with the basic implmentation of the function, but inner working is hidden. User is familer with that \"what function does\" but they don't know \"how it does\".\n",
    "\n",
    "Data Abstraction may also be defined as the process of identifying only the required characteristics of an object ignoring the irrelevant details. "
   ]
  },
  {
   "cell_type": "code",
   "execution_count": 2,
   "id": "325aefd9",
   "metadata": {},
   "outputs": [
    {
     "name": "stdout",
     "output_type": "stream",
     "text": [
      "Additon: 5\n"
     ]
    }
   ],
   "source": [
    "# Basic example\n",
    "\n",
    "class Abstraction:\n",
    "    def __init__(self, firstValue, secondValue):\n",
    "        self.first = firstValue\n",
    "        self.second = secondValue\n",
    "        \n",
    "    def Calculate(self):\n",
    "        return self.first + self.second\n",
    "    \n",
    "    def Addition(self):\n",
    "        # here the user doesnot know about the Calculate function\n",
    "        # they know only about what it is but they cannot know about how it works.\n",
    "        result = self.Calculate()\n",
    "        print(\"Additon:\", result)\n",
    "        \n",
    "abstraction = Abstraction(2, 3)\n",
    "abstraction.Addition()"
   ]
  },
  {
   "cell_type": "markdown",
   "id": "68755914",
   "metadata": {},
   "source": [
    "## The actual abstraction is implemented using Abstract class"
   ]
  },
  {
   "cell_type": "markdown",
   "id": "2f008056",
   "metadata": {},
   "source": [
    "### Abstract Class: \n",
    "\n",
    "A class which contains one or more abstract methods is called an abstract class. Abstract method is  method that has a declaration but does not have an implementation.     \n",
    "Abstract class can be inherited by the subclass annd abstract method gets its implementation or defination in the subclass.  \n",
    "Abstraction class are meant to be blueprint of the other classes.   \n",
    "\n",
    "When we want to provide a commom interface for different implementations of a component, we use an abstract class.\n",
    "\n",
    "Abstract class is a restricted class that cannot be used to create objects (to access it, it must be inherited from another class)\n",
    "\n",
    "###### to define a abstract class in python we use built in \"abc\" module in python"
   ]
  },
  {
   "cell_type": "code",
   "execution_count": 11,
   "id": "bafbafee",
   "metadata": {},
   "outputs": [
    {
     "name": "stdout",
     "output_type": "stream",
     "text": [
      "I have 3 sides.\n",
      "I have 4 sides\n"
     ]
    }
   ],
   "source": [
    "# python progra showing \n",
    "from abc import ABC, abstractmethod\n",
    "\n",
    "# abstract base class work\n",
    "class Shape(ABC):\n",
    "    \n",
    "    # declaring a abstract method\n",
    "    @abstractmethod\n",
    "    def noOfSides(self):\n",
    "        pass\n",
    "    \n",
    "    def display(self):\n",
    "        pass\n",
    "\n",
    "# creating a child class that implements the abstract class\n",
    "class Triangle(Shape):   \n",
    "    # implementing abstract method\n",
    "    def noOfSides(self):\n",
    "        print(\"I have 3 sides.\")\n",
    "        \n",
    "# creating another subclass that implement same abstract class\n",
    "class Rectangel(Shape): \n",
    "    # implementing abstract method\n",
    "    def noOfSides(self):\n",
    "        print(\"I have 4 sides\")\n",
    "    \n",
    "# creating a instance for all child class and calling their method.\n",
    "T = Triangle()\n",
    "T.noOfSides()\n",
    "\n",
    "R = Rectangel()\n",
    "R.noOfSides()"
   ]
  },
  {
   "cell_type": "markdown",
   "id": "43cf9fb0",
   "metadata": {},
   "source": [
    "#### Abstract Properties : \n",
    "Abstract classes include attributes in addition to methods, you can require the attributes in concrete classes by defining them with @abstractproperty. "
   ]
  },
  {
   "cell_type": "code",
   "execution_count": 23,
   "id": "1ffb50ad",
   "metadata": {},
   "outputs": [
    {
     "name": "stdout",
     "output_type": "stream",
     "text": [
      "Diplay, Impleented\n",
      "Info, Implemnted\n",
      "Message, Implemented\n",
      "Self, Implemented\n"
     ]
    }
   ],
   "source": [
    "# python programing to show concret method in abstract class\n",
    "# to show abstract properties\n",
    "\n",
    "from abc import ABC, abstractmethod, abstractproperty\n",
    "\n",
    "class Parent(ABC):\n",
    "    \n",
    "    @abstractmethod\n",
    "    def display(self):\n",
    "        pass\n",
    "    \n",
    "    @abstractproperty\n",
    "    def info(self):\n",
    "        pass\n",
    "    \n",
    "    def message(self):\n",
    "        pass\n",
    "    \n",
    "    def code(self):\n",
    "        print(\"Abstract class method\")\n",
    "        \n",
    "class Child(Parent):\n",
    "    \n",
    "    # implemnting all abstract methods and properties in child class\n",
    "    def display(self):\n",
    "        print(\"Diplay, Impleented\")\n",
    "        \n",
    "    def info(self):\n",
    "        self.info = \"Info, Implemnted\"\n",
    "        return self.info \n",
    "        \n",
    "    # implementing non abstract methods\n",
    "    def message(self):\n",
    "        print(\"Message, Implemented\")\n",
    "        \n",
    "    def code(self):\n",
    "        print(\"Self, Implemented\")\n",
    "        \n",
    "# creating the instance of a child class\n",
    "child = Child()\n",
    "\n",
    "# calling all methos\n",
    "child.display()\n",
    "print(child.info())\n",
    "child.message()\n",
    "child.code()"
   ]
  }
 ],
 "metadata": {
  "kernelspec": {
   "display_name": "Python 3 (ipykernel)",
   "language": "python",
   "name": "python3"
  },
  "language_info": {
   "codemirror_mode": {
    "name": "ipython",
    "version": 3
   },
   "file_extension": ".py",
   "mimetype": "text/x-python",
   "name": "python",
   "nbconvert_exporter": "python",
   "pygments_lexer": "ipython3",
   "version": "3.7.8rc1"
  }
 },
 "nbformat": 4,
 "nbformat_minor": 5
}
