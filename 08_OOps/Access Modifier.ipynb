{
 "cells": [
  {
   "cell_type": "markdown",
   "id": "ba958bd0",
   "metadata": {},
   "source": [
    "# Access Modifires"
   ]
  },
  {
   "cell_type": "markdown",
   "id": "7610a07b",
   "metadata": {},
   "source": [
    "The Access Modifier is used to restrict access to different methods or properties of a class.   \n",
    "Python control access modification whic are used to restrict access to the variables and methoda of the class.   \n",
    "Python has three types of access modifiers.\n",
    "1. Public Access Modifier.\n",
    "2. Protected access Modifier.\n",
    "3. Private Access Modifier."
   ]
  },
  {
   "cell_type": "markdown",
   "id": "28d5d7b0",
   "metadata": {},
   "source": [
    "## 1. Public Access Modifier\n",
    "The members of a class that are declared public are easily accessible from any part of the program. All data members and member functions of a class are public by default."
   ]
  },
  {
   "cell_type": "code",
   "execution_count": 4,
   "id": "c8b962c9",
   "metadata": {},
   "outputs": [
    {
     "name": "stdout",
     "output_type": "stream",
     "text": [
      "Name: Khageshor Giri\n",
      "Age: 22\n"
     ]
    }
   ],
   "source": [
    "# program to illustrate public access modifier in a class\n",
    "\n",
    "class Test:\n",
    "    \n",
    "    # constructor\n",
    "    def __init__(self, name, age):\n",
    "        # public data members\n",
    "        self.name = name\n",
    "        self.age = age\n",
    "    \n",
    "    # public member function\n",
    "    def displayAge(self):\n",
    "        # accessing public data member inside the class\n",
    "        print(\"Age:\", self.age)\n",
    "        \n",
    "# creating object of the class\n",
    "obj = Test(\"Khageshor Giri\", 22)\n",
    "\n",
    "# accessing data member outside the class\n",
    "print(\"Name:\", obj.name)\n",
    "\n",
    "#calling the member function\n",
    "obj.displayAge()"
   ]
  },
  {
   "cell_type": "markdown",
   "id": "396b0118",
   "metadata": {},
   "source": [
    "## 2. Protected Access Modifier\n",
    "The members of a class that are declared protected are only accessible to a class derived from it. Data members of a class are declared protected by adding a single underscore ‘_’ symbol before the data member of that class. \n"
   ]
  },
  {
   "cell_type": "code",
   "execution_count": 15,
   "id": "aca441d4",
   "metadata": {},
   "outputs": [
    {
     "name": "stdout",
     "output_type": "stream",
     "text": [
      "Name: ram\n",
      "Roll: 1\n",
      "Branch: Computer\n"
     ]
    },
    {
     "data": {
      "text/plain": [
       "'ram'"
      ]
     },
     "execution_count": 15,
     "metadata": {},
     "output_type": "execute_result"
    }
   ],
   "source": [
    "# program to illustate protected access modifier in a class\n",
    "\n",
    "#super class\n",
    "class Student:\n",
    "    \n",
    "    # protected data mebers\n",
    "    _name = None\n",
    "    _roll = None\n",
    "    _branch = None\n",
    "    \n",
    "    #constructor\n",
    "    def __init__(self, name, roll, branch):\n",
    "        self._name = name\n",
    "        self._roll = roll\n",
    "        self._branch = branch\n",
    "        \n",
    "    # protected member function\n",
    "    def _displayStudentName(self):\n",
    "        print(\"Name:\", self._name)\n",
    "       \n",
    "    \n",
    "class Result(Student):\n",
    "    \n",
    "    # constructor\n",
    "    def __init__(self, name, roll, branch):\n",
    "        # calling parent class constructor and passing value to the parent class construtor\n",
    "        super().__init__(name, roll, branch)\n",
    "        \n",
    "    def displayDetails(self):\n",
    "        print(\"Name:\", self._name)\n",
    "        print(\"Roll:\", self._roll)\n",
    "        print(\"Branch:\", self._branch)\n",
    "        \n",
    "std = Result(\"ram\", 1, \"Computer\")\n",
    "std.displayDetails()\n",
    "std._name"
   ]
  },
  {
   "cell_type": "markdown",
   "id": "e8620006",
   "metadata": {},
   "source": [
    "## 3. Private access Modifier\n",
    "The members of a class that are declared private are accessible within the class only, private access modifier is the most secure access modifier. Data members of a class are declared private by adding a double underscore '__' symbol before the data member of that class."
   ]
  },
  {
   "cell_type": "code",
   "execution_count": 14,
   "id": "1985d6da",
   "metadata": {},
   "outputs": [
    {
     "name": "stdout",
     "output_type": "stream",
     "text": [
      "Name: Khageshor Giri\n",
      "Roll: 1\n"
     ]
    },
    {
     "ename": "AttributeError",
     "evalue": "'Test' object has no attribute '__displayDetails'",
     "output_type": "error",
     "traceback": [
      "\u001b[1;31m---------------------------------------------------------------------------\u001b[0m",
      "\u001b[1;31mAttributeError\u001b[0m                            Traceback (most recent call last)",
      "\u001b[1;32m~\\AppData\\Local\\Temp/ipykernel_11984/2328447312.py\u001b[0m in \u001b[0;36m<module>\u001b[1;34m\u001b[0m\n\u001b[0;32m     27\u001b[0m \u001b[1;33m\u001b[0m\u001b[0m\n\u001b[0;32m     28\u001b[0m \u001b[1;31m# we cannot access private member of class form outside the class.\u001b[0m\u001b[1;33m\u001b[0m\u001b[1;33m\u001b[0m\u001b[1;33m\u001b[0m\u001b[0m\n\u001b[1;32m---> 29\u001b[1;33m \u001b[0mstudent\u001b[0m\u001b[1;33m.\u001b[0m\u001b[0m__displayDetails\u001b[0m\u001b[1;33m(\u001b[0m\u001b[1;33m)\u001b[0m\u001b[1;33m\u001b[0m\u001b[1;33m\u001b[0m\u001b[0m\n\u001b[0m",
      "\u001b[1;31mAttributeError\u001b[0m: 'Test' object has no attribute '__displayDetails'"
     ]
    }
   ],
   "source": [
    "# program to illustrate private access modifier in a class\n",
    "\n",
    "class Test:\n",
    "    \n",
    "    # private members\n",
    "    __name = None\n",
    "    __roll = None\n",
    "    \n",
    "    # constructor\n",
    "    def __init__(self, name, roll):\n",
    "        self.__name = name\n",
    "        self.__roll = roll\n",
    "        \n",
    "    # private member function\n",
    "    def __displayDetails(self):\n",
    "        # accessing private data members\n",
    "        print(\"Name:\", self.__name)\n",
    "        print(\"Roll:\", self.__roll)\n",
    "        \n",
    "    # public member function\n",
    "    def DisplayInfo(self):\n",
    "        self.__displayDetails()\n",
    "        \n",
    "# creating a instance of a class\n",
    "student = Test(\"Khageshor Giri\",1)\n",
    "student.DisplayInfo()\n",
    "\n",
    "# we cannot access private member of class form outside the class.\n",
    "student.__displayDetails()"
   ]
  },
  {
   "cell_type": "markdown",
   "id": "436782ef",
   "metadata": {},
   "source": [
    "## Single program to demontrate the concept of access modifiers."
   ]
  },
  {
   "cell_type": "code",
   "execution_count": 19,
   "id": "3906784f",
   "metadata": {},
   "outputs": [
    {
     "name": "stdout",
     "output_type": "stream",
     "text": [
      "60000\n",
      "Khageshor\n",
      "Project: WCB\n"
     ]
    },
    {
     "ename": "AttributeError",
     "evalue": "'Employee' object has no attribute '__project'",
     "output_type": "error",
     "traceback": [
      "\u001b[1;31m---------------------------------------------------------------------------\u001b[0m",
      "\u001b[1;31mAttributeError\u001b[0m                            Traceback (most recent call last)",
      "\u001b[1;32m~\\AppData\\Local\\Temp/ipykernel_11984/1413168810.py\u001b[0m in \u001b[0;36m<module>\u001b[1;34m\u001b[0m\n\u001b[0;32m     27\u001b[0m \u001b[1;33m\u001b[0m\u001b[0m\n\u001b[0;32m     28\u001b[0m \u001b[1;31m# accesingn a private variable\u001b[0m\u001b[1;33m\u001b[0m\u001b[1;33m\u001b[0m\u001b[1;33m\u001b[0m\u001b[0m\n\u001b[1;32m---> 29\u001b[1;33m \u001b[0mprint\u001b[0m\u001b[1;33m(\u001b[0m\u001b[0memp\u001b[0m\u001b[1;33m.\u001b[0m\u001b[0m__project\u001b[0m\u001b[1;33m)\u001b[0m\u001b[1;33m\u001b[0m\u001b[1;33m\u001b[0m\u001b[0m\n\u001b[0m",
      "\u001b[1;31mAttributeError\u001b[0m: 'Employee' object has no attribute '__project'"
     ]
    }
   ],
   "source": [
    "# defining a class\n",
    "class Employee:\n",
    "    # constructor \n",
    "    def __init__(self, name, salary, project):\n",
    "        #public variable\n",
    "        self.salary = salary\n",
    "        # protected variable\n",
    "        self._name = name\n",
    "        # private variable\n",
    "        self.__project = project\n",
    "        \n",
    "    # public member function\n",
    "    def get_project(self):\n",
    "        print(\"Project:\", self.__project)\n",
    "        \n",
    "# creating a instance of class\n",
    "emp = Employee(\"Khageshor\", 60000, \"WCB\")\n",
    "\n",
    "# accessing a public variable\n",
    "print(emp.salary)\n",
    "\n",
    "# accessing a protectetd variable\n",
    "print(emp._name)\n",
    "\n",
    "#accesing a public method\n",
    "emp.get_project()\n",
    "\n",
    "# accesingn a private variable\n",
    "print(emp.__project)"
   ]
  },
  {
   "cell_type": "code",
   "execution_count": null,
   "id": "45d23fb8",
   "metadata": {},
   "outputs": [],
   "source": []
  }
 ],
 "metadata": {
  "kernelspec": {
   "display_name": "Python 3 (ipykernel)",
   "language": "python",
   "name": "python3"
  },
  "language_info": {
   "codemirror_mode": {
    "name": "ipython",
    "version": 3
   },
   "file_extension": ".py",
   "mimetype": "text/x-python",
   "name": "python",
   "nbconvert_exporter": "python",
   "pygments_lexer": "ipython3",
   "version": "3.7.8rc1"
  }
 },
 "nbformat": 4,
 "nbformat_minor": 5
}
