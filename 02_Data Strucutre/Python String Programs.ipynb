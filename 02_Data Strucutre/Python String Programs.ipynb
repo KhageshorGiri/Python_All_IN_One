{
 "cells": [
  {
   "cell_type": "markdown",
   "id": "41703912",
   "metadata": {},
   "source": [
    "# Basic String Programs"
   ]
  },
  {
   "cell_type": "code",
   "execution_count": 10,
   "id": "620b6e71",
   "metadata": {},
   "outputs": [
    {
     "name": "stdout",
     "output_type": "stream",
     "text": [
      "Enter a string: ram\n",
      "NO\n"
     ]
    }
   ],
   "source": [
    "##### 1. Python program to check whether the string is Symmetrical or Palindrome\n",
    "string = input(\"Enter a string: \")\n",
    "reversedString = ''\n",
    "for letter in string:\n",
    "    reversedString = letter + reversedString\n",
    "if string == reversedString:\n",
    "    print(\"YES\")\n",
    "else:\n",
    "    print(\"NO\")"
   ]
  },
  {
   "cell_type": "code",
   "execution_count": 14,
   "id": "b7dfa992",
   "metadata": {},
   "outputs": [
    {
     "name": "stdout",
     "output_type": "stream",
     "text": [
      "Enter a string: ram\n",
      "Method 1 ..............\n",
      "Revesed String:  mar\n",
      "Mehthod 2 .........\n",
      "mar\n",
      "Method 3 ..............\n",
      "mar\n"
     ]
    }
   ],
   "source": [
    "##### 2. Reverse words in a given String in Python\n",
    "string = input(\"Enter a string: \")\n",
    "print(\"Method 1 ..............\")\n",
    "print(\"Revesed String: \", string[::-1])\n",
    "print(\"Mehthod 2 .........\")\n",
    "reversedString = reversed(string)\n",
    "reversedString = list(reversedString)\n",
    "print(\"\".join(reversedString))\n",
    "print('Method 3 ..............')\n",
    "reversedString = ''\n",
    "for letter in string:\n",
    "    reversedString = letter + reversedString\n",
    "print(reversedString)"
   ]
  },
  {
   "cell_type": "code",
   "execution_count": 16,
   "id": "5c5e846e",
   "metadata": {},
   "outputs": [
    {
     "name": "stdout",
     "output_type": "stream",
     "text": [
      "Enter a string: binod\n",
      "No of vowels:  2\n"
     ]
    }
   ],
   "source": [
    "##### 3. Python program to count number of vowels using sets in given string\n",
    "inputString = input(\"Enter a string: \")\n",
    "stringSet = set(inputString)\n",
    "count = 0\n",
    "for letter in stringSet:\n",
    "    if letter.lower() in {'a', 'e', 'i', 'o', 'u'}:\n",
    "        count += 1\n",
    "print(\"No of vowels: \", count)"
   ]
  },
  {
   "cell_type": "code",
   "execution_count": 17,
   "id": "1e0a98a0",
   "metadata": {},
   "outputs": [],
   "source": [
    "##### 4. Python – Least Frequent Character in String\n",
    "##### 5. Python | Maximum frequency character in String"
   ]
  },
  {
   "cell_type": "code",
   "execution_count": 20,
   "id": "11dc6e4d",
   "metadata": {},
   "outputs": [
    {
     "name": "stdout",
     "output_type": "stream",
     "text": [
      "Enter a string: khageshsor\n",
      "{'k': 1, 'h': 2, 'a': 1, 'g': 1, 'e': 1, 's': 3, 'o': 1, 'r': 1}\n"
     ]
    }
   ],
   "source": [
    "string = input(\"Enter a string: \")\n",
    "occurance = {}\n",
    "count = 0\n",
    "for char in string:\n",
    "    if char not in occurance.keys():\n",
    "        count = 1\n",
    "        occurance[char] = count\n",
    "    elif char in occurance.keys():\n",
    "        count += 1\n",
    "        occurance[char] = count\n",
    "print(occurance)"
   ]
  },
  {
   "cell_type": "code",
   "execution_count": 3,
   "id": "efa481cb",
   "metadata": {},
   "outputs": [],
   "source": [
    "##### 6. Python | Frequency of numbers in String"
   ]
  },
  {
   "cell_type": "code",
   "execution_count": 24,
   "id": "7fec17b4",
   "metadata": {},
   "outputs": [
    {
     "name": "stdout",
     "output_type": "stream",
     "text": [
      "Enter a string: r@m\n",
      "Yes\n"
     ]
    }
   ],
   "source": [
    "##### 7. Python | Program to check if a string contains any special character\n",
    "string = input('Enter a string: ')\n",
    "specialChars = ['@','_','!','#','$','%','^','&','*','(',')','<','>','?','/','\\\\','|','}','{','~',':']\n",
    "flag = False\n",
    "for letter in string:\n",
    "    if letter in specialChars:\n",
    "        flag = True\n",
    "        break\n",
    "if flag == True:\n",
    "    print(\"Yes\")\n",
    "else:\n",
    "    print(\"No\")\n",
    "    "
   ]
  }
 ],
 "metadata": {
  "kernelspec": {
   "display_name": "Python 3 (ipykernel)",
   "language": "python",
   "name": "python3"
  },
  "language_info": {
   "codemirror_mode": {
    "name": "ipython",
    "version": 3
   },
   "file_extension": ".py",
   "mimetype": "text/x-python",
   "name": "python",
   "nbconvert_exporter": "python",
   "pygments_lexer": "ipython3",
   "version": "3.7.8rc1"
  }
 },
 "nbformat": 4,
 "nbformat_minor": 5
}
