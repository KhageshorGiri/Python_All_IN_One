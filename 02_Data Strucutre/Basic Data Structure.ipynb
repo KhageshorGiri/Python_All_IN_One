{
 "cells": [
  {
   "cell_type": "markdown",
   "id": "725fbf51-755d-4c83-ae8c-025e829aac4c",
   "metadata": {},
   "source": [
    "# Basic Data Structure --> List, Tuple, Dictionary, Sets, String"
   ]
  },
  {
   "cell_type": "markdown",
   "id": "c0ee0ae3-7328-40cc-8f8e-7029ea9917f1",
   "metadata": {},
   "source": [
    "#### 1. Create a tuple containing the names of five countries and display the whole tuple. Ask the user to enter one of the countries that have been shown to them and then display the index number (i.e. position in the list) of that item in the tuple."
   ]
  },
  {
   "cell_type": "code",
   "execution_count": 6,
   "id": "a79429ec-b68f-4c53-91b8-092e93321f0e",
   "metadata": {},
   "outputs": [
    {
     "name": "stdout",
     "output_type": "stream",
     "text": [
      "('Nepal', 'America', 'India', 'Canda', 'China')\n",
      "\n",
      "Chose any country: \n"
     ]
    },
    {
     "name": "stdin",
     "output_type": "stream",
     "text": [
      ">: America\n"
     ]
    },
    {
     "name": "stdout",
     "output_type": "stream",
     "text": [
      "1\n"
     ]
    }
   ],
   "source": [
    "countries = (\"Nepal\",\"America\", \"India\", \"Canda\", \"China\")\n",
    "print(countries)\n",
    "print(\"\\nChose any country: \")\n",
    "country = input(\">:\")\n",
    "print(countries.index(country))"
   ]
  },
  {
   "cell_type": "markdown",
   "id": "cad824da-7e81-4b33-81b5-8339d54ef414",
   "metadata": {},
   "source": [
    "#### 2. Add to program 069 to ask the user to enter a number and display the country in that position. "
   ]
  },
  {
   "cell_type": "code",
   "execution_count": null,
   "id": "a4358be0-0c1e-49b7-beab-f982f8b997f3",
   "metadata": {},
   "outputs": [],
   "source": [
    "countries = (\"Nepal\",\"America\", \"India\", \"Canda\", \"China\")\n",
    "print(countries)\n",
    "print(\"\\nEnter Index: \")\n",
    "index = int(input(\">:\"))\n",
    "print(countries[index])"
   ]
  },
  {
   "cell_type": "markdown",
   "id": "1422d74b-d0e6-4ac1-be25-cba4a7b6bc6f",
   "metadata": {},
   "source": [
    "#### 3. Create a list of two sports. Ask the user what their favourite sport is and add this to the end of the list. Sort the list and display it. "
   ]
  },
  {
   "cell_type": "code",
   "execution_count": 11,
   "id": "1d557180-788a-49ab-9ca1-f8e86b867dbe",
   "metadata": {},
   "outputs": [
    {
     "name": "stdin",
     "output_type": "stream",
     "text": [
      "What is your Favourite game?  Football\n"
     ]
    },
    {
     "name": "stdout",
     "output_type": "stream",
     "text": [
      "['BasketBall', 'Circket', 'Football']\n"
     ]
    }
   ],
   "source": [
    "sport = [\"Circket\", \"BasketBall\"]\n",
    "game = input(\"What is your Favourite game? \")\n",
    "sport.append(game)\n",
    "sport.sort()\n",
    "print(sport)"
   ]
  },
  {
   "cell_type": "markdown",
   "id": "fb9bb788-8027-4038-9ee0-e571cfcc50be",
   "metadata": {},
   "source": [
    "#### 4. Create a list of six school subjects. Ask the user which of these subjects they don’t like. Delete the subject they have chosen from the list before you display the list again. "
   ]
  },
  {
   "cell_type": "code",
   "execution_count": 15,
   "id": "50904142-6822-4000-864d-2b17b92687a2",
   "metadata": {},
   "outputs": [
    {
     "name": "stdout",
     "output_type": "stream",
     "text": [
      "Which of thes subjects you dont like? \n",
      "['Math', 'Computer', 'Science', 'Sport', 'Nepali', 'English', 'Social']\n"
     ]
    },
    {
     "name": "stdin",
     "output_type": "stream",
     "text": [
      " Social\n"
     ]
    },
    {
     "name": "stdout",
     "output_type": "stream",
     "text": [
      "['Math', 'Computer', 'Science', 'Sport', 'Nepali', 'English']\n"
     ]
    }
   ],
   "source": [
    "subjects = [\"Math\", \"Computer\", \"Science\", \"Sport\", \"Nepali\", \"English\", \"Social\"]\n",
    "print(\"Which of thes subjects you dont like? \")\n",
    "print(subjects)\n",
    "dislikedSubject = input()\n",
    "if dislikedSubject in subjects:\n",
    "    index = subjects.index(dislikedSubject)\n",
    "    del subjects[index]\n",
    "    print(subjects)\n",
    "else:\n",
    "    print(\"Please enter valid subject name.\")"
   ]
  },
  {
   "cell_type": "markdown",
   "id": "51c51be1-c383-46e5-8173-2a9c6b7ce40d",
   "metadata": {},
   "source": [
    "#### 5. Ask the user to enter four of their favourite foods and store them in a dictionary so that they are indexed with numbers starting from 1. Display the dictionary in full, showing the index number and the item. Ask them which they want to get rid of and remove it from the list. Sort the remaining data and display the dictionary."
   ]
  },
  {
   "cell_type": "code",
   "execution_count": 21,
   "id": "758b5d77-bd55-498a-a577-ba7e4838e414",
   "metadata": {},
   "outputs": [
    {
     "name": "stdin",
     "output_type": "stream",
     "text": [
      "Enter 1st favourit food:  Dal Vat Tarkari\n",
      "Enter 2st favourit food:  Rooti Tarkari\n",
      "Enter 3st favourit food:  Veg Tarkari\n",
      "Enter 4st favourit food:  Pazza\n"
     ]
    },
    {
     "name": "stdout",
     "output_type": "stream",
     "text": [
      "{1: 'Dal Vat Tarkari', 2: 'Rooti Tarkari', 3: 'Veg Tarkari', 4: 'Pazza'}\n",
      "From whicj food item you want to get rid of? \n"
     ]
    },
    {
     "name": "stdin",
     "output_type": "stream",
     "text": [
      " 4\n"
     ]
    },
    {
     "name": "stdout",
     "output_type": "stream",
     "text": [
      "{1: 'Dal Vat Tarkari', 2: 'Rooti Tarkari', 3: 'Veg Tarkari'}\n"
     ]
    }
   ],
   "source": [
    "foods = dict()\n",
    "for i in range(1,5):\n",
    "    food = input(f\"Enter {i}st favourit food: \")\n",
    "    foods[i] = food\n",
    "print(foods)\n",
    "print(\"From whicj food item you want to get rid of? \")\n",
    "ridFood = int(input())\n",
    "del foods[ridFood]\n",
    "print(foods)"
   ]
  },
  {
   "cell_type": "markdown",
   "id": "effe55e8-a282-43a3-bd50-8ab70180c137",
   "metadata": {},
   "source": [
    "#### 6. Enter a list of ten colours. Ask the user for a starting number between 0 and 4 and an end number between 5 and 9. Display the list for those colours between the start and end numbers the user input. "
   ]
  },
  {
   "cell_type": "code",
   "execution_count": 1,
   "id": "36743a63-5468-4796-94ac-95204fa8c17a",
   "metadata": {},
   "outputs": [
    {
     "name": "stdout",
     "output_type": "stream",
     "text": [
      "Enter start number form 0 to 4: 2\n",
      "Enter end number from 5 to 9: 6\n",
      "['yellow', 'orange', 'blue', 'purpal']\n"
     ]
    }
   ],
   "source": [
    "colors = ['red','green', 'yellow', 'orange', 'blue', 'purpal', 'white', 'black']\n",
    "start = int(input(\"Enter start number form 0 to 4: \"))\n",
    "end = int(input(\"Enter end number from 5 to 9: \"))\n",
    "print(colors[start:end])"
   ]
  },
  {
   "cell_type": "markdown",
   "id": "823d8953-6e72-4207-9001-ef63f108063b",
   "metadata": {},
   "source": [
    "#### 7. Create a list of four three-digit numbers. Display the list to the user, showing each item from the list on a separate line. Ask the user to enter a three-digit number. If the number they have typed in matches one in the list, display the position of that number in the list, otherwise display the message “That is not in the list”."
   ]
  },
  {
   "cell_type": "code",
   "execution_count": null,
   "id": "6aaad965-189c-44e6-8331-8e4d7b1451be",
   "metadata": {},
   "outputs": [],
   "source": []
  },
  {
   "cell_type": "markdown",
   "id": "e70aa449-2a69-40ab-9db5-7118e502643e",
   "metadata": {},
   "source": [
    "#### 8. Ask the user to enter the names of three people they want to invite to a party and store them in a list. After they have entered all three names, ask them if they want to add another. If they do, allow them to add more names until they answer “no”. When they answer “no”, display how many people they have invited to the party. "
   ]
  },
  {
   "cell_type": "code",
   "execution_count": null,
   "id": "9c991480-6a5c-4e94-a110-2011afa88bba",
   "metadata": {},
   "outputs": [],
   "source": []
  },
  {
   "cell_type": "markdown",
   "id": "9adc95e0-4687-48ab-b0e1-0a2d7957226d",
   "metadata": {},
   "source": [
    "#### 9. Change program 076 so that once the user has completed their list of names, display the full list and ask them to type in one of the names on the list. Display the position of that name in the list. Ask the user if they still want that person to come to the party. If they answer “no”, delete that entry from the list and display the list again."
   ]
  },
  {
   "cell_type": "code",
   "execution_count": null,
   "id": "fca820ed-6d50-4fed-b78b-d2f70aa6d4e7",
   "metadata": {},
   "outputs": [],
   "source": []
  },
  {
   "cell_type": "markdown",
   "id": "b9a74f04-070a-4d0b-9ad8-101ff8ea7fca",
   "metadata": {},
   "source": [
    "#### 10. Create a list containing the titles of four TV programmes and display them on separate lines. Ask the user to enter another show and a position they want it inserted into the list. Display the list again, showing all five TV programmes in their new positions. "
   ]
  },
  {
   "cell_type": "code",
   "execution_count": null,
   "id": "5cf0ad6e-4067-4640-ab0a-451a638b1137",
   "metadata": {},
   "outputs": [],
   "source": []
  },
  {
   "cell_type": "markdown",
   "id": "1c78ac4a-9fc0-432c-afd9-423d52df6105",
   "metadata": {},
   "source": [
    "#### 12. Create an empty list called “nums”. Ask the user to enter numbers. After each number is entered, add it to the end of the nums list and display the list. Once they have entered three numbers, ask them if they still want the last number they entered saved. If they say “no”, remove the last item from the list. Display the list of numbers. "
   ]
  },
  {
   "cell_type": "code",
   "execution_count": null,
   "id": "ecabe161-3be0-44ef-b382-6be5cb75700f",
   "metadata": {},
   "outputs": [],
   "source": []
  },
  {
   "cell_type": "markdown",
   "id": "1caadb3c-df0a-45e0-b273-732f06cc6afa",
   "metadata": {},
   "source": [
    "#### 13. Ask the user to enter their first name and then display the length of their first name. Then ask for their surname and display the length of their surname. Join their first name and surname together with a space between and display the result. Finally, display the length of their full name (including the space). "
   ]
  },
  {
   "cell_type": "code",
   "execution_count": null,
   "id": "72f813be-918d-4442-acf0-4c640132f38e",
   "metadata": {},
   "outputs": [],
   "source": []
  },
  {
   "cell_type": "markdown",
   "id": "cccd1425-8702-471c-b94e-7d62752476f0",
   "metadata": {},
   "source": [
    "#### 14. Ask the user to type in their favourite school subject. Display it with “-” after each letter, e.g. S-p-a-n-i-s-h-."
   ]
  },
  {
   "cell_type": "code",
   "execution_count": null,
   "id": "bc85152e-8709-4472-8ee3-08b8527b60db",
   "metadata": {},
   "outputs": [],
   "source": []
  },
  {
   "cell_type": "markdown",
   "id": "4bf68c3a-831b-413d-aa19-d794d239e7d9",
   "metadata": {},
   "source": [
    "#### 15. Show the user a line of text from your favourite poem and ask for a starting and ending point. Display the characters between those two points. "
   ]
  },
  {
   "cell_type": "code",
   "execution_count": null,
   "id": "c5f0a7f1-bdb8-48f1-bb10-7f887fab7e54",
   "metadata": {},
   "outputs": [],
   "source": []
  },
  {
   "cell_type": "markdown",
   "id": "4b3a955e-da06-425d-b159-3f5728254b70",
   "metadata": {},
   "source": [
    "#### 16. Ask the user to type in a word in upper case. If they type it in lower case, ask them to try again. Keep repeating this until they type in a message all in uppercase. "
   ]
  },
  {
   "cell_type": "code",
   "execution_count": null,
   "id": "24626a1b-e786-4be9-893e-213158008893",
   "metadata": {},
   "outputs": [],
   "source": []
  },
  {
   "cell_type": "markdown",
   "id": "9f40c898-636e-42b1-a979-36cc02339a72",
   "metadata": {},
   "source": [
    "#### 17. Ask the user to type in their postcode. Display the first two letters in uppercase. "
   ]
  },
  {
   "cell_type": "code",
   "execution_count": null,
   "id": "b5aeb689-ddb8-4a97-86a2-04c6bc706a44",
   "metadata": {},
   "outputs": [],
   "source": []
  },
  {
   "cell_type": "markdown",
   "id": "03e750e9-3e66-49f8-b924-e0688317b7e7",
   "metadata": {},
   "source": [
    "#### 18. Ask the user to type in their name and then tell them how many vowels are in their name. "
   ]
  },
  {
   "cell_type": "code",
   "execution_count": 9,
   "id": "391d56e2-fede-483c-9b0a-ab4ca8e55cfa",
   "metadata": {},
   "outputs": [
    {
     "name": "stdout",
     "output_type": "stream",
     "text": [
      "Please enter your name: Khageshor\n",
      "3\n"
     ]
    }
   ],
   "source": [
    "name = input(\"Please enter your name: \")\n",
    "vowels = ['a', 'e', 'i', 'o', 'u']\n",
    "count = 0\n",
    "for letter in name:\n",
    "    if letter.lower() in vowels:\n",
    "        count += 1\n",
    "print(count)"
   ]
  },
  {
   "cell_type": "markdown",
   "id": "367ae341-727c-4dbd-9c84-f980d5cbacd4",
   "metadata": {},
   "source": [
    "#### 19. Ask the user to enter a new password. Ask them to enter it again. If the two passwords match, display “Thank you”. If the letters are correct but in the wrong case, display the message “They must be in the same case”, otherwise display the message “Incorrect”. "
   ]
  },
  {
   "cell_type": "code",
   "execution_count": 6,
   "id": "4e26cc1e-0d05-4531-ad80-b4f557785464",
   "metadata": {},
   "outputs": [
    {
     "name": "stdout",
     "output_type": "stream",
     "text": [
      "Enter new password: test\n",
      "Thank You\n"
     ]
    }
   ],
   "source": [
    "oldPassword = \"test\"\n",
    "newPassword = input('Enter new password: ')\n",
    "if oldPassword == newPassword:\n",
    "    print(\"Thank You\")\n",
    "elif oldPassword != newPassword and oldPassword.lower() == newPassword.lower():\n",
    "    print(\"They must be in the same case.\")\n",
    "else:\n",
    "    print(\"Incorrect\")"
   ]
  },
  {
   "attachments": {
    "61900a53-9823-41a8-8fe4-e320387804f4.png": {
     "image/png": "[encoded data removed]"
    }
   },
   "cell_type": "markdown",
   "id": "a2d2faa1-dbb3-432f-b14b-ae0d9b950884",
   "metadata": {},
   "source": [
    "#### 20. Ask the user to type in a word and then display it backwards on separate lines. For instance, if they type in “Hello” it should display as shown below:\n",
    "![image.png](attachment:61900a53-9823-41a8-8fe4-e320387804f4.png)"
   ]
  },
  {
   "cell_type": "code",
   "execution_count": 2,
   "id": "cce7165e-674a-4514-9bdd-0547e6cd4dd3",
   "metadata": {},
   "outputs": [
    {
     "name": "stdout",
     "output_type": "stream",
     "text": [
      "Please Enter any Word: Hello\n",
      "H\n",
      "e\n",
      "l\n",
      "l\n",
      "o\n"
     ]
    }
   ],
   "source": [
    "word = input(\"Please Enter any Word: \")\n",
    "for letter in word:\n",
    "    print(letter)"
   ]
  },
  {
   "cell_type": "code",
   "execution_count": null,
   "id": "2c3dbcad",
   "metadata": {},
   "outputs": [],
   "source": []
  }
 ],
 "metadata": {
  "kernelspec": {
   "display_name": "Python 3 (ipykernel)",
   "language": "python",
   "name": "python3"
  },
  "language_info": {
   "codemirror_mode": {
    "name": "ipython",
    "version": 3
   },
   "file_extension": ".py",
   "mimetype": "text/x-python",
   "name": "python",
   "nbconvert_exporter": "python",
   "pygments_lexer": "ipython3",
   "version": "3.11.0"
  }
 },
 "nbformat": 4,
 "nbformat_minor": 5
}
