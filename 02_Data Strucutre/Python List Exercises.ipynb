{
 "cells": [
  {
   "cell_type": "markdown",
   "id": "c8e2eae4",
   "metadata": {},
   "source": [
    "# Python List Exercises"
   ]
  },
  {
   "cell_type": "markdown",
   "id": "03e1cc0b",
   "metadata": {},
   "source": [
    "##### 1. Python program to interchange first and last elements in a list\n"
   ]
  },
  {
   "cell_type": "code",
   "execution_count": 1,
   "id": "4169e144",
   "metadata": {},
   "outputs": [
    {
     "name": "stdout",
     "output_type": "stream",
     "text": [
      "Before interchanges happens.\n",
      "[1, 2, 3, 4, 5, 6]\n",
      "After interchanges happens\n",
      "[6, 2, 3, 4, 5, 1]\n"
     ]
    }
   ],
   "source": [
    "myList = [1, 2, 3, 4, 5, 6]\n",
    "print(\"Before interchanges happens.\")\n",
    "print(myList)\n",
    "firstElement = myList[0]\n",
    "myList[0] = myList[-1]\n",
    "myList[-1] = firstElement\n",
    "print(\"After interchanges happens\")\n",
    "print(myList)"
   ]
  },
  {
   "cell_type": "markdown",
   "id": "e2b02505",
   "metadata": {},
   "source": [
    "##### 2. Python program to swap two elements in a list\n"
   ]
  },
  {
   "cell_type": "code",
   "execution_count": 3,
   "id": "6e57a3d2",
   "metadata": {},
   "outputs": [
    {
     "name": "stdout",
     "output_type": "stream",
     "text": [
      "Before Swapping...\n",
      "[2, 4, 6, 8, 10]\n",
      "Enter the index of first element that you want to swap. 1\n",
      "Enter the index of second element that you want to swao. 3\n",
      "After Swapping...\n",
      "[2, 8, 6, 4, 10]\n"
     ]
    }
   ],
   "source": [
    "myList = [2, 4, 6, 8, 10]\n",
    "print(\"Before Swapping...\")\n",
    "print(myList)\n",
    "firstElementIndex = int(input(\"Enter the index of first element that you want to swap. \"))\n",
    "secondElementIndex = int(input(\"Enter the index of second element that you want to swao. \"))\n",
    "if firstElementIndex != secondElementIndex:\n",
    "    firstElement = myList[firstElementIndex]\n",
    "    secondElement = myList[secondElementIndex]\n",
    "    myList[firstElementIndex] = secondElement\n",
    "    myList[secondElementIndex] = firstElement\n",
    "    print(\"After Swapping...\")\n",
    "    print(myList)\n",
    "else:\n",
    "    print(\"You cannot swap same element.\")\n"
   ]
  },
  {
   "cell_type": "markdown",
   "id": "cccde25c",
   "metadata": {},
   "source": [
    "##### 3. Python – Swap elements in String list\n"
   ]
  },
  {
   "cell_type": "code",
   "execution_count": 6,
   "id": "0fc725ff",
   "metadata": {},
   "outputs": [
    {
     "name": "stdout",
     "output_type": "stream",
     "text": [
      "Before Swapping...\n",
      "['string1', 'string2', 'string3', 'string4']\n",
      "Enter the first string: string2\n",
      "Enter the second string: string4\n",
      "After Swapping...\n",
      "['string1', 'string4', 'string3', 'string2']\n"
     ]
    }
   ],
   "source": [
    "stringList = [\"string1\", \"string2\", \"string3\", \"string4\"]\n",
    "print(\"Before Swapping...\")\n",
    "print(stringList)\n",
    "firstString = input(\"Enter the first string: \")\n",
    "secondString = input(\"Enter the second string: \")\n",
    "indexOfFirstString = stringList.index(firstString)\n",
    "indexOfSecondString = stringList.index(secondString)\n",
    "if indexOfFirstString != indexOfSecondString:\n",
    "    stringList[indexOfFirstString] = secondString\n",
    "    stringList[indexOfSecondString] = firstString\n",
    "    print(\"After Swapping...\")\n",
    "    print(stringList)\n",
    "else:\n",
    "    print(\"You cannot swap same element.\")"
   ]
  },
  {
   "cell_type": "markdown",
   "id": "bed2afd4",
   "metadata": {},
   "source": [
    "##### 4. Python | Ways to find length of list\n"
   ]
  },
  {
   "cell_type": "code",
   "execution_count": 7,
   "id": "cea72ce1",
   "metadata": {},
   "outputs": [
    {
     "name": "stdout",
     "output_type": "stream",
     "text": [
      "3\n"
     ]
    }
   ],
   "source": [
    "temp = [1, 3, 4]\n",
    "print(len(temp))"
   ]
  },
  {
   "cell_type": "markdown",
   "id": "7278594e",
   "metadata": {},
   "source": [
    "##### 5. Maximum of two numbers in Python\n"
   ]
  },
  {
   "cell_type": "code",
   "execution_count": 8,
   "id": "748ac577",
   "metadata": {},
   "outputs": [
    {
     "name": "stdout",
     "output_type": "stream",
     "text": [
      "Enter first number: 5\n",
      "Enter second number: 2\n",
      "5 > 2\n"
     ]
    }
   ],
   "source": [
    "firstNumber = int(input(\"Enter first number: \"))\n",
    "secondNumber = int(input(\"Enter second number: \"))\n",
    "if firstNumber > secondNumber:\n",
    "    print(f\"{firstNumber} > {secondNumber}\")\n",
    "else:\n",
    "    print(f\"{secondNumber} > {firstNumber}\")"
   ]
  },
  {
   "cell_type": "markdown",
   "id": "58d02505",
   "metadata": {},
   "source": [
    "##### 6. Minimum of two numbers in Python\n"
   ]
  },
  {
   "cell_type": "code",
   "execution_count": 9,
   "id": "420c320d",
   "metadata": {},
   "outputs": [
    {
     "name": "stdout",
     "output_type": "stream",
     "text": [
      "Enter first number: 8\n",
      "Enter second number: 3\n",
      "3 < 8\n"
     ]
    }
   ],
   "source": [
    "firstNumber = int(input(\"Enter first number: \"))\n",
    "secondNumber = int(input(\"Enter second number: \"))\n",
    "if firstNumber < secondNumber:\n",
    "    print(f\"{firstNumber} < {secondNumber}\")\n",
    "else:\n",
    "    print(f\"{secondNumber} < {firstNumber}\")"
   ]
  },
  {
   "cell_type": "markdown",
   "id": "42bb99c8",
   "metadata": {},
   "source": [
    "##### 7. Python | Ways to check if element exists in list\n"
   ]
  },
  {
   "cell_type": "code",
   "execution_count": 11,
   "id": "11872fc4",
   "metadata": {},
   "outputs": [
    {
     "name": "stdout",
     "output_type": "stream",
     "text": [
      "Enter a fruit name that you want to check: Apple\n",
      "YES\n"
     ]
    }
   ],
   "source": [
    "fruits = [\"Apple\", \"orange\", \"Banana\", \"Papaya\"]\n",
    "fruit = input(\"Enter a fruit name that you want to check: \")\n",
    "if fruit in fruits:\n",
    "    print(\"YES\")\n",
    "else:\n",
    "    print('No')"
   ]
  },
  {
   "cell_type": "markdown",
   "id": "75be40cb",
   "metadata": {},
   "source": [
    "##### 8. Different ways to clear a list in Python"
   ]
  },
  {
   "cell_type": "code",
   "execution_count": 12,
   "id": "92d01552",
   "metadata": {},
   "outputs": [
    {
     "name": "stdout",
     "output_type": "stream",
     "text": [
      "[1, 2, 3, 4, 5, 6]\n",
      "[]\n"
     ]
    }
   ],
   "source": [
    "tempList = [1, 2, 3, 4, 5, 6]\n",
    "print(tempList)\n",
    "tempList.clear()\n",
    "print(tempList)"
   ]
  },
  {
   "cell_type": "markdown",
   "id": "0cf92a1b",
   "metadata": {},
   "source": [
    "##### 9. Different ways to clear a list in Python"
   ]
  },
  {
   "cell_type": "markdown",
   "id": "90ae822c",
   "metadata": {},
   "source": [
    "##### 10.Python | Reversing a List"
   ]
  },
  {
   "cell_type": "code",
   "execution_count": 18,
   "id": "630bccdb",
   "metadata": {},
   "outputs": [
    {
     "name": "stdout",
     "output_type": "stream",
     "text": [
      "[2, 4, 6, 8]\n",
      "After reersing a list\n",
      "[8, 6, 4, 2]\n"
     ]
    }
   ],
   "source": [
    "normalList = [2, 4, 6, 8]\n",
    "print(normalList)\n",
    "print(\"After reersing a list\")\n",
    "reversedList = list(reversed(normalList))\n",
    "print(reversedList)"
   ]
  },
  {
   "cell_type": "markdown",
   "id": "b9c12839",
   "metadata": {},
   "source": [
    "##### 11. Python | Cloning or Copying a list"
   ]
  },
  {
   "cell_type": "code",
   "execution_count": 19,
   "id": "221a318e",
   "metadata": {},
   "outputs": [
    {
     "name": "stdout",
     "output_type": "stream",
     "text": [
      "[1, 2, 3] [1, 2, 3]\n"
     ]
    }
   ],
   "source": [
    "myList = [1, 2, 3]\n",
    "copyList = myList.copy()\n",
    "print(myList, copyList)"
   ]
  },
  {
   "cell_type": "markdown",
   "id": "90fdea9b",
   "metadata": {},
   "source": [
    "##### 12. Python | Count occurrences of an element in a list"
   ]
  },
  {
   "cell_type": "code",
   "execution_count": 31,
   "id": "45b58725",
   "metadata": {},
   "outputs": [
    {
     "name": "stdout",
     "output_type": "stream",
     "text": [
      "Enter the name that you want to count: Khageshor\n",
      "2\n"
     ]
    }
   ],
   "source": [
    "names = [\"Binod\", \"Khageshor\", \"Maheshor\", \"Mahadev\", \"Khageshor\", \"Arjun\"]\n",
    "name = input(\"Enter the name that you want to count: \")\n",
    "count = 0\n",
    "for listName in names:\n",
    "    if listName == name:\n",
    "        count += 1\n",
    "print(count)"
   ]
  },
  {
   "cell_type": "markdown",
   "id": "e3b2502b",
   "metadata": {},
   "source": [
    "##### 13. Python Program to find sum and average of List in Python"
   ]
  },
  {
   "cell_type": "code",
   "execution_count": 32,
   "id": "037af2af",
   "metadata": {},
   "outputs": [
    {
     "name": "stdout",
     "output_type": "stream",
     "text": [
      "30 6.0\n"
     ]
    }
   ],
   "source": [
    "numbers = [2, 4, 6, 8, 10]\n",
    "add = 0\n",
    "for number in numbers:\n",
    "    add = add + number\n",
    "avg = add / len(numbers)\n",
    "print(add, avg)"
   ]
  },
  {
   "cell_type": "markdown",
   "id": "c3b0999b",
   "metadata": {},
   "source": [
    "##### 14. Python | Sum of number digits in List"
   ]
  },
  {
   "cell_type": "code",
   "execution_count": 33,
   "id": "91148c6d",
   "metadata": {},
   "outputs": [
    {
     "name": "stdout",
     "output_type": "stream",
     "text": [
      "80\n"
     ]
    }
   ],
   "source": [
    "numbers = [2, 4, 6, 8, 10, 20, 30]\n",
    "add = 0\n",
    "for number in numbers:\n",
    "    add = add + number\n",
    "print(add)"
   ]
  },
  {
   "cell_type": "markdown",
   "id": "80fadeb3",
   "metadata": {},
   "source": [
    "##### 15. Python | Multiply all numbers in the list\n"
   ]
  },
  {
   "cell_type": "code",
   "execution_count": 35,
   "id": "dc321586",
   "metadata": {},
   "outputs": [
    {
     "name": "stdout",
     "output_type": "stream",
     "text": [
      "48\n"
     ]
    }
   ],
   "source": [
    "numbers = [2, 4, 6]\n",
    "mul = 1\n",
    "for number in numbers:\n",
    "    mul = number * mul\n",
    "print(mul)"
   ]
  },
  {
   "cell_type": "markdown",
   "id": "cbbe783e",
   "metadata": {},
   "source": [
    "##### 16. Python program to find smallest number in a list\n"
   ]
  },
  {
   "cell_type": "code",
   "execution_count": 39,
   "id": "364202ee",
   "metadata": {},
   "outputs": [
    {
     "name": "stdout",
     "output_type": "stream",
     "text": [
      "1\n",
      "Core way...\n",
      "1\n"
     ]
    }
   ],
   "source": [
    "numList = [9, 6, 2, 10, 1, 55, 98]\n",
    "print(min(numList))\n",
    "print(\"Core way...\")\n",
    "\n",
    "small = numList[0]\n",
    "for i in range(len(numList)):\n",
    "    if small > numList[i]:\n",
    "        small = numList[i]\n",
    "print(small)"
   ]
  },
  {
   "cell_type": "markdown",
   "id": "7e40b282",
   "metadata": {},
   "source": [
    "##### 17. Python program to find largest number in a list"
   ]
  },
  {
   "cell_type": "code",
   "execution_count": 40,
   "id": "6a358d92",
   "metadata": {},
   "outputs": [
    {
     "name": "stdout",
     "output_type": "stream",
     "text": [
      "98\n"
     ]
    }
   ],
   "source": [
    "numList = [9, 6, 2, 10, 1, 55, 98]\n",
    "print(max(numList))"
   ]
  },
  {
   "cell_type": "markdown",
   "id": "2962dfcb",
   "metadata": {},
   "source": [
    "##### 18. Python program to count positive and negative numbers in a list"
   ]
  },
  {
   "cell_type": "code",
   "execution_count": 41,
   "id": "758afc7a",
   "metadata": {},
   "outputs": [
    {
     "name": "stdout",
     "output_type": "stream",
     "text": [
      "Postitve Count: 4 Negative Count: 3\n"
     ]
    }
   ],
   "source": [
    "positiveNegativeList = [-1, 1, 2, -2, -4, 5, 6]\n",
    "positive = 0\n",
    "negative = 0\n",
    "for number in positiveNegativeList:\n",
    "    if number >= 0:\n",
    "        positive += 1\n",
    "    else:\n",
    "        negative += 1\n",
    "print(\"Postitve Count:\", positive, \"Negative Count:\", negative)"
   ]
  },
  {
   "cell_type": "markdown",
   "id": "55131d81",
   "metadata": {},
   "source": [
    "##### 19. Python | Program to print duplicates from a list of integers"
   ]
  },
  {
   "cell_type": "code",
   "execution_count": 47,
   "id": "ab40b297",
   "metadata": {},
   "outputs": [
    {
     "name": "stdout",
     "output_type": "stream",
     "text": [
      "[0, 5]\n"
     ]
    }
   ],
   "source": [
    "numList = [9, 6, 2, 10, 1, 5, 9, 5]\n",
    "\n",
    "# Brut Force Method\n",
    "duplicateList = []\n",
    "for i in range(len(numList)):\n",
    "    for j in range(i+1, len(numList)):\n",
    "        if numList[i] == numList[j]:\n",
    "            duplicateList.append(i)\n",
    "print(duplicateList)"
   ]
  },
  {
   "cell_type": "code",
   "execution_count": 49,
   "id": "565b3b5d",
   "metadata": {},
   "outputs": [
    {
     "name": "stdout",
     "output_type": "stream",
     "text": [
      "[9, 5]\n"
     ]
    }
   ],
   "source": [
    "numList = [9, 6, 2, 10, 1, 5, 9, 5]\n",
    "\n",
    "duplicate = []\n",
    "unique = []\n",
    "\n",
    "for i in range(len(numList)):\n",
    "    if numList[i] not in unique: \n",
    "        unique.append(numList[i])\n",
    "    elif numList[i] not in duplicate:\n",
    "        duplicate.append(numList[i])\n",
    "        \n",
    "print(duplicate)"
   ]
  },
  {
   "cell_type": "markdown",
   "id": "c8a6da01",
   "metadata": {},
   "source": [
    "##### 20. Python program to count Even and Odd numbers in a List"
   ]
  },
  {
   "cell_type": "code",
   "execution_count": 51,
   "id": "5dd2cb66",
   "metadata": {},
   "outputs": [
    {
     "name": "stdout",
     "output_type": "stream",
     "text": [
      "Even: 4\n",
      "Odd: 3\n"
     ]
    }
   ],
   "source": [
    "numList = [9, 6, 2, 10, 1, 50, 7]\n",
    "even = 0\n",
    "odd = 0\n",
    "for number in numList:\n",
    "    if number % 2 == 0:\n",
    "        even += 1\n",
    "    elif number % 2 != 0:\n",
    "        odd += 1\n",
    "print('Even:', even)\n",
    "print(\"Odd:\", odd)"
   ]
  },
  {
   "cell_type": "markdown",
   "id": "f7194ef5",
   "metadata": {},
   "source": [
    "# Advance List Programs"
   ]
  },
  {
   "cell_type": "markdown",
   "id": "42c4cb76",
   "metadata": {},
   "source": [
    "Python Program to count unique values inside a list\n",
    "Python – List product excluding duplicates\n",
    "Python – Extract elements with Frequency greater than K\n",
    "Python – Test if List contains elements in Range\n",
    "Python program to check if the list contains three consecutive common numbers in Python\n",
    "Python program to find the Strongest Neighbour\n",
    "Python Program to print all Possible Combinations from the three Digits\n",
    "Python program to find all the Combinations in the list with the given condition\n",
    "Python program to get all unique combinations of two Lists\n",
    "Python program to remove all the occurrences of an element from a list\n",
    "Python – Remove Consecutive K element records\n",
    "Python – Replace index elements with elements in Other List\n",
    "Python Program to Retain records with N occurrences of K\n",
    "Python Program to Sort the list according to the column using lambda"
   ]
  },
  {
   "cell_type": "code",
   "execution_count": null,
   "id": "715cc442",
   "metadata": {},
   "outputs": [],
   "source": []
  }
 ],
 "metadata": {
  "kernelspec": {
   "display_name": "Python 3 (ipykernel)",
   "language": "python",
   "name": "python3"
  },
  "language_info": {
   "codemirror_mode": {
    "name": "ipython",
    "version": 3
   },
   "file_extension": ".py",
   "mimetype": "text/x-python",
   "name": "python",
   "nbconvert_exporter": "python",
   "pygments_lexer": "ipython3",
   "version": "3.11.0"
  }
 },
 "nbformat": 4,
 "nbformat_minor": 5
}
