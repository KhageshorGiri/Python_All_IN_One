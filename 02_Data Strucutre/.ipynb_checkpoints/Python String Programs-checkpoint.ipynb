{
 "cells": [
  {
   "cell_type": "markdown",
   "id": "41703912",
   "metadata": {},
   "source": [
    "# Basic String Programs"
   ]
  },
  {
   "cell_type": "code",
   "execution_count": 1,
   "id": "620b6e71",
   "metadata": {},
   "outputs": [],
   "source": [
    "##### 1. Python program to check whether the string is Symmetrical or Palindrome"
   ]
  },
  {
   "cell_type": "code",
   "execution_count": 2,
   "id": "b7dfa992",
   "metadata": {},
   "outputs": [],
   "source": [
    "##### 2. Reverse words in a given String in Python"
   ]
  },
  {
   "cell_type": "code",
   "execution_count": null,
   "id": "5c5e846e",
   "metadata": {},
   "outputs": [],
   "source": [
    "##### 3. Python program to count number of vowels using sets in given string"
   ]
  },
  {
   "cell_type": "code",
   "execution_count": null,
   "id": "1e0a98a0",
   "metadata": {},
   "outputs": [],
   "source": [
    "##### 4. Python – Least Frequent Character in String"
   ]
  },
  {
   "cell_type": "code",
   "execution_count": null,
   "id": "11dc6e4d",
   "metadata": {},
   "outputs": [],
   "source": [
    "##### 5. Python | Maximum frequency character in String"
   ]
  },
  {
   "cell_type": "code",
   "execution_count": 3,
   "id": "efa481cb",
   "metadata": {},
   "outputs": [],
   "source": [
    "##### 6. Python | Frequency of numbers in String"
   ]
  },
  {
   "cell_type": "code",
   "execution_count": 4,
   "id": "7fec17b4",
   "metadata": {},
   "outputs": [],
   "source": [
    "##### 7. Python | Program to check if a string contains any special character"
   ]
  },
  {
   "cell_type": "code",
   "execution_count": 5,
   "id": "a843c7f4",
   "metadata": {},
   "outputs": [],
   "source": [
    "##### 8. Python | Find all close matches of input string from a list"
   ]
  },
  {
   "cell_type": "code",
   "execution_count": 6,
   "id": "83f78d6f",
   "metadata": {},
   "outputs": [],
   "source": [
    "##### 9. Execute a String of Code in Python"
   ]
  },
  {
   "cell_type": "code",
   "execution_count": 7,
   "id": "b1aa14d9",
   "metadata": {},
   "outputs": [],
   "source": [
    "##### 10. Python program for removing i-th character from a string"
   ]
  },
  {
   "cell_type": "code",
   "execution_count": 8,
   "id": "d9147897",
   "metadata": {},
   "outputs": [],
   "source": [
    "##### 11. Python | Convert numeric words to numbers"
   ]
  },
  {
   "cell_type": "code",
   "execution_count": 9,
   "id": "58706d32",
   "metadata": {},
   "outputs": [],
   "source": [
    "##### 12. Python – Replace Different characters in String at Once"
   ]
  },
  {
   "cell_type": "code",
   "execution_count": 10,
   "id": "11c8ef2c",
   "metadata": {},
   "outputs": [],
   "source": [
    "##### 13. Python – Ways to remove multiple empty spaces from string List"
   ]
  },
  {
   "cell_type": "code",
   "execution_count": 11,
   "id": "31d27663",
   "metadata": {},
   "outputs": [],
   "source": [
    "##### 14. Python – Check if two strings are Rotationally Equivalent"
   ]
  },
  {
   "cell_type": "code",
   "execution_count": 12,
   "id": "07e43a06",
   "metadata": {},
   "outputs": [],
   "source": [
    "##### 15. Python – Maximum occurring Substring from list"
   ]
  }
 ],
 "metadata": {
  "kernelspec": {
   "display_name": "Python 3 (ipykernel)",
   "language": "python",
   "name": "python3"
  },
  "language_info": {
   "codemirror_mode": {
    "name": "ipython",
    "version": 3
   },
   "file_extension": ".py",
   "mimetype": "text/x-python",
   "name": "python",
   "nbconvert_exporter": "python",
   "pygments_lexer": "ipython3",
   "version": "3.11.0"
  }
 },
 "nbformat": 4,
 "nbformat_minor": 5
}
