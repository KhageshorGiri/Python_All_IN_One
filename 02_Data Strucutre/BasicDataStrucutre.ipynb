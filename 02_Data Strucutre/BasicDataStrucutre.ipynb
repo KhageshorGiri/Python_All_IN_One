{
 "cells": [
  {
   "cell_type": "markdown",
   "id": "934ba671-5389-4903-b1fa-47d7661de9b4",
   "metadata": {},
   "source": [
    "# Sets"
   ]
  },
  {
   "cell_type": "code",
   "execution_count": 5,
   "id": "afcf84b7-f1f8-413d-ade0-0b6db9f49345",
   "metadata": {},
   "outputs": [
    {
     "name": "stdout",
     "output_type": "stream",
     "text": [
      "{1, 2, 3}\n"
     ]
    }
   ],
   "source": [
    "# Creating a set\n",
    "# we can create a set by using set() method provide by python or by asing {} and putting items inside that brackets\n",
    "\n",
    "mySet = set() #creating a empty set\n",
    "mySet = set([1, 2, 3])\n",
    "print(mySet)"
   ]
  },
  {
   "cell_type": "code",
   "execution_count": 1,
   "id": "aff1a624-2ef7-4b3e-817b-1626c1771d74",
   "metadata": {},
   "outputs": [
    {
     "name": "stdout",
     "output_type": "stream",
     "text": [
      "{1, 2, 3}\n"
     ]
    }
   ],
   "source": [
    "mySet = {1, 2, 3}\n",
    "print(mySet)"
   ]
  },
  {
   "cell_type": "code",
   "execution_count": 22,
   "id": "63c0d66d-61b5-44b1-a1b6-f41abce70d1a",
   "metadata": {},
   "outputs": [],
   "source": [
    "# A set is an unorderd list \n",
    "# a set is mmutable but elements of set is immutable.\n",
    "# i.e we can get output in diffrent sequence when we run each time.\n",
    "# we can add items in set\n",
    "# we cannot put duplicate items in a set"
   ]
  },
  {
   "cell_type": "code",
   "execution_count": 15,
   "id": "f7d8b68c-10b8-4315-bc7d-c3fdb157348a",
   "metadata": {},
   "outputs": [
    {
     "name": "stdout",
     "output_type": "stream",
     "text": [
      "{'Deep Learning', 'Machine Learning', 'Python', 'Data Scince'}\n",
      "<class 'set'>\n"
     ]
    }
   ],
   "source": [
    "courses = {\"Python\", \"Machine Learning\", \"Data Scince\", \"Deep Learning\"}\n",
    "print(courses)\n",
    "print(type(courses))"
   ]
  },
  {
   "cell_type": "code",
   "execution_count": 16,
   "id": "8ae013d6-395d-4216-924d-13f7f2f32833",
   "metadata": {},
   "outputs": [
    {
     "name": "stdout",
     "output_type": "stream",
     "text": [
      "Deep Learning\n",
      "Machine Learning\n",
      "Python\n",
      "Data Scince\n"
     ]
    }
   ],
   "source": [
    "# we can loop through each item of sets\n",
    "for i in courses:\n",
    "    print(i)"
   ]
  },
  {
   "cell_type": "code",
   "execution_count": 19,
   "id": "1fb70cb6-033c-4c65-bf84-c0a771f55e04",
   "metadata": {},
   "outputs": [],
   "source": [
    "# adding items in the set\n",
    "courses.add(\"JavaScript\")"
   ]
  },
  {
   "cell_type": "code",
   "execution_count": 20,
   "id": "d37be29b-06a7-44d0-8059-28abe9306eb2",
   "metadata": {},
   "outputs": [
    {
     "name": "stdout",
     "output_type": "stream",
     "text": [
      "{'Deep Learning', 'JavaScript', 'Machine Learning', 'Python', 'Data Scince'}\n"
     ]
    }
   ],
   "source": [
    "print(courses)"
   ]
  },
  {
   "cell_type": "code",
   "execution_count": 23,
   "id": "e44ec846-636d-4bb0-810d-2f5fc07a0010",
   "metadata": {},
   "outputs": [
    {
     "name": "stdout",
     "output_type": "stream",
     "text": [
      "{1, 2, 3, 4, 5, 6} <class 'set'>\n"
     ]
    }
   ],
   "source": [
    "# creating a set of numbers\n",
    "numbers = {1, 2, 3, 4, 5, 6}\n",
    "print(numbers, type(numbers))"
   ]
  },
  {
   "cell_type": "code",
   "execution_count": 24,
   "id": "b4cb620f-da1d-4187-b41b-693099e01bd0",
   "metadata": {},
   "outputs": [
    {
     "name": "stdout",
     "output_type": "stream",
     "text": [
      "{57000, True, 'Raju', 22} <class 'set'>\n"
     ]
    }
   ],
   "source": [
    "# createing a set of difftent datatypes\n",
    "diffrent = {\"Raju\", 22, 57000, True}\n",
    "print(diffrent, type(diffrent))"
   ]
  },
  {
   "cell_type": "code",
   "execution_count": 26,
   "id": "7b6dcb6a-5e70-4760-8b56-10ae8539311b",
   "metadata": {},
   "outputs": [
    {
     "name": "stdout",
     "output_type": "stream",
     "text": [
      "{'This', 'is', 'List.', 'a'} <class 'set'>\n"
     ]
    }
   ],
   "source": [
    "# we can create a set using set() method \n",
    "\n",
    "setFromList = set([\"This\", \"is\", \"a\", \"List.\"])\n",
    "print(setFromList, type(setFromList))"
   ]
  },
  {
   "cell_type": "code",
   "execution_count": 27,
   "id": "8e6229f5-059f-4bd2-bdbb-7594ec618e66",
   "metadata": {},
   "outputs": [],
   "source": [
    "# changing the value of set\n",
    "# we can add and update elements in a set\n",
    "\n",
    "courses.add(\"Math\")"
   ]
  },
  {
   "cell_type": "code",
   "execution_count": 28,
   "id": "d3abeeeb-d87b-495f-8b7c-68ad82c85092",
   "metadata": {},
   "outputs": [
    {
     "name": "stdout",
     "output_type": "stream",
     "text": [
      "{'Deep Learning', 'JavaScript', 'Machine Learning', 'Math', 'Python', 'Data Scince'}\n"
     ]
    }
   ],
   "source": [
    "print(courses)"
   ]
  },
  {
   "cell_type": "code",
   "execution_count": 32,
   "id": "6072b8dd-4230-4e41-b41d-c302cdbf3a65",
   "metadata": {},
   "outputs": [],
   "source": [
    "courses.update([\"Tansrfolw\", \"Sikit Learn\"]) # by using update method in set we can add multiple element in a set"
   ]
  },
  {
   "cell_type": "code",
   "execution_count": 31,
   "id": "fd7a622f-4315-4b26-97d2-14288e370733",
   "metadata": {},
   "outputs": [
    {
     "name": "stdout",
     "output_type": "stream",
     "text": [
      "{'Deep Learning', 'JavaScript', 'Machine Learning', 'Math', 'Python', 'Tansrfolw', 'Sikit Learn', 'Data Scince'}\n"
     ]
    }
   ],
   "source": [
    "print(courses)"
   ]
  },
  {
   "cell_type": "code",
   "execution_count": 33,
   "id": "9cda9ebd-81a0-4e34-b545-d901798b43e8",
   "metadata": {},
   "outputs": [],
   "source": [
    "# operations in set"
   ]
  },
  {
   "cell_type": "code",
   "execution_count": 34,
   "id": "74473d84-9e15-4727-aa21-3d876ae8cf3f",
   "metadata": {},
   "outputs": [],
   "source": [
    "firstSem = {\"Math\", \"Physis\", \"Digital Logic\", \"C Programming\"}\n",
    "secondSem = {\"Math\", \"C Programming\", \"C++ Programming\"}"
   ]
  },
  {
   "cell_type": "code",
   "execution_count": 37,
   "id": "c26d284f-0b70-4fb4-9694-60ec9c882c14",
   "metadata": {},
   "outputs": [
    {
     "name": "stdout",
     "output_type": "stream",
     "text": [
      "{'C++ Programming', 'C Programming', 'Math', 'Digital Logic', 'Physis'}\n"
     ]
    }
   ],
   "source": [
    "# uinion operation in set\n",
    "\n",
    "newValue = firstSem.union(secondSem)\n",
    "print(newValue)"
   ]
  },
  {
   "cell_type": "code",
   "execution_count": 40,
   "id": "2591dcea-cc43-4bc0-8003-73ecfadd33ed",
   "metadata": {},
   "outputs": [
    {
     "name": "stdout",
     "output_type": "stream",
     "text": [
      "{'C Programming', 'Math'}\n"
     ]
    }
   ],
   "source": [
    "# intersection operatin in two sets\n",
    "newValue = firstSem.intersection(secondSem)\n",
    "print(newValue)"
   ]
  },
  {
   "cell_type": "code",
   "execution_count": 44,
   "id": "10c090a1-993c-4c11-b47b-a7696889443a",
   "metadata": {},
   "outputs": [
    {
     "name": "stdout",
     "output_type": "stream",
     "text": [
      "{'Physis', 'Digital Logic'}\n"
     ]
    }
   ],
   "source": [
    "# diffrence opearation in two sets\n",
    "newValue = firstSem.difference(secondSem)\n",
    "print(newValue)"
   ]
  },
  {
   "cell_type": "code",
   "execution_count": 47,
   "id": "e5614c4c-ec37-4573-9fc9-2a08d272d4c2",
   "metadata": {},
   "outputs": [],
   "source": [
    "# we can pefrom following operation in a particular set.\n",
    "# add or update elements in a set\n",
    "# loop through set\n",
    "# get max and min element of a set containin numbers\n",
    "# we can sort a particular according to its elements.\n",
    "# we can pop last element of a set"
   ]
  },
  {
   "cell_type": "markdown",
   "id": "efcc9904-8ea4-443e-9df8-7a9cabbdb88d",
   "metadata": {},
   "source": [
    "# Dictionary"
   ]
  },
  {
   "cell_type": "code",
   "execution_count": 48,
   "id": "4ca058bd-21ea-4807-b20e-91708facb520",
   "metadata": {},
   "outputs": [
    {
     "name": "stdout",
     "output_type": "stream",
     "text": [
      "<class 'dict'>\n"
     ]
    }
   ],
   "source": [
    "# creating a empty dictionary\n",
    "myDict = {}\n",
    "print(type(myDict))"
   ]
  },
  {
   "cell_type": "code",
   "execution_count": 52,
   "id": "96084e41-4ade-4dbf-b26a-9a914bcd9e37",
   "metadata": {},
   "outputs": [
    {
     "name": "stdout",
     "output_type": "stream",
     "text": [
      "{'Name': 'Khageshor Giri', 'Age': 22, 'Email': 'girikhageshor2432@gmailc.om', 'Profession': 'Software Engioneer'}\n"
     ]
    }
   ],
   "source": [
    "student = {\n",
    "    \"Name\": \"Khageshor Giri\",\n",
    "    \"Age\": 22,\n",
    "    \"Email\": \"girikhageshor2432@gmailc.om\",\n",
    "    \"Profession\": \"Software Engioneer\"\n",
    "}\n",
    "\n",
    "print(student)"
   ]
  },
  {
   "cell_type": "code",
   "execution_count": 53,
   "id": "abaacbec-738c-447c-871d-efb4e0ed98fa",
   "metadata": {},
   "outputs": [
    {
     "name": "stdout",
     "output_type": "stream",
     "text": [
      "<class 'dict'>\n"
     ]
    }
   ],
   "source": [
    "print(type(student))"
   ]
  },
  {
   "cell_type": "code",
   "execution_count": 54,
   "id": "1afbbcef-89ba-42f1-8328-2b7f1a1f2308",
   "metadata": {},
   "outputs": [],
   "source": [
    "temp = dict()"
   ]
  },
  {
   "cell_type": "code",
   "execution_count": 55,
   "id": "4c12e0c3-f704-4ce6-b367-db3608c226a3",
   "metadata": {},
   "outputs": [],
   "source": [
    "temp['key'] = 'value'"
   ]
  },
  {
   "cell_type": "code",
   "execution_count": 56,
   "id": "e0af6c72-5137-481a-9703-20ac15f9d2b0",
   "metadata": {},
   "outputs": [
    {
     "name": "stdout",
     "output_type": "stream",
     "text": [
      "{'key': 'value'}\n"
     ]
    }
   ],
   "source": [
    "print(temp)"
   ]
  },
  {
   "cell_type": "code",
   "execution_count": 57,
   "id": "f9784428-f95d-49fa-b496-be1509068019",
   "metadata": {},
   "outputs": [
    {
     "name": "stdout",
     "output_type": "stream",
     "text": [
      "Khageshor Giri\n"
     ]
    }
   ],
   "source": [
    "# accessing item form dictinary \n",
    "print(student[\"Name\"])"
   ]
  },
  {
   "cell_type": "code",
   "execution_count": 58,
   "id": "ea65d5e1-af87-4bcf-81de-b2a96a535c78",
   "metadata": {},
   "outputs": [
    {
     "name": "stdout",
     "output_type": "stream",
     "text": [
      "Khageshor Giri\n"
     ]
    }
   ],
   "source": [
    "# we can also use\n",
    "print(student.get(\"Name\"))"
   ]
  },
  {
   "cell_type": "code",
   "execution_count": 59,
   "id": "f5531ac7-d18c-45e4-b2d7-c035792bd58f",
   "metadata": {},
   "outputs": [],
   "source": [
    "# to add or to update value from dictinary\n",
    "student[\"Working Location\"] = \"Bharatpur\""
   ]
  },
  {
   "cell_type": "code",
   "execution_count": 60,
   "id": "f9daac31-f608-4c11-98c8-31ac2b12755e",
   "metadata": {},
   "outputs": [
    {
     "name": "stdout",
     "output_type": "stream",
     "text": [
      "{'Name': 'Khageshor Giri', 'Age': 22, 'Email': 'girikhageshor2432@gmailc.om', 'Profession': 'Software Engioneer', 'Working Location': 'Bharatpur'}\n"
     ]
    }
   ],
   "source": [
    "print(student)"
   ]
  },
  {
   "cell_type": "code",
   "execution_count": 61,
   "id": "c2ee8cea-de82-4f8a-ae41-7b446bd594af",
   "metadata": {},
   "outputs": [],
   "source": [
    "student[\"Working Location\"] = \"Kathmandu, Thamel\""
   ]
  },
  {
   "cell_type": "code",
   "execution_count": 62,
   "id": "65b1746e-1feb-4bc5-bf2e-e0f363ac3a68",
   "metadata": {},
   "outputs": [
    {
     "name": "stdout",
     "output_type": "stream",
     "text": [
      "{'Name': 'Khageshor Giri', 'Age': 22, 'Email': 'girikhageshor2432@gmailc.om', 'Profession': 'Software Engioneer', 'Working Location': 'Kathmandu, Thamel'}\n"
     ]
    }
   ],
   "source": [
    "print(student)"
   ]
  },
  {
   "cell_type": "code",
   "execution_count": 63,
   "id": "2130213e-5553-4900-9962-d99abd35e9ef",
   "metadata": {},
   "outputs": [
    {
     "data": {
      "text/plain": [
       "5"
      ]
     },
     "execution_count": 63,
     "metadata": {},
     "output_type": "execute_result"
    }
   ],
   "source": [
    "# we can find the lenght of dictionary using len function\n",
    "len(student)"
   ]
  },
  {
   "cell_type": "code",
   "execution_count": 64,
   "id": "9e9eba8c-8f1e-433d-a5bf-7ca8576167dc",
   "metadata": {},
   "outputs": [
    {
     "name": "stdout",
     "output_type": "stream",
     "text": [
      "Name Khageshor Giri\n",
      "Age 22\n",
      "Email girikhageshor2432@gmailc.om\n",
      "Profession Software Engioneer\n",
      "Working Location Kathmandu, Thamel\n"
     ]
    }
   ],
   "source": [
    "# we can iterate through dictionary by using for loop\n",
    "for key, value in student.items():\n",
    "    print(key,value)"
   ]
  },
  {
   "cell_type": "code",
   "execution_count": 69,
   "id": "922dab88-3a13-4262-9bb7-56d6b0ada295",
   "metadata": {},
   "outputs": [
    {
     "name": "stdout",
     "output_type": "stream",
     "text": [
      "dict_items([('Name', 'Khageshor Giri'), ('Age', 22), ('Email', 'girikhageshor2432@gmailc.om'), ('Profession', 'Software Engioneer'), ('Working Location', 'Kathmandu, Thamel')]) <class 'dict_items'>\n"
     ]
    }
   ],
   "source": [
    "# various method provided by dict\n",
    "\n",
    "temp=student.items()\n",
    "print(temp, type(temp))"
   ]
  },
  {
   "cell_type": "code",
   "execution_count": 70,
   "id": "0ce549cd-4488-411a-a19a-63bf82056877",
   "metadata": {},
   "outputs": [
    {
     "data": {
      "text/plain": [
       "dict_keys(['Name', 'Age', 'Email', 'Profession', 'Working Location'])"
      ]
     },
     "execution_count": 70,
     "metadata": {},
     "output_type": "execute_result"
    }
   ],
   "source": [
    "student.keys()"
   ]
  },
  {
   "cell_type": "code",
   "execution_count": 71,
   "id": "cc8ba888-5a65-4822-a1f8-268bf0c8a645",
   "metadata": {},
   "outputs": [
    {
     "data": {
      "text/plain": [
       "dict_values(['Khageshor Giri', 22, 'girikhageshor2432@gmailc.om', 'Software Engioneer', 'Kathmandu, Thamel'])"
      ]
     },
     "execution_count": 71,
     "metadata": {},
     "output_type": "execute_result"
    }
   ],
   "source": [
    "student.values()"
   ]
  },
  {
   "cell_type": "code",
   "execution_count": 72,
   "id": "6ea78e28-a424-4bae-a692-11239bd2f1c5",
   "metadata": {},
   "outputs": [],
   "source": [
    "# deleting item for dictionary\n",
    "# the process on deleting element in dictionary is called pop\n",
    "# we can use pop and popitems function in dictionary to remove element for dictionary\n"
   ]
  },
  {
   "cell_type": "code",
   "execution_count": 75,
   "id": "20531657-1a88-412a-8bdc-dc403df33812",
   "metadata": {},
   "outputs": [
    {
     "data": {
      "text/plain": [
       "'Kathmandu, Thamel'"
      ]
     },
     "execution_count": 75,
     "metadata": {},
     "output_type": "execute_result"
    }
   ],
   "source": [
    "student.pop(\"Working Location\")"
   ]
  },
  {
   "cell_type": "code",
   "execution_count": 76,
   "id": "5b94f5cf-abb9-4514-b740-2b2e2c2636f2",
   "metadata": {},
   "outputs": [
    {
     "name": "stdout",
     "output_type": "stream",
     "text": [
      "{'Name': 'Khageshor Giri', 'Age': 22, 'Email': 'girikhageshor2432@gmailc.om', 'Profession': 'Software Engioneer'}\n"
     ]
    }
   ],
   "source": [
    "print(student)"
   ]
  },
  {
   "cell_type": "code",
   "execution_count": 77,
   "id": "b372f6ca-f21a-40b4-9bb4-94a93c60fee2",
   "metadata": {},
   "outputs": [],
   "source": [
    "student[\"Location\"] = \"Kathmandu\""
   ]
  },
  {
   "cell_type": "code",
   "execution_count": 79,
   "id": "01c46bf7-b62a-4fe8-b8c6-329d9c24a9d3",
   "metadata": {},
   "outputs": [
    {
     "name": "stdout",
     "output_type": "stream",
     "text": [
      "('Location', 'Kathmandu')\n"
     ]
    }
   ],
   "source": [
    "print(student.popitem())"
   ]
  },
  {
   "cell_type": "code",
   "execution_count": 80,
   "id": "8889b672-65e3-473b-8245-0eaa2be2d573",
   "metadata": {},
   "outputs": [],
   "source": [
    "# nested dictonary\n",
    "student[\"Address\"] = {\n",
    "    \"Country\": \"Nepal\",\n",
    "    \"District\": \"Nawalpur\",\n",
    "    \"Muncipality\": \"Madhayabindu\"\n",
    "}"
   ]
  },
  {
   "cell_type": "code",
   "execution_count": 81,
   "id": "a132ff71-dabc-4317-8fea-69b30c82face",
   "metadata": {},
   "outputs": [
    {
     "name": "stdout",
     "output_type": "stream",
     "text": [
      "{'Name': 'Khageshor Giri', 'Age': 22, 'Email': 'girikhageshor2432@gmailc.om', 'Profession': 'Software Engioneer', 'Address': {'Country': 'Nepal', 'District': 'Nawalpur', 'Muncipality': 'Madhayabindu'}}\n"
     ]
    }
   ],
   "source": [
    "print(student)"
   ]
  },
  {
   "cell_type": "code",
   "execution_count": 82,
   "id": "ffbd2270-b03d-4bdc-b480-d2499f55752f",
   "metadata": {},
   "outputs": [],
   "source": [
    "## tuple"
   ]
  },
  {
   "cell_type": "code",
   "execution_count": 83,
   "id": "b6fc3a82-337c-4bdd-9728-70e01cd532a9",
   "metadata": {},
   "outputs": [],
   "source": [
    "# creating a tupel \n",
    "myTuple = ()"
   ]
  },
  {
   "cell_type": "code",
   "execution_count": 84,
   "id": "3f0390c0-f207-4b8b-b6a0-6ea65cca7bfb",
   "metadata": {},
   "outputs": [
    {
     "name": "stdout",
     "output_type": "stream",
     "text": [
      "<class 'type'>\n"
     ]
    }
   ],
   "source": [
    "print(type(tuple))"
   ]
  },
  {
   "cell_type": "code",
   "execution_count": 85,
   "id": "c023d688-8354-48d6-ae3e-95fe065f2919",
   "metadata": {},
   "outputs": [],
   "source": [
    "student = (\"name\", \"roll\", \"class\")"
   ]
  },
  {
   "cell_type": "code",
   "execution_count": 86,
   "id": "7f53c28a-e0ef-4d4b-b072-99321ff04ba2",
   "metadata": {},
   "outputs": [
    {
     "name": "stdout",
     "output_type": "stream",
     "text": [
      "('name', 'roll', 'class') <class 'tuple'>\n"
     ]
    }
   ],
   "source": [
    "print(student, type(student))"
   ]
  },
  {
   "cell_type": "code",
   "execution_count": 91,
   "id": "7c7a43c6-1c00-485a-a00d-82704e2cf265",
   "metadata": {},
   "outputs": [
    {
     "name": "stdout",
     "output_type": "stream",
     "text": [
      "True\n"
     ]
    }
   ],
   "source": []
  },
  {
   "cell_type": "markdown",
   "id": "719ee4cc-25f9-49da-8f19-1871f457e5d5",
   "metadata": {},
   "source": [
    "# List"
   ]
  },
  {
   "cell_type": "code",
   "execution_count": 92,
   "id": "a0e0361a-9470-44a5-85f4-e52d13a33b0c",
   "metadata": {},
   "outputs": [],
   "source": [
    "# crateing a list\n",
    "\n"
   ]
  },
  {
   "cell_type": "code",
   "execution_count": 93,
   "id": "d0f0b7cb-06a8-418c-909e-804e46d070d2",
   "metadata": {},
   "outputs": [],
   "source": [
    "myList = [] # this is a empty list created in a python programmig language."
   ]
  },
  {
   "cell_type": "code",
   "execution_count": 94,
   "id": "b7c716fb-023b-4f49-a621-bac3e5be23f8",
   "metadata": {},
   "outputs": [],
   "source": [
    "# we can create a list by using list() built in methond provided by python"
   ]
  },
  {
   "cell_type": "code",
   "execution_count": 95,
   "id": "4162d27b-df80-41be-91b9-a0bd1c2d5b87",
   "metadata": {},
   "outputs": [],
   "source": [
    "temp = list()"
   ]
  },
  {
   "cell_type": "code",
   "execution_count": 96,
   "id": "ad8a2780-cefa-4813-a185-efe36b9a1e5e",
   "metadata": {},
   "outputs": [
    {
     "name": "stdout",
     "output_type": "stream",
     "text": [
      "['Apple', 'Banana', 'WaterMellon', 'Oranges'] <class 'list'>\n"
     ]
    }
   ],
   "source": [
    "fruits = [\"Apple\", \"Banana\", \"WaterMellon\", \"Oranges\"]\n",
    "print(fruits, type(fruits))"
   ]
  },
  {
   "cell_type": "code",
   "execution_count": 97,
   "id": "2a051203-5750-472a-b9ce-135dda7c3945",
   "metadata": {},
   "outputs": [],
   "source": [
    "# we can use indexing to get the items from list"
   ]
  },
  {
   "cell_type": "code",
   "execution_count": 98,
   "id": "0aa13821-0d99-4ea3-bb1d-710bd69f78b7",
   "metadata": {},
   "outputs": [
    {
     "data": {
      "text/plain": [
       "'WaterMellon'"
      ]
     },
     "execution_count": 98,
     "metadata": {},
     "output_type": "execute_result"
    }
   ],
   "source": [
    "fruits[2]"
   ]
  },
  {
   "cell_type": "code",
   "execution_count": 101,
   "id": "65b33103-ad1b-403f-91ea-c6018b5ae4ba",
   "metadata": {},
   "outputs": [
    {
     "name": "stdout",
     "output_type": "stream",
     "text": [
      "Apple\n",
      "Banana\n",
      "WaterMellon\n",
      "Oranges\n"
     ]
    }
   ],
   "source": [
    "# we can loop through the list using for loop \n",
    "\n",
    "for furit in fruits:\n",
    "    print(furit)"
   ]
  },
  {
   "cell_type": "code",
   "execution_count": 105,
   "id": "c5ac2647-5719-48d8-8e19-b72dab54a79d",
   "metadata": {},
   "outputs": [],
   "source": [
    "# we can update element in list like this\n",
    "fruits[2] = \"Graps\""
   ]
  },
  {
   "cell_type": "code",
   "execution_count": 106,
   "id": "dac23297-3e66-4b87-b3cc-c2342b29ba4d",
   "metadata": {},
   "outputs": [],
   "source": [
    "# adding item in list\n",
    "# we can use insert, append or extend method to add items in a particular list."
   ]
  },
  {
   "cell_type": "code",
   "execution_count": 108,
   "id": "54b4ddbc-a5a9-4344-8b3f-bb6d399ac6dd",
   "metadata": {},
   "outputs": [
    {
     "name": "stdout",
     "output_type": "stream",
     "text": [
      "['Apple', 'Banana', 'Graps', 'Oranges', 'Pineapple', 'Pineapple']\n"
     ]
    }
   ],
   "source": [
    "fruits.append(\"Pineapple\") # the append function insert the given element at the last of a list\n",
    "print(fruits)"
   ]
  },
  {
   "cell_type": "code",
   "execution_count": 111,
   "id": "1c8d62c0-0925-40bb-a181-efff1a5b2bd9",
   "metadata": {},
   "outputs": [
    {
     "name": "stdout",
     "output_type": "stream",
     "text": [
      "['Apple', 'Banana', 'Coconut', 'Coconut', 'Graps', 'Oranges', 'Pineapple', 'Pineapple']\n"
     ]
    }
   ],
   "source": [
    "# we can use insert method to insert element at any given position in a particular list\n",
    "fruits.insert(2,\"Coconut\")\n",
    "print(fruits)"
   ]
  },
  {
   "cell_type": "code",
   "execution_count": 113,
   "id": "0b662a4e-a5c6-4bf5-9bf9-fece77e41475",
   "metadata": {},
   "outputs": [
    {
     "name": "stdout",
     "output_type": "stream",
     "text": [
      "['Apple', 'Banana', 'Coconut', 'Coconut', 'Graps', 'Oranges', 'Pineapple', 'Pineapple', 'Kivy', 'Watermillon', 'Jackfruit', 'Kivy', 'Watermillon', 'Jackfruit']\n"
     ]
    }
   ],
   "source": [
    "# we add multiple items in list we can use extend method provides by python\n",
    "fruits.extend([\"Kivy\",\"Watermillon\",\"Jackfruit\"])\n",
    "print(fruits)"
   ]
  },
  {
   "cell_type": "code",
   "execution_count": 114,
   "id": "f76fb044-8ca6-46df-b74b-747e48fef94b",
   "metadata": {},
   "outputs": [
    {
     "name": "stdout",
     "output_type": "stream",
     "text": [
      "1\n"
     ]
    }
   ],
   "source": [
    "# we can count the occurance of a single item in a list \n",
    "print(fruits.count(\"Apple\"))"
   ]
  },
  {
   "cell_type": "code",
   "execution_count": 115,
   "id": "c6908d0c-7280-4f47-89cb-56a1e9c3a6f6",
   "metadata": {},
   "outputs": [
    {
     "name": "stdout",
     "output_type": "stream",
     "text": [
      "14\n"
     ]
    }
   ],
   "source": [
    "# we can find the length of a list using len() function\n",
    "print(len(fruits))"
   ]
  },
  {
   "cell_type": "code",
   "execution_count": 116,
   "id": "626a6262-8913-4c6c-84e1-486fb3f69cbc",
   "metadata": {},
   "outputs": [
    {
     "name": "stdout",
     "output_type": "stream",
     "text": [
      "Jackfruit\n"
     ]
    }
   ],
   "source": [
    "# we can pop the last item from list\n",
    "print(fruits.pop())"
   ]
  },
  {
   "cell_type": "code",
   "execution_count": 118,
   "id": "d686daa5-c04c-412a-a9f5-82d94de9a7e6",
   "metadata": {},
   "outputs": [
    {
     "name": "stdout",
     "output_type": "stream",
     "text": [
      "['Apple', 'Banana', 'Graps', 'Oranges', 'Pineapple', 'Pineapple', 'Kivy', 'Watermillon', 'Jackfruit', 'Kivy', 'Watermillon']\n"
     ]
    }
   ],
   "source": [
    "# we can use del key to delete item form list\n",
    "del fruits[2]\n",
    "print(fruits)"
   ]
  },
  {
   "cell_type": "code",
   "execution_count": 120,
   "id": "a5ff4a4e-8812-4dc0-9ce8-f2ff893f3e41",
   "metadata": {},
   "outputs": [
    {
     "name": "stdout",
     "output_type": "stream",
     "text": [
      "Watermillon Jackfruit\n"
     ]
    }
   ],
   "source": [
    "# indexing \n",
    "# by using negative indexing we can get items in reverse order\n",
    "print(fruits[-1], fruits[-3])"
   ]
  },
  {
   "cell_type": "code",
   "execution_count": 121,
   "id": "cd3d63a9-9528-4e6a-a514-0c5e6aa24bf4",
   "metadata": {},
   "outputs": [
    {
     "name": "stdout",
     "output_type": "stream",
     "text": [
      "Apple\n",
      "Banana\n",
      "Graps\n",
      "Oranges\n",
      "Pineapple\n",
      "Pineapple\n",
      "Kivy\n",
      "Watermillon\n",
      "Jackfruit\n",
      "Kivy\n",
      "Watermillon\n"
     ]
    }
   ],
   "source": [
    "# we can loop through the list\n",
    "for item in fruits:\n",
    "    print(item)"
   ]
  },
  {
   "cell_type": "code",
   "execution_count": 124,
   "id": "db4763c0-3e29-4910-ba25-9a858a6b90b8",
   "metadata": {},
   "outputs": [
    {
     "name": "stdout",
     "output_type": "stream",
     "text": [
      "['Graps', 'Oranges', 'Pineapple', 'Pineapple']\n"
     ]
    }
   ],
   "source": [
    "# we can use slic fo break down the list into new list\n",
    "favirouts = fruits[2:6]\n",
    "print(favirouts)"
   ]
  },
  {
   "cell_type": "code",
   "execution_count": null,
   "id": "fa45fbe2-7516-443d-a2b1-0a178f3d2be8",
   "metadata": {},
   "outputs": [],
   "source": [
    "# we can create list containing another list. this process is called nested list."
   ]
  }
 ],
 "metadata": {
  "kernelspec": {
   "display_name": "Python 3 (ipykernel)",
   "language": "python",
   "name": "python3"
  },
  "language_info": {
   "codemirror_mode": {
    "name": "ipython",
    "version": 3
   },
   "file_extension": ".py",
   "mimetype": "text/x-python",
   "name": "python",
   "nbconvert_exporter": "python",
   "pygments_lexer": "ipython3",
   "version": "3.11.0"
  }
 },
 "nbformat": 4,
 "nbformat_minor": 5
}
