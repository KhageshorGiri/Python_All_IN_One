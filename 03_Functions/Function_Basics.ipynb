{
 "cells": [
  {
   "cell_type": "markdown",
   "id": "823a93aa",
   "metadata": {},
   "source": [
    "A function is a basic building block of code.\n",
    "to define a function we use def key word in python\n",
    "after creating functiuon we need to call it where we need it\n",
    "\n",
    "\n",
    "There are two type of function:\n",
    "1. Library Function i.e Built in function\n",
    "2. User Define Function\n",
    "\n"
   ]
  },
  {
   "cell_type": "code",
   "execution_count": 23,
   "id": "b75a0954",
   "metadata": {},
   "outputs": [],
   "source": [
    "# creating a function\n",
    "def ExampleFunction():\n",
    "    pass"
   ]
  },
  {
   "cell_type": "code",
   "execution_count": 9,
   "id": "5717b406",
   "metadata": {},
   "outputs": [
    {
     "name": "stdout",
     "output_type": "stream",
     "text": [
      "7\n"
     ]
    }
   ],
   "source": [
    "# function to add to number\n",
    "def add(x, y):\n",
    "    result = x + y\n",
    "    print(result)\n",
    "    \n",
    "# calling a function\n",
    "add(3,4)"
   ]
  },
  {
   "cell_type": "code",
   "execution_count": 10,
   "id": "c417c5eb",
   "metadata": {},
   "outputs": [
    {
     "name": "stdout",
     "output_type": "stream",
     "text": [
      "5\n"
     ]
    }
   ],
   "source": [
    "# returing value from function\n",
    "def add(a, b):\n",
    "    result = a + b\n",
    "    return result\n",
    "\n",
    "addition = add(2, 3)\n",
    "print(addition)"
   ]
  },
  {
   "cell_type": "code",
   "execution_count": 13,
   "id": "d6ea9a6e",
   "metadata": {},
   "outputs": [
    {
     "name": "stdout",
     "output_type": "stream",
     "text": [
      "1\n",
      "2\n",
      "3\n",
      "4\n"
     ]
    }
   ],
   "source": [
    "# passing variable length of parameters\n",
    "def display(*args):\n",
    "    for item in args:\n",
    "        print(item)\n",
    "        \n",
    "display(1, 2, 3, 4)"
   ]
  },
  {
   "cell_type": "code",
   "execution_count": 16,
   "id": "b76c1d39",
   "metadata": {},
   "outputs": [
    {
     "name": "stdout",
     "output_type": "stream",
     "text": [
      "Addition = 5 \n",
      "Subtraction = 1\n"
     ]
    }
   ],
   "source": [
    "# return mulltiple value form function\n",
    "def operation(a, b):\n",
    "    addition = a + b\n",
    "    subtraction = a - b\n",
    "    return addition, subtraction\n",
    "\n",
    "add, sub = operation(3, 2)\n",
    "print(f\"Addition = {add} \\nSubtraction = {sub}\")"
   ]
  },
  {
   "cell_type": "code",
   "execution_count": 17,
   "id": "cbaa86cd",
   "metadata": {},
   "outputs": [
    {
     "name": "stdout",
     "output_type": "stream",
     "text": [
      "Khageshor Giri 22 yes\n",
      "Binod Giri 21 No\n"
     ]
    }
   ],
   "source": [
    "# function that use default parameter value\n",
    "def display(name, age, present=\"yes\"):\n",
    "    print(name, age, present)\n",
    "    \n",
    "display(\"Khageshor Giri\", 22)\n",
    "display(\"Binod Giri\", 21, \"No\")"
   ]
  },
  {
   "cell_type": "code",
   "execution_count": 18,
   "id": "694ca131",
   "metadata": {},
   "outputs": [],
   "source": [
    "# A simple program to perform basic math operation"
   ]
  },
  {
   "cell_type": "code",
   "execution_count": 22,
   "id": "ea8309de",
   "metadata": {},
   "outputs": [
    {
     "name": "stdout",
     "output_type": "stream",
     "text": [
      "Welcome To Caluclator\n",
      "\n",
      "Which Operation do you want to perform?\n",
      "1.Addition\n",
      "2.Subtraction\n",
      "3.Multiplication\n",
      "4.Division\n",
      "2\n",
      "Enter First Number: 5\n",
      "Enter Second Number: 8\n",
      "The subtraction of 5 and 8 is 3\n"
     ]
    }
   ],
   "source": [
    "def Addition(a, b):\n",
    "    return a + b\n",
    "\n",
    "def subtraction(a, b):\n",
    "    if a > b:\n",
    "        return a - b\n",
    "    else:\n",
    "        return b - a\n",
    "\n",
    "def multiplication(a, b):\n",
    "    return a * b\n",
    "\n",
    "def Division(a, b):\n",
    "    if a > b:\n",
    "        return a/b\n",
    "    else:\n",
    "        return b/a\n",
    "\n",
    "print(\"Welcome To Caluclator\")\n",
    "print()\n",
    "print(\"Which Operation do you want to perform?\")\n",
    "print(\"1.Addition\\n2.Subtraction\\n3.Multiplication\\n4.Division\")\n",
    "choice = int(input())\n",
    "\n",
    "if choice == 1:\n",
    "    firstNumber = int(input(\"Enter First Number: \"))\n",
    "    secondNumber = int(input(\"Enter Second Number: \"))\n",
    "    addValue = Addition(firstNumber, secondNumber)\n",
    "    print(f\"The addition of {firstNumber} and {secondNumber} is {addValue}\")\n",
    "    \n",
    "elif choice == 2:\n",
    "    firstNumber = int(input(\"Enter First Number: \"))\n",
    "    secondNumber = int(input(\"Enter Second Number: \"))\n",
    "    subValue = subtraction(firstNumber, secondNumber)\n",
    "    print(f\"The subtraction of {firstNumber} and {secondNumber} is {subValue}\")\n",
    "    \n",
    "elif choice == 3:\n",
    "    firstNumber = int(input(\"Enter First Number: \"))\n",
    "    secondNumber = int(input(\"Enter Second Number: \"))\n",
    "    mulValue = Multiplication(firstNumber, secondNumber)\n",
    "    print(f\"The multliplication of {firstNumber} and {secondNumber} is {mulValue}\")\n",
    "    \n",
    "elif choice == 4:\n",
    "    firstNumber = int(input(\"Enter First Number: \"))\n",
    "    secondNumber = int(input(\"Enter Second Number: \"))\n",
    "    divValue = Division(firstNumber, secondNumber)\n",
    "    print(f\"The division of {firstNumber} and {secondNumber} is {divValue}\")\n",
    "\n",
    "else:\n",
    "    print(\"Please Enter a Valid Choice.\")"
   ]
  },
  {
   "cell_type": "code",
   "execution_count": 1,
   "id": "843c5fe5",
   "metadata": {},
   "outputs": [],
   "source": [
    "# Write a Python function to sum all the numbers in a list."
   ]
  },
  {
   "cell_type": "code",
   "execution_count": 4,
   "id": "9c0e012f",
   "metadata": {},
   "outputs": [
    {
     "name": "stdout",
     "output_type": "stream",
     "text": [
      "How many element do you want to add in a list: 4\n",
      "Enter 0th number for list: 2\n",
      "Enter 1th number for list: 4\n",
      "Enter 2th number for list: 6\n",
      "Enter 3th number for list: 8\n",
      "The List is\n",
      " [2, 4, 6, 8]\n",
      "Total su is\n",
      " 20\n"
     ]
    }
   ],
   "source": [
    "def buildList(size):\n",
    "    myList = []\n",
    "    for i in range(size):\n",
    "        number = int(input(f\"Enter {i}th number for list: \"))\n",
    "        myList.append(number)\n",
    "    return myList\n",
    "\n",
    "def sumAll(numbersList):\n",
    "    sumValue = 0\n",
    "    for number in numbersList:\n",
    "        sumValue += number        \n",
    "    return sumValue\n",
    "\n",
    "sizeOfList = int(input(\"How many element do you want to add in a list: \"))\n",
    "numberList = buildList(sizeOfList)\n",
    "print(\"The List is\\n\", numberList)\n",
    "sumOfListNumbers = sumAll(numberList)\n",
    "print(\"Total su is\\n\",sumOfListNumbers)"
   ]
  },
  {
   "cell_type": "code",
   "execution_count": null,
   "id": "8f6a2cb2",
   "metadata": {},
   "outputs": [],
   "source": []
  },
  {
   "cell_type": "code",
   "execution_count": null,
   "id": "df392595",
   "metadata": {},
   "outputs": [],
   "source": []
  }
 ],
 "metadata": {
  "kernelspec": {
   "display_name": "Python 3 (ipykernel)",
   "language": "python",
   "name": "python3"
  },
  "language_info": {
   "codemirror_mode": {
    "name": "ipython",
    "version": 3
   },
   "file_extension": ".py",
   "mimetype": "text/x-python",
   "name": "python",
   "nbconvert_exporter": "python",
   "pygments_lexer": "ipython3",
   "version": "3.7.8rc1"
  }
 },
 "nbformat": 4,
 "nbformat_minor": 5
}
