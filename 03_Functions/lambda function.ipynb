{
 "cells": [
  {
   "cell_type": "markdown",
   "id": "c1603fbc",
   "metadata": {},
   "source": [
    "# lambda function"
   ]
  },
  {
   "cell_type": "code",
   "execution_count": 2,
   "id": "49dc3100",
   "metadata": {},
   "outputs": [],
   "source": [
    "#Lambda Function to Check if value is in a List"
   ]
  },
  {
   "cell_type": "code",
   "execution_count": 13,
   "id": "53c35b34",
   "metadata": {},
   "outputs": [
    {
     "name": "stdout",
     "output_type": "stream",
     "text": [
      "Enter any nymber: 1\n",
      "True\n"
     ]
    }
   ],
   "source": [
    "myList = [1, 2, 3, 4, 5, 6]\n",
    "number = int(input('Enter any nymber: '))\n",
    "result = lambda x : x in myList\n",
    "print(result(number))"
   ]
  },
  {
   "cell_type": "code",
   "execution_count": 3,
   "id": "17045fb2",
   "metadata": {},
   "outputs": [],
   "source": [
    "# Difference between Normal def defined function and Lambda"
   ]
  },
  {
   "cell_type": "markdown",
   "id": "40648349",
   "metadata": {},
   "source": [
    "In Python, an anonymous function is a function that is defined without a name.\n",
    "While normal functions are defined using the def keyword in Python, anonymous functions are defined using the lambda keyword.\n",
    "Hence, anonymous functions are also called lambda functions.\n",
    "\n",
    "There is no return keyword defined explicitly because the lambda function does return an object by default."
   ]
  },
  {
   "cell_type": "code",
   "execution_count": 4,
   "id": "044dd9d0",
   "metadata": {},
   "outputs": [],
   "source": [
    "# Lambda function to find the smaller value between two elements"
   ]
  },
  {
   "cell_type": "code",
   "execution_count": 17,
   "id": "da8c9d90",
   "metadata": {},
   "outputs": [
    {
     "name": "stdout",
     "output_type": "stream",
     "text": [
      "Eneter first Number: 2\n",
      "Enter second Number: 3\n",
      "2\n"
     ]
    }
   ],
   "source": [
    "firstNumber = int(input(\"Eneter first Number: \"))\n",
    "secondNumber = int(input(\"Enter second Number: \"))\n",
    "smallerNumber = lambda x, y: firstNumber if (firstNumber < secondNumber) else secondNumber\n",
    "result = smallerNumber(firstNumber, secondNumber)\n",
    "print(result)"
   ]
  },
  {
   "cell_type": "code",
   "execution_count": 5,
   "id": "1d61c9fa",
   "metadata": {},
   "outputs": [],
   "source": [
    "# Lambda with if but without else in Python"
   ]
  },
  {
   "cell_type": "code",
   "execution_count": 22,
   "id": "72587011",
   "metadata": {},
   "outputs": [
    {
     "name": "stdout",
     "output_type": "stream",
     "text": [
      "Enter any nuuber: 7\n",
      "49\n"
     ]
    }
   ],
   "source": [
    "# the lambda function always return a value so \n",
    "# if there is nothing to return in else condition then we have to return None\n",
    "\n",
    "number = int(input(\"Enter any nuuber: \"))\n",
    "square = lambda x : x*x if(x > 5) else None\n",
    "result = square(number)\n",
    "print(result)"
   ]
  }
 ],
 "metadata": {
  "kernelspec": {
   "display_name": "Python 3 (ipykernel)",
   "language": "python",
   "name": "python3"
  },
  "language_info": {
   "codemirror_mode": {
    "name": "ipython",
    "version": 3
   },
   "file_extension": ".py",
   "mimetype": "text/x-python",
   "name": "python",
   "nbconvert_exporter": "python",
   "pygments_lexer": "ipython3",
   "version": "3.7.8rc1"
  }
 },
 "nbformat": 4,
 "nbformat_minor": 5
}
