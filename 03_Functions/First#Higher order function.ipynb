{
 "cells": [
  {
   "cell_type": "markdown",
   "id": "3c1e075c",
   "metadata": {},
   "source": [
    "##### Any function that takes another function as a input argumnets is called higher or first order function.\n",
    "\n",
    "These are functions that take a function as a parameter and return a function as the result.\n",
    "\n",
    "Examples   \n",
    "    1. Map   \n",
    "    2. Reduce   \n",
    "    3. Filter   "
   ]
  },
  {
   "cell_type": "markdown",
   "id": "c2b14e70",
   "metadata": {},
   "source": [
    "A fact about the High order function is that a high order function is applicable to both functions as well as to the methods that take a function as their parameter or return a function as the result of them. In Python, this concept of high-order functions is supported with every aspect.\n",
    "\n",
    "1. In high order function, we can store a function inside a variable.\n",
    "2. In high order function, a function can act as an instant of an object type.\n",
    "3. In high order function, we can return a function as a result of another function.\n",
    "4. In high order function, we can pass a function as a parameter or argument inside another function.\n",
    "5. We can store Python high order functions in data structures format such as lists, hash tables, etc.\n"
   ]
  },
  {
   "cell_type": "code",
   "execution_count": 3,
   "id": "0d94b548",
   "metadata": {},
   "outputs": [
    {
     "name": "stdout",
     "output_type": "stream",
     "text": [
      "25\n"
     ]
    }
   ],
   "source": [
    "# function to calculate the square a given number\n",
    "def calculateSquare(function, number):\n",
    "    return function(number)\n",
    "\n",
    "square = lambda x: x*x\n",
    "result = calculateSquare(square, 5)\n",
    "print(result)"
   ]
  },
  {
   "cell_type": "code",
   "execution_count": 4,
   "id": "c88ac079",
   "metadata": {},
   "outputs": [
    {
     "name": "stdout",
     "output_type": "stream",
     "text": [
      "Enter first Number: 2\n",
      "Enter second Number: 3\n",
      "5\n"
     ]
    }
   ],
   "source": [
    "# function that adds two number and return a value.\n",
    "def add(function, a, b):\n",
    "    return function(a, b)\n",
    "\n",
    "a = int(input(\"Enter first Number: \"))\n",
    "b = int(input(\"Enter second Number: \"))\n",
    "\n",
    "addition = lambda a, b: a + b\n",
    "additionValue = add(addition, a, b)\n",
    "print(additionValue)"
   ]
  },
  {
   "cell_type": "markdown",
   "id": "89bc6820",
   "metadata": {},
   "source": [
    "### Map function\n",
    "\n",
    "The map() function is a higher-order function. As previously stated, this function accepts another function and a sequence of ‘iterables’ as parameters and provides output after applying the function to each iterable in the sequence. It has the following syntax:\n",
    "\n",
    "SYNTAX: map(function, iterables)"
   ]
  },
  {
   "cell_type": "code",
   "execution_count": 10,
   "id": "9615268c",
   "metadata": {},
   "outputs": [
    {
     "name": "stdout",
     "output_type": "stream",
     "text": [
      "[1, 4, 9, 16, 25, 36]\n"
     ]
    }
   ],
   "source": [
    "myList = [1, 2, 3, 4, 5, 6]\n",
    "result = map(lambda x : x*x, myList)\n",
    "print(list(result))"
   ]
  },
  {
   "cell_type": "markdown",
   "id": "f7919b5b",
   "metadata": {},
   "source": [
    "### Reduce Function\n",
    "\n",
    "The reduce() function applies a provided function to ‘iterables’ and returns a single value, as the name implies.\n",
    "\n",
    "SYNTAX: reduce(function, iterables)\n",
    "\n",
    "The function specifies which expression should be applied to the ‘iterables’ in this case. The function tools module must be used to import this function."
   ]
  },
  {
   "cell_type": "code",
   "execution_count": 15,
   "id": "364b889e",
   "metadata": {},
   "outputs": [
    {
     "name": "stdout",
     "output_type": "stream",
     "text": [
      "187\n"
     ]
    }
   ],
   "source": [
    "from functools import reduce\n",
    "result = reduce(lambda a,b: a+b,[23,21,45,98])\n",
    "print(result)"
   ]
  },
  {
   "cell_type": "markdown",
   "id": "1d22b002",
   "metadata": {},
   "source": [
    "### Filter function\n",
    "\n",
    "The filter() function is used to generate an output list of values that return true when the function is called. It has the following syntax:\n",
    "\n",
    "SYNTAX: filter (function, iterables)\n",
    "\n",
    "This function like map(), can take user-defined functions and lambda functions as parameters."
   ]
  },
  {
   "cell_type": "code",
   "execution_count": 12,
   "id": "edab9c90",
   "metadata": {},
   "outputs": [
    {
     "name": "stdout",
     "output_type": "stream",
     "text": [
      "[4, 5, 6, 7]\n"
     ]
    }
   ],
   "source": [
    "myList = [1, 2, 3, 4, 5,6, 7]\n",
    "result = filter(lambda a: a > 3 , myList)\n",
    "print(list(result))"
   ]
  }
 ],
 "metadata": {
  "kernelspec": {
   "display_name": "Python 3 (ipykernel)",
   "language": "python",
   "name": "python3"
  },
  "language_info": {
   "codemirror_mode": {
    "name": "ipython",
    "version": 3
   },
   "file_extension": ".py",
   "mimetype": "text/x-python",
   "name": "python",
   "nbconvert_exporter": "python",
   "pygments_lexer": "ipython3",
   "version": "3.7.8rc1"
  }
 },
 "nbformat": 4,
 "nbformat_minor": 5
}
