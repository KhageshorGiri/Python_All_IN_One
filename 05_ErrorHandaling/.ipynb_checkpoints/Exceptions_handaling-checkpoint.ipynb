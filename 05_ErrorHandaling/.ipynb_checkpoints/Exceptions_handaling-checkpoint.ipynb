{
 "cells": [
  {
   "cell_type": "markdown",
   "id": "5f4703bb",
   "metadata": {},
   "source": [
    "# Exception Hadnling"
   ]
  },
  {
   "cell_type": "markdown",
   "id": "a38ab0ec",
   "metadata": {},
   "source": [
    "Exception are the errror that occures at the time of programa exceution. The compiler cannot cannot exception but at the run\n",
    "time the exception got caught.\n",
    "\n",
    "There are two types of error in python programming laungage.\n",
    "1. Syntax Error\n",
    "2. Exception\n",
    "\n",
    "The syntax error comes because of wrong syntax.\n",
    "But the exception occurs because of wrong programming logic.\n",
    "\n",
    "The exception break the flow of programe execution and cause the un-normal terimation of program."
   ]
  },
  {
   "cell_type": "markdown",
   "id": "7793eebc",
   "metadata": {},
   "source": [
    "IN python we can haldel exception using try and except block\n",
    "Syntax\n",
    "\n",
    "try:  \n",
    "    The code that can cause error at the run time.    \n",
    "except:   \n",
    "    handaling the exception and showing the error message to the user.   \n",
    "else:   \n",
    "    code that needs to run if code doesnot get any exception    \n",
    "finally:    \n",
    "    code taht runs either exception occures or not.   "
   ]
  },
  {
   "cell_type": "code",
   "execution_count": 1,
   "id": "244b5d4d",
   "metadata": {},
   "outputs": [
    {
     "name": "stdout",
     "output_type": "stream",
     "text": [
      "Enter first number: 2\n",
      "Enter second number: 3\n",
      "Please select your opperation: add\n"
     ]
    },
    {
     "ename": "NameError",
     "evalue": "name 'operation' is not defined",
     "output_type": "error",
     "traceback": [
      "\u001b[1;31m---------------------------------------------------------------------------\u001b[0m",
      "\u001b[1;31mNameError\u001b[0m                                 Traceback (most recent call last)",
      "\u001b[1;32m~\\AppData\\Local\\Temp/ipykernel_3916/972660385.py\u001b[0m in \u001b[0;36m<module>\u001b[1;34m\u001b[0m\n\u001b[0;32m     29\u001b[0m \u001b[0moperationChoice\u001b[0m \u001b[1;33m=\u001b[0m \u001b[0minput\u001b[0m\u001b[1;33m(\u001b[0m\u001b[1;34m\"Please select your opperation: \"\u001b[0m\u001b[1;33m)\u001b[0m\u001b[1;33m\u001b[0m\u001b[1;33m\u001b[0m\u001b[0m\n\u001b[0;32m     30\u001b[0m \u001b[1;33m\u001b[0m\u001b[0m\n\u001b[1;32m---> 31\u001b[1;33m \u001b[0mresult\u001b[0m \u001b[1;33m=\u001b[0m \u001b[0moperation\u001b[0m\u001b[1;33m(\u001b[0m\u001b[0moperationChoice\u001b[0m\u001b[1;33m,\u001b[0m \u001b[0mfirstNumber\u001b[0m\u001b[1;33m,\u001b[0m \u001b[0msecondNumber\u001b[0m\u001b[1;33m)\u001b[0m\u001b[1;33m\u001b[0m\u001b[1;33m\u001b[0m\u001b[0m\n\u001b[0m\u001b[0;32m     32\u001b[0m \u001b[0mprint\u001b[0m\u001b[1;33m(\u001b[0m\u001b[0mresult\u001b[0m\u001b[1;33m)\u001b[0m\u001b[1;33m\u001b[0m\u001b[1;33m\u001b[0m\u001b[0m\n",
      "\u001b[1;31mNameError\u001b[0m: name 'operation' is not defined"
     ]
    }
   ],
   "source": [
    "#a simple example of exception handaling\n",
    "\n",
    "def opeartion(operation, a, b):\n",
    "    if operation.lower() == \"add\":\n",
    "        try:\n",
    "            return a+b\n",
    "        except Excotion as exp:\n",
    "            print(\"Error:\", exp)\n",
    "    elif operation.lower() == \"sub\":\n",
    "        try:\n",
    "            return a-b\n",
    "        except Exception as exp:\n",
    "            print(\"Error:\",exp)\n",
    "    elif operation.lower() == \"mul\":\n",
    "        try:\n",
    "            return a*b\n",
    "        except Exception as exp:\n",
    "            print(\"Error:\",exp)\n",
    "    elif operation.lower() == \"div\":\n",
    "        try:\n",
    "            return a/b\n",
    "        except Exception as exp:\n",
    "            print(\"Error:\",exp)\n",
    "    else:\n",
    "        print(\"Please select valid operation.\")\n",
    "\n",
    "firstNumber = int(input(\"Enter first number: \"))\n",
    "secondNumber = int(input(\"Enter second number: \"))\n",
    "operationChoice = input(\"Please select your opperation: \")\n",
    "\n",
    "result = operation(operationChoice, firstNumber, secondNumber)\n",
    "print(result)"
   ]
  },
  {
   "cell_type": "code",
   "execution_count": null,
   "id": "1903928d",
   "metadata": {},
   "outputs": [],
   "source": []
  }
 ],
 "metadata": {
  "kernelspec": {
   "display_name": "Python 3 (ipykernel)",
   "language": "python",
   "name": "python3"
  },
  "language_info": {
   "codemirror_mode": {
    "name": "ipython",
    "version": 3
   },
   "file_extension": ".py",
   "mimetype": "text/x-python",
   "name": "python",
   "nbconvert_exporter": "python",
   "pygments_lexer": "ipython3",
   "version": "3.7.8rc1"
  }
 },
 "nbformat": 4,
 "nbformat_minor": 5
}
