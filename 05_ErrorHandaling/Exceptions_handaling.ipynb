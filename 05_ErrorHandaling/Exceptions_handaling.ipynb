{
 "cells": [
  {
   "cell_type": "markdown",
   "id": "81f76a60",
   "metadata": {},
   "source": [
    "# Exception Hadnling"
   ]
  },
  {
   "cell_type": "markdown",
   "id": "340bef29",
   "metadata": {},
   "source": [
    "Exception are the errror that occures at the time of programa exceution. The compiler cannot cannot exception but at the run\n",
    "time the exception got caught.\n",
    "\n",
    "There are two types of error in python programming laungage.\n",
    "1. Syntax Error\n",
    "2. Exception\n",
    "\n",
    "The syntax error comes because of wrong syntax.\n",
    "But the exception occurs because of wrong programming logic.\n",
    "\n",
    "The exception break the flow of programe execution and cause the un-normal terimation of program."
   ]
  },
  {
   "cell_type": "markdown",
   "id": "865a75cb",
   "metadata": {},
   "source": [
    "IN python we can haldel exception using try and except block\n",
    "Syntax\n",
    "\n",
    "try:  \n",
    "    The code that can cause error at the run time.    \n",
    "except:   \n",
    "    handaling the exception and showing the error message to the user.   \n",
    "else:   \n",
    "    code that needs to run if code doesnot get any exception    \n",
    "finally:    \n",
    "    code taht runs either exception occures or not.   "
   ]
  },
  {
   "cell_type": "code",
   "execution_count": 3,
   "id": "282f6c1d",
   "metadata": {},
   "outputs": [
    {
     "name": "stdout",
     "output_type": "stream",
     "text": [
      "Enter first number: 2\n",
      "Enter second number: 0\n",
      "Please select your opperation: div\n",
      "Error: division by zero\n",
      "None\n"
     ]
    }
   ],
   "source": [
    "#a simple example of exception handaling\n",
    "\n",
    "def opeartion(operation, a, b):\n",
    "    if operation.lower() == \"add\":\n",
    "        try:\n",
    "            return a+b\n",
    "        except Excotion as exp:\n",
    "            print(\"Error:\", exp)\n",
    "    elif operation.lower() == \"sub\":\n",
    "        try:\n",
    "            return a-b\n",
    "        except Exception as exp:\n",
    "            print(\"Error:\",exp)\n",
    "    elif operation.lower() == \"mul\":\n",
    "        try:\n",
    "            return a*b\n",
    "        except Exception as exp:\n",
    "            print(\"Error:\",exp)\n",
    "    elif operation.lower() == \"div\":\n",
    "        try:\n",
    "            return a/b\n",
    "        except Exception as exp:\n",
    "            print(\"Error:\",exp)\n",
    "    else:\n",
    "        print(\"Please select valid operation.\")\n",
    "\n",
    "firstNumber = int(input(\"Enter first number: \"))\n",
    "secondNumber = int(input(\"Enter second number: \"))\n",
    "operationChoice = input(\"Please select your opperation: \")\n",
    "\n",
    "result = opeartion(operationChoice, firstNumber, secondNumber)\n",
    "print(result)"
   ]
  },
  {
   "cell_type": "code",
   "execution_count": 4,
   "id": "0c548155",
   "metadata": {},
   "outputs": [
    {
     "name": "stdout",
     "output_type": "stream",
     "text": [
      "Code that generate exception\n",
      "Code to run when exception doesnot occure.\n",
      "Run in any condition.\n"
     ]
    }
   ],
   "source": [
    "try:\n",
    "    print(\"Code that generate exception\")\n",
    "except:\n",
    "    print(\"Catch the exception and show the error message.\")\n",
    "else:\n",
    "    print(\"Code to run when exception doesnot occure.\")\n",
    "finally:\n",
    "    print(\"Run in any condition.\")"
   ]
  },
  {
   "cell_type": "markdown",
   "id": "86688f43",
   "metadata": {},
   "source": [
    "## Raising exception in python"
   ]
  },
  {
   "cell_type": "code",
   "execution_count": 8,
   "id": "3b85149a",
   "metadata": {},
   "outputs": [
    {
     "name": "stdout",
     "output_type": "stream",
     "text": [
      "Please enter any number: 0\n",
      "The value of a should be greater than 0.\n"
     ]
    }
   ],
   "source": [
    "a = int(input(\"Please enter any number: \"))\n",
    "try:\n",
    "    if a <= 0:\n",
    "        raise ValueError(\"The value of a should be greater than 0.\")\n",
    "    print(a)\n",
    "except ValueError as exp:\n",
    "    print(exp)"
   ]
  },
  {
   "cell_type": "code",
   "execution_count": null,
   "id": "ccaa34ae",
   "metadata": {},
   "outputs": [],
   "source": []
  }
 ],
 "metadata": {
  "kernelspec": {
   "display_name": "Python 3 (ipykernel)",
   "language": "python",
   "name": "python3"
  },
  "language_info": {
   "codemirror_mode": {
    "name": "ipython",
    "version": 3
   },
   "file_extension": ".py",
   "mimetype": "text/x-python",
   "name": "python",
   "nbconvert_exporter": "python",
   "pygments_lexer": "ipython3",
   "version": "3.7.8rc1"
  }
 },
 "nbformat": 4,
 "nbformat_minor": 5
}
